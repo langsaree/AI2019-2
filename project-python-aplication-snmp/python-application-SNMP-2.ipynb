{
 "cells": [
  {
   "cell_type": "markdown",
   "metadata": {},
   "source": [
    "### การเขียนโปรแกรมติดต่อ SNMP\n",
    "##### morning session 2"
   ]
  },
  {
   "cell_type": "code",
   "execution_count": 1,
   "metadata": {
    "scrolled": true
   },
   "outputs": [
    {
     "name": "stdout",
     "output_type": "stream",
     "text": [
      "Collecting pysnmp\n",
      "\u001b[?25l  Downloading https://files.pythonhosted.org/packages/a7/e9/d3e61ca7f167748040c8701c50572f4cc43a266327d2b43f3b3a787e02df/pysnmp-4.4.11-py2.py3-none-any.whl (296kB)\n",
      "\u001b[K     |████████████████████████████████| 296kB 321kB/s eta 0:00:01\n",
      "\u001b[?25hCollecting pyasn1>=0.2.3 (from pysnmp)\n",
      "\u001b[?25l  Downloading https://files.pythonhosted.org/packages/6a/6e/209351ec34b7d7807342e2bb6ff8a96eef1fd5dcac13bdbadf065c2bb55c/pyasn1-0.4.6-py2.py3-none-any.whl (75kB)\n",
      "\u001b[K     |████████████████████████████████| 81kB 592kB/s eta 0:00:011\n",
      "\u001b[?25hCollecting pycryptodomex (from pysnmp)\n",
      "\u001b[?25l  Downloading https://files.pythonhosted.org/packages/e2/e7/4e473f5ef6fa301f4921cf9f8c3936080b2cbb4b073c2c45e5302c001097/pycryptodomex-3.9.0-cp37-cp37m-macosx_10_6_intel.whl (10.1MB)\n",
      "\u001b[K     |████████████████████████████████| 10.1MB 1.5MB/s eta 0:00:01\n",
      "\u001b[?25hCollecting pysmi (from pysnmp)\n",
      "\u001b[?25l  Downloading https://files.pythonhosted.org/packages/1f/fc/02361d1c2b247de73070c457c4da98c448693154894c14f2d7b48dfabf7e/pysmi-0.3.4-py2.py3-none-any.whl (80kB)\n",
      "\u001b[K     |████████████████████████████████| 81kB 1.7MB/s eta 0:00:01\n",
      "\u001b[?25hRequirement already satisfied: ply in /Users/kholed/anaconda3/lib/python3.7/site-packages (from pysmi->pysnmp) (3.11)\n",
      "Installing collected packages: pyasn1, pycryptodomex, pysmi, pysnmp\n",
      "Successfully installed pyasn1-0.4.6 pycryptodomex-3.9.0 pysmi-0.3.4 pysnmp-4.4.11\n",
      "Note: you may need to restart the kernel to use updated packages.\n"
     ]
    }
   ],
   "source": [
    "pip install pysnmp"
   ]
  },
  {
   "cell_type": "code",
   "execution_count": 2,
   "metadata": {},
   "outputs": [],
   "source": [
    "from pysnmp.entity.rfc3413.oneliner import cmdgen"
   ]
  },
  {
   "cell_type": "code",
   "execution_count": 3,
   "metadata": {},
   "outputs": [],
   "source": [
    "cmdGen = cmdgen.CommandGenerator()"
   ]
  },
  {
   "cell_type": "code",
   "execution_count": 3,
   "metadata": {},
   "outputs": [],
   "source": [
    "def snmp(ip, community, oid):\n",
    "    errorIndication, errorStatus, errorIndex, varBinds = cmdGen.getCmd(\n",
    "        cmdgen.CommunityData(community),\n",
    "        cmdgen.UdpTransportTarget((ip, 161)),\n",
    "        oid,\n",
    "        lookupNames=True,\n",
    "        lookupValues=True\n",
    "    )\n",
    "    name, value = varBinds[0]\n",
    "    print(\"name : \",name)\n",
    "    print(\"value : \", value)\n",
    "    print(\"print : \", value.prettyPrint())\n",
    "    print(\"prettyprint : \", name.prettyPrint())"
   ]
  },
  {
   "cell_type": "code",
   "execution_count": 4,
   "metadata": {},
   "outputs": [
    {
     "name": "stdout",
     "output_type": "stream",
     "text": [
      "name :  1.3.6.1.2.1.1.3.0\n",
      "value :  857001855\n",
      "print :  857001855\n",
      "prettyprint :  SNMPv2-MIB::sysUpTime.0\n"
     ]
    }
   ],
   "source": [
    "snmp(\"10.10.2.20\",\"YRUMRTG\", \"1.3.6.1.2.1.1.3.0\") #linux"
   ]
  },
  {
   "cell_type": "code",
   "execution_count": 6,
   "metadata": {},
   "outputs": [
    {
     "name": "stdout",
     "output_type": "stream",
     "text": [
      "name :  1.3.6.1.2.1.1.3.0\n",
      "value :  17346715\n",
      "print :  17346715\n",
      "prettyprint :  SNMPv2-MIB::sysUpTime.0\n"
     ]
    }
   ],
   "source": [
    "snmp(\"10.10.19.55\",\"test\", \"1.3.6.1.2.1.1.3.0\") # switch"
   ]
  },
  {
   "cell_type": "code",
   "execution_count": 22,
   "metadata": {},
   "outputs": [],
   "source": [
    "# for multiple looping\n",
    "no1 = {\n",
    "    'ip':\"10.10.2.19\",\n",
    "    'community':\"YRUMRTG\",\n",
    "    'oid':\"1.3.6.1.2.1.1.3.0\"\n",
    "}\n",
    "\n",
    "no2 = {\n",
    "    'ip':\"10.10.2.19\",\n",
    "    'community':\"test\",\n",
    "    'oid':\"1.3.6.1.2.1.1.3.0\"\n",
    "}"
   ]
  },
  {
   "cell_type": "code",
   "execution_count": 94,
   "metadata": {},
   "outputs": [
    {
     "data": {
      "text/plain": [
       "dict_keys(['ip', 'community', 'oid'])"
      ]
     },
     "execution_count": 94,
     "metadata": {},
     "output_type": "execute_result"
    }
   ],
   "source": [
    "no2.keys()"
   ]
  },
  {
   "cell_type": "code",
   "execution_count": null,
   "metadata": {},
   "outputs": [],
   "source": [
    "machine = ['no1', 'n02']"
   ]
  },
  {
   "cell_type": "code",
   "execution_count": 93,
   "metadata": {},
   "outputs": [
    {
     "ename": "TypeError",
     "evalue": "list indices must be integers or slices, not str",
     "output_type": "error",
     "traceback": [
      "\u001b[0;31m---------------------------------------------------------------------------\u001b[0m",
      "\u001b[0;31mTypeError\u001b[0m                                 Traceback (most recent call last)",
      "\u001b[0;32m<ipython-input-93-404fba58d46d>\u001b[0m in \u001b[0;36m<module>\u001b[0;34m\u001b[0m\n\u001b[0;32m----> 1\u001b[0;31m \u001b[0mmachine\u001b[0m\u001b[0;34m[\u001b[0m\u001b[0;34m'0'\u001b[0m\u001b[0;34m]\u001b[0m\u001b[0;34m\u001b[0m\u001b[0;34m\u001b[0m\u001b[0m\n\u001b[0m",
      "\u001b[0;31mTypeError\u001b[0m: list indices must be integers or slices, not str"
     ]
    }
   ],
   "source": [
    "machine['0']"
   ]
  },
  {
   "cell_type": "code",
   "execution_count": 10,
   "metadata": {},
   "outputs": [
    {
     "name": "stdout",
     "output_type": "stream",
     "text": [
      "10.10.2.19 YRUMRTG 1.3.6.1.2.1.1.3.0\n"
     ]
    }
   ],
   "source": [
    "no1['ip'], no1['community'], no1['oid'])\n",
    "print (no1['ip'], no1['community'], no1['oid'])"
   ]
  },
  {
   "cell_type": "code",
   "execution_count": 23,
   "metadata": {},
   "outputs": [
    {
     "name": "stdout",
     "output_type": "stream",
     "text": [
      "ERROR\n",
      "ERROR\n",
      "ERROR\n"
     ]
    }
   ],
   "source": [
    "oid = \"1.3.6.1.2.1.1.3.0\"\n",
    "for i in no1:\n",
    "    try:\n",
    "        snmp(i['ip'], i['community'],oid)\n",
    "    except:\n",
    "        print(\"ERROR\")"
   ]
  },
  {
   "cell_type": "code",
   "execution_count": null,
   "metadata": {},
   "outputs": [],
   "source": []
  },
  {
   "cell_type": "code",
   "execution_count": 64,
   "metadata": {},
   "outputs": [
    {
     "data": {
      "text/plain": [
       "'99 วัน 4:9:15.55'"
      ]
     },
     "execution_count": 64,
     "metadata": {},
     "output_type": "execute_result"
    }
   ],
   "source": [
    "def runtime(tmp):\n",
    "    time = tmp // 100\n",
    "    day = time // 86400\n",
    "    t2 = time - (day * 86400)\n",
    "    hour = t2 // 3600\n",
    "    t3 = t2 - (hour * 3600)\n",
    "    min = t3 // 60\n",
    "    ms = time % 60\n",
    "    subms = time % 100\n",
    "    dt = str(day) + ' วัน ' + str(hour) + ':' + str(min) + ':' + str(ms) + '.' + str(subms)\n",
    "    return dt\n",
    "\n",
    "runtime(856855595)"
   ]
  },
  {
   "cell_type": "code",
   "execution_count": null,
   "metadata": {},
   "outputs": [],
   "source": [
    "from pysnmp.entity.rfc3413.oneliner import cmdgen\n",
    "cmdGen = cmdgen.CommandGenerator()\n",
    "\n",
    "from datetime import datetime\n",
    "import os\n",
    "\n",
    "def convertTime(originalTime):\n",
    "    time = originalTime // 100\n",
    "    day = time // 86400\n",
    "    t2 = time - (day * 86400)\n",
    "    hour = t2 // 3600\n",
    "    t3 = t2 - (hour * 3600)\n",
    "    min = t3 // 60\n",
    "    ms = time % 60\n",
    "    subms = time % 100\n",
    "    showTime = str(day) + ' Days, ' + str(hour) + ':' + str(min) + ':' + str(ms) + '.' + str(subms)\n",
    "    return showTime\n",
    "\n",
    "server1 = [\"10.10.2.19\",'161',\"YRUMRTG\"]  # linux\n",
    "switch1 = [\"10.10.19.55\",'161',\"test\"]    # switch\n",
    "linux1 = [\"10.10.2.20\",'161',\"YRUMRTG\"]  \n",
    "linux2 = [\"10.10.2.21\",'161',\"YRUMRTG\"]\n",
    "\n",
    "\n",
    "serverList = [server1, switch1, linux1, linux2]\n",
    "\n",
    "uptimeName = ['System Uptime']\n",
    "uptime = ['1.3.6.1.2.1.1.3.0']\n",
    "\n",
    "LoadName = ['1 minute Load',\n",
    "            '5 minute Load',\n",
    "            '15 minute Load']\n",
    "Load = ['1.3.6.1.4.1.2021.10.1.3.1',\n",
    "        '1.3.6.1.4.1.2021.10.1.3.2',\n",
    "        '1.3.6.1.4.1.2021.10.1.3.3']\n",
    "\n",
    "CPUName = ['Percentage of user CPU time',\n",
    "           'Raw user cpu time',\n",
    "           'Percentages of system CPU time',\n",
    "           'Raw system cpu time',\n",
    "           'Percentages of idle CPU time',\n",
    "           'Raw idle cpu time',\n",
    "           'Raw nice cpu time']\n",
    "CPU = ['1.3.6.1.4.1.2021.11.9.0',\n",
    "       '1.3.6.1.4.1.2021.11.50.0',\n",
    "       '1.3.6.1.4.1.2021.11.10.0',\n",
    "       '1.3.6.1.4.1.2021.11.52.0',\n",
    "       '1.3.6.1.4.1.2021.11.11.0',\n",
    "       '1.3.6.1.4.1.2021.11.53.0',\n",
    "       '1.3.6.1.4.1.2021.11.51.0']\n",
    "\n",
    "memoryName = ['Total Swap Size',\n",
    "              'Available Swap Space',\n",
    "              'Total RAM in machine',\n",
    "              'Total RAM used',\n",
    "              'Total RAM Free',\n",
    "              'Total RAM Buffered',\n",
    "              'Total Cached Memory']\n",
    "memory = ['1.3.6.1.4.1.2021.4.3.0',\n",
    "          '1.3.6.1.4.1.2021.4.4.0',\n",
    "          '1.3.6.1.4.1.2021.4.5.0',\n",
    "          '1.3.6.1.4.1.2021.4.6.0',\n",
    "          '1.3.6.1.4.1.2021.4.11.0',\n",
    "          '1.3.6.1.4.1.2021.4.14.0',\n",
    "          '1.3.6.1.4.1.2021.4.15.0']\n",
    "\n",
    "oidSequenceList = [uptimeName,uptime,\n",
    "                   LoadName,Load,\n",
    "                   CPUName,CPU,\n",
    "                   memoryName,memory]\n",
    "\n",
    "\n",
    "for server in serverList:\n",
    "    SNMP_HOST = server[0]\n",
    "    SNMP_PORT = server[1]\n",
    "    SNMP_COMMUNITY = server[2]\n",
    "\n",
    "    snmpData = [SNMP_HOST]\n",
    "    print(\"=\"*28)\n",
    "    response = os.system(\"ping -c 1 \" + snmpData[0])\n",
    "    print(SNMP_HOST,SNMP_PORT,SNMP_COMMUNITY, response)\n",
    "    if response != 0:\n",
    "        for i in range(0, len(oidSequenceList) - 1, 2):\n",
    "            oidNameList = oidSequenceList[i]\n",
    "            oidList = oidSequenceList[i + 1]\n",
    "            for j in range(len(oidList)):\n",
    "                cmdGen = cmdgen.CommandGenerator()\n",
    "                errorIndication, errorStatus, errorIndex, varBinds = cmdGen.getCmd(\n",
    "                    cmdgen.CommunityData(SNMP_COMMUNITY),\n",
    "                    cmdgen.UdpTransportTarget((SNMP_HOST, SNMP_PORT)),\n",
    "                    oidList[j])\n",
    "                if errorIndication:\n",
    "                    print(errorIndication)\n",
    "                    break\n",
    "                else:\n",
    "                    if errorStatus:\n",
    "                        print('%s at %s' % (\n",
    "                            errorStatus.prettyPrint(), errorIndex and varBinds[int(errorIndex) - 1] or '?'))\n",
    "                    else:\n",
    "                        for name, val in varBinds:\n",
    "                            if oidList[j] == '1.3.6.1.2.1.1.3.0':\n",
    "                                convert_time = str(val)\n",
    "                                showTime = convertTime(int(convert_time))\n",
    "                                print(oidNameList[j], '=', showTime)\n",
    "                                snmpData.append(showTime)\n",
    "                            else:\n",
    "                                print(oidNameList[j], '=', val)\n",
    "                                snmpData.append(str(val))\n",
    "        print(snmpData)\n",
    "    else:\n",
    "        for i in range(1, 19):\n",
    "            snmpData.append(\"NA\")\n",
    "        print(snmpData)"
   ]
  },
  {
   "cell_type": "code",
   "execution_count": 76,
   "metadata": {},
   "outputs": [],
   "source": [
    "from time import ctime"
   ]
  },
  {
   "cell_type": "code",
   "execution_count": 83,
   "metadata": {},
   "outputs": [
    {
     "name": "stdout",
     "output_type": "stream",
     "text": [
      "<built-in function ctime>\n"
     ]
    }
   ],
   "source": [
    "print(ctime)"
   ]
  },
  {
   "cell_type": "code",
   "execution_count": null,
   "metadata": {},
   "outputs": [],
   "source": []
  },
  {
   "cell_type": "code",
   "execution_count": 1,
   "metadata": {},
   "outputs": [
    {
     "name": "stdout",
     "output_type": "stream",
     "text": [
      "============================\n",
      "10.10.2.19 161 YRUMRTG 0\n",
      "============================\n",
      "10.10.2.20 161 YRUMRTG 0\n",
      "============================\n",
      "10.10.2.21 161 YRUMRTG 0\n",
      "============================\n",
      "10.10.2.200 161 YRUMRTG 512\n",
      "No SNMP response received before timeout\n",
      "No SNMP response received before timeout\n",
      "No SNMP response received before timeout\n"
     ]
    },
    {
     "ename": "KeyboardInterrupt",
     "evalue": "",
     "output_type": "error",
     "traceback": [
      "\u001b[0;31m---------------------------------------------------------------------------\u001b[0m",
      "\u001b[0;31mKeyboardInterrupt\u001b[0m                         Traceback (most recent call last)",
      "\u001b[0;32m<ipython-input-1-91777aa3515e>\u001b[0m in \u001b[0;36m<module>\u001b[0;34m\u001b[0m\n\u001b[1;32m    122\u001b[0m \u001b[0;32mfrom\u001b[0m \u001b[0mtime\u001b[0m \u001b[0;32mimport\u001b[0m \u001b[0msleep\u001b[0m\u001b[0;34m\u001b[0m\u001b[0;34m\u001b[0m\u001b[0m\n\u001b[1;32m    123\u001b[0m \u001b[0;32mfor\u001b[0m \u001b[0mi\u001b[0m \u001b[0;32min\u001b[0m \u001b[0mrange\u001b[0m\u001b[0;34m(\u001b[0m\u001b[0;36m10\u001b[0m\u001b[0;34m)\u001b[0m\u001b[0;34m:\u001b[0m\u001b[0;34m\u001b[0m\u001b[0;34m\u001b[0m\u001b[0m\n\u001b[0;32m--> 124\u001b[0;31m     \u001b[0mmain\u001b[0m\u001b[0;34m(\u001b[0m\u001b[0;34m)\u001b[0m\u001b[0;34m\u001b[0m\u001b[0;34m\u001b[0m\u001b[0m\n\u001b[0m\u001b[1;32m    125\u001b[0m     \u001b[0msleep\u001b[0m\u001b[0;34m(\u001b[0m\u001b[0;36m1\u001b[0m\u001b[0;34m)\u001b[0m\u001b[0;34m\u001b[0m\u001b[0;34m\u001b[0m\u001b[0m\n",
      "\u001b[0;32m<ipython-input-1-91777aa3515e>\u001b[0m in \u001b[0;36mmain\u001b[0;34m()\u001b[0m\n\u001b[1;32m     91\u001b[0m                         \u001b[0mcmdgen\u001b[0m\u001b[0;34m.\u001b[0m\u001b[0mCommunityData\u001b[0m\u001b[0;34m(\u001b[0m\u001b[0mSNMP_COMMUNITY\u001b[0m\u001b[0;34m)\u001b[0m\u001b[0;34m,\u001b[0m\u001b[0;34m\u001b[0m\u001b[0;34m\u001b[0m\u001b[0m\n\u001b[1;32m     92\u001b[0m                         \u001b[0mcmdgen\u001b[0m\u001b[0;34m.\u001b[0m\u001b[0mUdpTransportTarget\u001b[0m\u001b[0;34m(\u001b[0m\u001b[0;34m(\u001b[0m\u001b[0mSNMP_HOST\u001b[0m\u001b[0;34m,\u001b[0m \u001b[0mSNMP_PORT\u001b[0m\u001b[0;34m)\u001b[0m\u001b[0;34m)\u001b[0m\u001b[0;34m,\u001b[0m\u001b[0;34m\u001b[0m\u001b[0;34m\u001b[0m\u001b[0m\n\u001b[0;32m---> 93\u001b[0;31m                         oidList[j])\n\u001b[0m\u001b[1;32m     94\u001b[0m                     \u001b[0;32mif\u001b[0m \u001b[0merrorIndication\u001b[0m\u001b[0;34m:\u001b[0m\u001b[0;34m\u001b[0m\u001b[0;34m\u001b[0m\u001b[0m\n\u001b[1;32m     95\u001b[0m                         \u001b[0mprint\u001b[0m\u001b[0;34m(\u001b[0m\u001b[0merrorIndication\u001b[0m\u001b[0;34m)\u001b[0m\u001b[0;34m\u001b[0m\u001b[0;34m\u001b[0m\u001b[0m\n",
      "\u001b[0;32m~/anaconda3/lib/python3.7/site-packages/pysnmp/entity/rfc3413/oneliner/cmdgen.py\u001b[0m in \u001b[0;36mgetCmd\u001b[0;34m(self, authData, transportTarget, *varNames, **kwargs)\u001b[0m\n\u001b[1;32m    181\u001b[0m                                                   kwargs.get('contextName', null)),\n\u001b[1;32m    182\u001b[0m                                       \u001b[0;34m*\u001b[0m\u001b[0;34m[\u001b[0m\u001b[0;34m(\u001b[0m\u001b[0mx\u001b[0m\u001b[0;34m,\u001b[0m \u001b[0mself\u001b[0m\u001b[0;34m.\u001b[0m\u001b[0m_null\u001b[0m\u001b[0;34m)\u001b[0m \u001b[0;32mfor\u001b[0m \u001b[0mx\u001b[0m \u001b[0;32min\u001b[0m \u001b[0mvarNames\u001b[0m\u001b[0;34m]\u001b[0m\u001b[0;34m,\u001b[0m\u001b[0;34m\u001b[0m\u001b[0;34m\u001b[0m\u001b[0m\n\u001b[0;32m--> 183\u001b[0;31m                                       **kwargs):\n\u001b[0m\u001b[1;32m    184\u001b[0m             \u001b[0;32mbreak\u001b[0m\u001b[0;34m\u001b[0m\u001b[0;34m\u001b[0m\u001b[0m\n\u001b[1;32m    185\u001b[0m         \u001b[0;32mreturn\u001b[0m \u001b[0merrorIndication\u001b[0m\u001b[0;34m,\u001b[0m \u001b[0merrorStatus\u001b[0m\u001b[0;34m,\u001b[0m \u001b[0merrorIndex\u001b[0m\u001b[0;34m,\u001b[0m \u001b[0mvarBinds\u001b[0m\u001b[0;34m\u001b[0m\u001b[0;34m\u001b[0m\u001b[0m\n",
      "\u001b[0;32m~/anaconda3/lib/python3.7/site-packages/pysnmp/hlapi/asyncore/sync/cmdgen.py\u001b[0m in \u001b[0;36mgetCmd\u001b[0;34m(snmpEngine, authData, transportTarget, contextData, *varBinds, **options)\u001b[0m\n\u001b[1;32m    111\u001b[0m                                  lookupMib=options.get('lookupMib', True)))\n\u001b[1;32m    112\u001b[0m \u001b[0;34m\u001b[0m\u001b[0m\n\u001b[0;32m--> 113\u001b[0;31m             \u001b[0msnmpEngine\u001b[0m\u001b[0;34m.\u001b[0m\u001b[0mtransportDispatcher\u001b[0m\u001b[0;34m.\u001b[0m\u001b[0mrunDispatcher\u001b[0m\u001b[0;34m(\u001b[0m\u001b[0;34m)\u001b[0m\u001b[0;34m\u001b[0m\u001b[0;34m\u001b[0m\u001b[0m\n\u001b[0m\u001b[1;32m    114\u001b[0m \u001b[0;34m\u001b[0m\u001b[0m\n\u001b[1;32m    115\u001b[0m             \u001b[0merrorIndication\u001b[0m \u001b[0;34m=\u001b[0m \u001b[0mcbCtx\u001b[0m\u001b[0;34m[\u001b[0m\u001b[0;34m'errorIndication'\u001b[0m\u001b[0;34m]\u001b[0m\u001b[0;34m\u001b[0m\u001b[0;34m\u001b[0m\u001b[0m\n",
      "\u001b[0;32m~/anaconda3/lib/python3.7/site-packages/pysnmp/carrier/asyncore/dispatch.py\u001b[0m in \u001b[0;36mrunDispatcher\u001b[0;34m(self, timeout)\u001b[0m\n\u001b[1;32m     44\u001b[0m             \u001b[0;32mtry\u001b[0m\u001b[0;34m:\u001b[0m\u001b[0;34m\u001b[0m\u001b[0;34m\u001b[0m\u001b[0m\n\u001b[1;32m     45\u001b[0m                 loop(timeout or self.getTimerResolution(),\n\u001b[0;32m---> 46\u001b[0;31m                      use_poll=True, map=self.__sockMap, count=1)\n\u001b[0m\u001b[1;32m     47\u001b[0m             \u001b[0;32mexcept\u001b[0m \u001b[0mKeyboardInterrupt\u001b[0m\u001b[0;34m:\u001b[0m\u001b[0;34m\u001b[0m\u001b[0;34m\u001b[0m\u001b[0m\n\u001b[1;32m     48\u001b[0m                 \u001b[0;32mraise\u001b[0m\u001b[0;34m\u001b[0m\u001b[0;34m\u001b[0m\u001b[0m\n",
      "\u001b[0;32m~/anaconda3/lib/python3.7/asyncore.py\u001b[0m in \u001b[0;36mloop\u001b[0;34m(timeout, use_poll, map, count)\u001b[0m\n\u001b[1;32m    205\u001b[0m     \u001b[0;32melse\u001b[0m\u001b[0;34m:\u001b[0m\u001b[0;34m\u001b[0m\u001b[0;34m\u001b[0m\u001b[0m\n\u001b[1;32m    206\u001b[0m         \u001b[0;32mwhile\u001b[0m \u001b[0mmap\u001b[0m \u001b[0;32mand\u001b[0m \u001b[0mcount\u001b[0m \u001b[0;34m>\u001b[0m \u001b[0;36m0\u001b[0m\u001b[0;34m:\u001b[0m\u001b[0;34m\u001b[0m\u001b[0;34m\u001b[0m\u001b[0m\n\u001b[0;32m--> 207\u001b[0;31m             \u001b[0mpoll_fun\u001b[0m\u001b[0;34m(\u001b[0m\u001b[0mtimeout\u001b[0m\u001b[0;34m,\u001b[0m \u001b[0mmap\u001b[0m\u001b[0;34m)\u001b[0m\u001b[0;34m\u001b[0m\u001b[0;34m\u001b[0m\u001b[0m\n\u001b[0m\u001b[1;32m    208\u001b[0m             \u001b[0mcount\u001b[0m \u001b[0;34m=\u001b[0m \u001b[0mcount\u001b[0m \u001b[0;34m-\u001b[0m \u001b[0;36m1\u001b[0m\u001b[0;34m\u001b[0m\u001b[0;34m\u001b[0m\u001b[0m\n\u001b[1;32m    209\u001b[0m \u001b[0;34m\u001b[0m\u001b[0m\n",
      "\u001b[0;32m~/anaconda3/lib/python3.7/asyncore.py\u001b[0m in \u001b[0;36mpoll2\u001b[0;34m(timeout, map)\u001b[0m\n\u001b[1;32m    181\u001b[0m                 \u001b[0mpollster\u001b[0m\u001b[0;34m.\u001b[0m\u001b[0mregister\u001b[0m\u001b[0;34m(\u001b[0m\u001b[0mfd\u001b[0m\u001b[0;34m,\u001b[0m \u001b[0mflags\u001b[0m\u001b[0;34m)\u001b[0m\u001b[0;34m\u001b[0m\u001b[0;34m\u001b[0m\u001b[0m\n\u001b[1;32m    182\u001b[0m \u001b[0;34m\u001b[0m\u001b[0m\n\u001b[0;32m--> 183\u001b[0;31m         \u001b[0mr\u001b[0m \u001b[0;34m=\u001b[0m \u001b[0mpollster\u001b[0m\u001b[0;34m.\u001b[0m\u001b[0mpoll\u001b[0m\u001b[0;34m(\u001b[0m\u001b[0mtimeout\u001b[0m\u001b[0;34m)\u001b[0m\u001b[0;34m\u001b[0m\u001b[0;34m\u001b[0m\u001b[0m\n\u001b[0m\u001b[1;32m    184\u001b[0m         \u001b[0;32mfor\u001b[0m \u001b[0mfd\u001b[0m\u001b[0;34m,\u001b[0m \u001b[0mflags\u001b[0m \u001b[0;32min\u001b[0m \u001b[0mr\u001b[0m\u001b[0;34m:\u001b[0m\u001b[0;34m\u001b[0m\u001b[0;34m\u001b[0m\u001b[0m\n\u001b[1;32m    185\u001b[0m             \u001b[0mobj\u001b[0m \u001b[0;34m=\u001b[0m \u001b[0mmap\u001b[0m\u001b[0;34m.\u001b[0m\u001b[0mget\u001b[0m\u001b[0;34m(\u001b[0m\u001b[0mfd\u001b[0m\u001b[0;34m)\u001b[0m\u001b[0;34m\u001b[0m\u001b[0;34m\u001b[0m\u001b[0m\n",
      "\u001b[0;31mKeyboardInterrupt\u001b[0m: "
     ]
    }
   ],
   "source": [
    "from pysnmp.entity.rfc3413.oneliner import cmdgen\n",
    "cmdGen = cmdgen.CommandGenerator()\n",
    "\n",
    "from datetime import datetime\n",
    "import os\n",
    "\n",
    "def convertTime(originalTime):\n",
    "    time = originalTime // 100\n",
    "    day = time // 86400\n",
    "    t2 = time - (day * 86400)\n",
    "    hour = t2 // 3600\n",
    "    t3 = t2 - (hour * 3600)\n",
    "    min = t3 // 60\n",
    "    ms = time % 60\n",
    "    subms = time % 100\n",
    "    showTime = str(day) + ' Days, ' + str(hour) + ':' + str(min) + ':' + str(ms) + '.' + str(subms)\n",
    "    return showTime\n",
    "\n",
    "def main():\n",
    "    tmp = \"\"\n",
    "    Linux1 = [\"10.10.2.19\",'161',\"YRUMRTG\"]  # linux\n",
    "    Switch1 = [\"10.10.19.55\",'161',\"test\"]    # switch\n",
    "    Linux2 = [\"10.10.2.20\",'161',\"YRUMRTG\"]    # Linux\n",
    "    Linux3 = [\"10.10.2.21\",'161',\"YRUMRTG\"]    # Linux\n",
    "    Linux4 = [\"10.10.2.200\",'161',\"YRUMRTG\"]    # Linux\n",
    "    \n",
    "    serverList = [Linux1, Linux2, Linux3,Linux4, Switch1]\n",
    "\n",
    "    uptimeName = ['System Uptime']\n",
    "    uptime = ['1.3.6.1.2.1.1.3.0']\n",
    "\n",
    "    LoadName = ['1 minute Load',\n",
    "                '5 minute Load',\n",
    "                '15 minute Load']\n",
    "    Load = ['1.3.6.1.4.1.2021.10.1.3.1',\n",
    "            '1.3.6.1.4.1.2021.10.1.3.2',\n",
    "            '1.3.6.1.4.1.2021.10.1.3.3']\n",
    "\n",
    "    CPUName = ['Percentage of user CPU time',\n",
    "               'Raw user cpu time',\n",
    "               'Percentages of system CPU time',\n",
    "               'Raw system cpu time',\n",
    "               'Percentages of idle CPU time',\n",
    "               'Raw idle cpu time',\n",
    "               'Raw nice cpu time']\n",
    "    CPU = ['1.3.6.1.4.1.2021.11.9.0',\n",
    "           '1.3.6.1.4.1.2021.11.50.0',\n",
    "           '1.3.6.1.4.1.2021.11.10.0',\n",
    "           '1.3.6.1.4.1.2021.11.52.0',\n",
    "           '1.3.6.1.4.1.2021.11.11.0',\n",
    "           '1.3.6.1.4.1.2021.11.53.0',\n",
    "           '1.3.6.1.4.1.2021.11.51.0']\n",
    "\n",
    "    memoryName = ['Total Swap Size',\n",
    "                  'Available Swap Space',\n",
    "                  'Total RAM in machine',\n",
    "                  'Total RAM used',\n",
    "                  'Total RAM Free',\n",
    "                  'Total RAM Buffered',\n",
    "                  'Total Cached Memory']\n",
    "    memory = ['1.3.6.1.4.1.2021.4.3.0',\n",
    "              '1.3.6.1.4.1.2021.4.4.0',\n",
    "              '1.3.6.1.4.1.2021.4.5.0',\n",
    "              '1.3.6.1.4.1.2021.4.6.0',\n",
    "              '1.3.6.1.4.1.2021.4.11.0',\n",
    "              '1.3.6.1.4.1.2021.4.14.0',\n",
    "              '1.3.6.1.4.1.2021.4.15.0']\n",
    "\n",
    "    oidSequenceList = [uptimeName,uptime,\n",
    "                       LoadName,Load,\n",
    "                       CPUName,CPU,\n",
    "                       memoryName,memory]\n",
    "\n",
    "\n",
    "    for server in serverList:\n",
    "        SNMP_HOST = server[0]\n",
    "        SNMP_PORT = server[1]\n",
    "        SNMP_COMMUNITY = server[2]\n",
    "\n",
    "        snmpData = [SNMP_HOST]\n",
    "        print(\"=\"*28)\n",
    "        response = os.system(\"ping -c 1 \" + snmpData[0])\n",
    "        print(SNMP_HOST,SNMP_PORT,SNMP_COMMUNITY, response)\n",
    "        if response != 0:\n",
    "            for i in range(0, len(oidSequenceList) - 1, 2):\n",
    "                oidNameList = oidSequenceList[i]\n",
    "                oidList = oidSequenceList[i + 1]\n",
    "                for j in range(len(oidList)):\n",
    "                    cmdGen = cmdgen.CommandGenerator()\n",
    "                    errorIndication, errorStatus, errorIndex, varBinds = cmdGen.getCmd(\n",
    "                        cmdgen.CommunityData(SNMP_COMMUNITY),\n",
    "                        cmdgen.UdpTransportTarget((SNMP_HOST, SNMP_PORT)),\n",
    "                        oidList[j])\n",
    "                    if errorIndication:\n",
    "                        print(errorIndication)\n",
    "                        break\n",
    "                    else:\n",
    "                        if errorStatus:\n",
    "                            print('%s at %s' % (\n",
    "                                errorStatus.prettyPrint(), errorIndex and varBinds[int(errorIndex) - 1] or '?'))\n",
    "                        else:\n",
    "                            for name, val in varBinds:\n",
    "                                if oidList[j] == '1.3.6.1.2.1.1.3.0':\n",
    "                                    convert_time = str(val)\n",
    "                                    showTime = convertTime(int(convert_time))\n",
    "                                    print(oidNameList[j], '=', showTime)\n",
    "                                    snmpData.append(showTime)\n",
    "                                else:\n",
    "                                    print(oidNameList[j], '=', val)\n",
    "                                    snmpData.append(str(val))\n",
    "            tmp = str(snmpData)\n",
    "            tmp = tmp.replace(\"', '\",\"|\")[2:-2]\n",
    "            open(\"log.txt\",\"a\").write(tmp+\"\\n\")\n",
    "\n",
    "            #print(snmpData)\n",
    "        else:\n",
    "            for i in range(1, 19):\n",
    "                snmpData.append(\"NA\")\n",
    "            open(\"log.txt\",\"a\").write(tmp+\"\\n\")\n",
    "\n",
    "            \n",
    "from time import sleep \n",
    "for i in range(10):\n",
    "    main()\n",
    "    sleep(1)"
   ]
  },
  {
   "cell_type": "code",
   "execution_count": null,
   "metadata": {},
   "outputs": [],
   "source": []
  }
 ],
 "metadata": {
  "kernelspec": {
   "display_name": "Python 3",
   "language": "python",
   "name": "python3"
  },
  "language_info": {
   "codemirror_mode": {
    "name": "ipython",
    "version": 3
   },
   "file_extension": ".py",
   "mimetype": "text/x-python",
   "name": "python",
   "nbconvert_exporter": "python",
   "pygments_lexer": "ipython3",
   "version": "3.7.3"
  }
 },
 "nbformat": 4,
 "nbformat_minor": 2
}
