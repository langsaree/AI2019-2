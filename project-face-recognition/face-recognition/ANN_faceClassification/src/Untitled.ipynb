{
 "cells": [
  {
   "cell_type": "code",
   "execution_count": 1,
   "metadata": {},
   "outputs": [
    {
     "ename": "SystemError",
     "evalue": "<class 'cv2.CascadeClassifier'> returned a result with an error set",
     "output_type": "error",
     "traceback": [
      "\u001b[1;31m---------------------------------------------------------------------------\u001b[0m",
      "\u001b[1;31merror\u001b[0m                                     Traceback (most recent call last)",
      "\u001b[1;31merror\u001b[0m: OpenCV(4.1.1) C:\\projects\\opencv-python\\opencv\\modules\\objdetect\\src\\cascadedetect.cpp:567: error: (-2:Unspecified error) in function 'bool __cdecl cv::HaarEvaluator::Feature::read(const class cv::FileNode &,const class cv::Size_<int> &)'\n> Invalid HAAR feature (expected: 'rw.r.x < W'), where\n>     'rw.r.x' is 17\n> must be less than\n>     'W' is 15\n",
      "\nThe above exception was the direct cause of the following exception:\n",
      "\u001b[1;31mSystemError\u001b[0m                               Traceback (most recent call last)",
      "\u001b[1;32m<ipython-input-1-11e83f68a4a3>\u001b[0m in \u001b[0;36m<module>\u001b[1;34m\u001b[0m\n\u001b[0;32m      3\u001b[0m \u001b[0meyeCascade\u001b[0m\u001b[1;33m=\u001b[0m\u001b[0mcv2\u001b[0m\u001b[1;33m.\u001b[0m\u001b[0mCascadeClassifier\u001b[0m\u001b[1;33m(\u001b[0m\u001b[1;34m\"../trained_models/detection_models/haarcascade_eye.xml\"\u001b[0m\u001b[1;33m)\u001b[0m\u001b[1;33m\u001b[0m\u001b[1;33m\u001b[0m\u001b[0m\n\u001b[0;32m      4\u001b[0m \u001b[0mnoseCascade\u001b[0m\u001b[1;33m=\u001b[0m\u001b[0mcv2\u001b[0m\u001b[1;33m.\u001b[0m\u001b[0mCascadeClassifier\u001b[0m\u001b[1;33m(\u001b[0m\u001b[1;34m\"../trained_models/detection_models/Nariz.xml\"\u001b[0m\u001b[1;33m)\u001b[0m\u001b[1;33m\u001b[0m\u001b[1;33m\u001b[0m\u001b[0m\n\u001b[1;32m----> 5\u001b[1;33m \u001b[0mmouthCascade\u001b[0m\u001b[1;33m=\u001b[0m\u001b[0mcv2\u001b[0m\u001b[1;33m.\u001b[0m\u001b[0mCascadeClassifier\u001b[0m\u001b[1;33m(\u001b[0m\u001b[1;34m\"../trained_models/detection_models/Mouth.xml\"\u001b[0m\u001b[1;33m)\u001b[0m\u001b[1;33m\u001b[0m\u001b[1;33m\u001b[0m\u001b[0m\n\u001b[0m\u001b[0;32m      6\u001b[0m \u001b[0msmileCascade\u001b[0m\u001b[1;33m=\u001b[0m\u001b[0mcv2\u001b[0m\u001b[1;33m.\u001b[0m\u001b[0mCascadeClassifier\u001b[0m\u001b[1;33m(\u001b[0m\u001b[1;34m\"../trained_models/detection_models/haarcascade_smile.xml\"\u001b[0m\u001b[1;33m)\u001b[0m\u001b[1;33m\u001b[0m\u001b[1;33m\u001b[0m\u001b[0m\n\u001b[0;32m      7\u001b[0m \u001b[1;33m\u001b[0m\u001b[0m\n",
      "\u001b[1;31mSystemError\u001b[0m: <class 'cv2.CascadeClassifier'> returned a result with an error set"
     ]
    }
   ],
   "source": [
    "import cv2\n",
    "faceCascade=cv2.CascadeClassifier(\"../trained_models/detection_models/haarcascade_frontalface_default.xml\")\n",
    "eyeCascade=cv2.CascadeClassifier(\"../trained_models/detection_models/haarcascade_eye.xml\")\n",
    "noseCascade=cv2.CascadeClassifier(\"../trained_models/detection_models/Nariz.xml\")\n",
    "mouthCascade=cv2.CascadeClassifier(\"../trained_models/detection_models/Mouth.xml\")\n",
    "smileCascade=cv2.CascadeClassifier(\"../trained_models/detection_models/haarcascade_smile.xml\")\n",
    "\n",
    "def draw_boundary(img,classifier,scaleFactor,minNeighbors,color,text):\n",
    "        gray=cv2.cvtColor(img,cv2.COLOR_BGR2GRAY)\n",
    "        features=classifier.detectMultiScale(gray,scaleFactor,minNeighbors,minSize=(55, 55))\n",
    "        coords=[]\n",
    "        for (x,y,w,h) in features:\n",
    "                cv2.rectangle(img,(x,y),(x+w,y+h),color,2)\n",
    "                cv2.putText(img,text,(x,y-4),cv2.FONT_HERSHEY_SIMPLEX,0.8,color,2)\n",
    "                coords=[x,y,w,h]\n",
    "        return img,coords \n",
    "        \n",
    "def detect(img,faceCascade,eyeCascade,mouthCascade):\n",
    "        img,coords=draw_boundary(img,faceCascade,1.1,10,(0,0,255),\"Face\")\n",
    "        img,coords=draw_boundary(img,eyeCascade,1.1,10,(255,0,0),\"Eye\")\n",
    "        img,coords=draw_boundary(img,mouthCascade,1.1,20,(0,255,0),\"Mouth\")\n",
    "        return img\n",
    "\n",
    "        \n",
    "cap = cv2.VideoCapture(\"BNK48.mp4\")\n",
    "cap.set(cv2.CAP_PROP_FRAME_WIDTH, 1920)\n",
    "cap.set(cv2.CAP_PROP_FRAME_HEIGHT, 1080)\n",
    "while (True):\n",
    "        ret,frame = cap.read()\n",
    "        frame=detect(frame,faceCascade,eyeCascade,mouthCascade)\n",
    "        cv2.imshow('frame',frame)\n",
    "        if(cv2.waitKey(1) & 0xFF== ord('q')):\n",
    "            break\n",
    "cap.release()\n",
    "cv2.destroyAllWindows()"
   ]
  }
 ],
 "metadata": {
  "kernelspec": {
   "display_name": "Python 3",
   "language": "python",
   "name": "python3"
  },
  "language_info": {
   "codemirror_mode": {
    "name": "ipython",
    "version": 3
   },
   "file_extension": ".py",
   "mimetype": "text/x-python",
   "name": "python",
   "nbconvert_exporter": "python",
   "pygments_lexer": "ipython3",
   "version": "3.7.3"
  }
 },
 "nbformat": 4,
 "nbformat_minor": 2
}
