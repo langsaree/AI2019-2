{
 "cells": [
  {
   "cell_type": "code",
   "execution_count": 1,
   "metadata": {},
   "outputs": [],
   "source": [
    "import cv2\n",
    "\n",
    "faceCascade=cv2.CascadeClassifier(\"haarcascade_frontalface_default.xml\")\n",
    "\n",
    "def create_dataset(img,id,img_id):\n",
    "        cv2.imwrite(\"pic.\"+str(id)+\".\"+str(img_id)+\".jpg\",img)\n",
    "\n",
    "\n",
    "def draw_boundary(img,classifier,scaleFactor,minNeighbors,color,text):\n",
    "        gray = cv2.cvtColor(img, cv2.COLOR_BGR2GRAY)\n",
    "        features=classifier.detectMultiScale(gray,scaleFactor,minNeighbors)\n",
    "        coords=[]\n",
    "        for(x,y,w,h) in features:\n",
    "                cv2.rectangle(img,(x,y),(x+w,y+h),color,2)\n",
    "                cv2.putText(img,text,(x,y-4),cv2.FONT_HERSHEY_SIMPLEX,0.8,color,1,cv2.LINE_AA)\n",
    "                coords=[x,y,w,h]\n",
    "                return coords,img\n",
    "        \n",
    "def detect(img,faceCascade):\n",
    "        color = {\"blue\":(255,0,0), \"red\":(0,0,255), \"green\":(0,255,0), \"white\":(255,255,255)}\n",
    "        coords = draw_boundary(img, faceCascade, 1.1, 10, color['blue'], \"Face\")\n",
    "        return img\n",
    "        \n",
    "cap = cv2.VideoCapture(0)\n",
    "faceCascade = cv2.CascadeClassifier('haarcascade_frontalface_default.xml')\n",
    "\n",
    "while (True):\n",
    "        ret,frame = cap.read()\n",
    "        frame = detect(frame, faceCascade)\n",
    "        cv2.imshow(\"face detection\", frame)\n",
    "        if(cv2.waitKey(1) & 0xFF== ord('q')):\n",
    "            break\n",
    "cap.release()\n",
    "cv2.destroyAllWindows()\n"
   ]
  },
  {
   "cell_type": "code",
   "execution_count": null,
   "metadata": {},
   "outputs": [],
   "source": []
  }
 ],
 "metadata": {
  "kernelspec": {
   "display_name": "Python 3",
   "language": "python",
   "name": "python3"
  },
  "language_info": {
   "codemirror_mode": {
    "name": "ipython",
    "version": 3
   },
   "file_extension": ".py",
   "mimetype": "text/x-python",
   "name": "python",
   "nbconvert_exporter": "python",
   "pygments_lexer": "ipython3",
   "version": "3.7.3"
  }
 },
 "nbformat": 4,
 "nbformat_minor": 2
}
