{
 "cells": [
  {
   "cell_type": "code",
   "execution_count": 1,
   "metadata": {},
   "outputs": [],
   "source": [
    "import cv2\n",
    "faceCascade=cv2.CascadeClassifier(\"haarcascade_frontalface_default.xml\")\n",
    "eyeCascade=cv2.CascadeClassifier(\"haarcascade_eye.xml\")\n",
    "noseCascade=cv2.CascadeClassifier(\"Nariz.xml\")\n",
    "mouthCascade=cv2.CascadeClassifier(\"Mouth.xml\")\n",
    "smileCascade=cv2.CascadeClassifier(\"haarcascade_smile.xml\")\n",
    "\n",
    "def draw_boundary(img,classifier,scaleFactor,minNeighbors,color,text):\n",
    "        gray=cv2.cvtColor(img,cv2.COLOR_BGR2GRAY)\n",
    "        features=classifier.detectMultiScale(gray,scaleFactor,minNeighbors,minSize=(55, 55))\n",
    "        coords=[]\n",
    "        for (x,y,w,h) in features:\n",
    "                cv2.rectangle(img,(x,y),(x+w,y+h),color,2)\n",
    "                cv2.putText(img,text,(x,y-4),cv2.FONT_HERSHEY_SIMPLEX,0.8,color,2)\n",
    "                coords=[x,y,w,h]\n",
    "        return img,coords \n",
    "        \n",
    "def detect(img,faceCascade,eyeCascade,mouthCascade):\n",
    "        img,coords=draw_boundary(img,faceCascade,1.1,10,(0,0,255),\"Face\")\n",
    "        img,coords=draw_boundary(img,eyeCascade,1.1,10,(255,0,0),\"Eye\")\n",
    "        img,coords=draw_boundary(img,mouthCascade,1.1,20,(0,255,0),\"Mouth\")\n",
    "        return img\n",
    "\n",
    "        \n",
    "cap = cv2.VideoCapture(\"BNK48.mp4\")\n",
    "cap.set(cv2.CAP_PROP_FRAME_WIDTH, 1920)\n",
    "cap.set(cv2.CAP_PROP_FRAME_HEIGHT, 1080)\n",
    "while (True):\n",
    "        ret,frame = cap.read()\n",
    "        frame=detect(frame,faceCascade,eyeCascade,mouthCascade)\n",
    "        cv2.imshow('frame',frame)\n",
    "        if(cv2.waitKey(1) & 0xFF== ord('q')):\n",
    "            break\n",
    "cap.release()\n",
    "cv2.destroyAllWindows()"
   ]
  },
  {
   "cell_type": "code",
   "execution_count": null,
   "metadata": {},
   "outputs": [],
   "source": []
  }
 ],
 "metadata": {
  "kernelspec": {
   "display_name": "Python 3",
   "language": "python",
   "name": "python3"
  },
  "language_info": {
   "codemirror_mode": {
    "name": "ipython",
    "version": 3
   },
   "file_extension": ".py",
   "mimetype": "text/x-python",
   "name": "python",
   "nbconvert_exporter": "python",
   "pygments_lexer": "ipython3",
   "version": "3.7.3"
  }
 },
 "nbformat": 4,
 "nbformat_minor": 2
}
