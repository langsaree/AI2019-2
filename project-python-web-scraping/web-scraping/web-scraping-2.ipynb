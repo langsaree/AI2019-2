{
 "cells": [
  {
   "cell_type": "code",
   "execution_count": 1,
   "metadata": {},
   "outputs": [
    {
     "data": {
      "text/plain": [
       "['b00030254']"
      ]
     },
     "execution_count": 1,
     "metadata": {},
     "output_type": "execute_result"
    }
   ],
   "source": [
    "url = \"http://opac.yru.ac.th/Catalog/BibItem.aspx?BibID=b00030254\"\n",
    "id = url.split(\"ID=\")[1].split('''\"''')\n",
    "id"
   ]
  },
  {
   "cell_type": "code",
   "execution_count": 2,
   "metadata": {},
   "outputs": [],
   "source": [
    "import urllib.request"
   ]
  },
  {
   "cell_type": "code",
   "execution_count": 3,
   "metadata": {},
   "outputs": [],
   "source": [
    "t = urllib.request.urlopen(url).read().decode('utf-8', 'ignore')"
   ]
  },
  {
   "cell_type": "code",
   "execution_count": 21,
   "metadata": {},
   "outputs": [
    {
     "name": "stdout",
     "output_type": "stream",
     "text": [
      "หลักการสอน(ฉบับปรับปรุง) / อาภรณ์  ใจเที่ยง.\n",
      "หลักการสอน(ฉบับปรับปรุง) \n"
     ]
    }
   ],
   "source": [
    "title = t.split(\"<title>\")[1].split(\"</title>\")[0].strip()\n",
    "print(title)\n",
    "title = title.split(\"/\")[0]\n",
    "print(title)"
   ]
  },
  {
   "cell_type": "code",
   "execution_count": 10,
   "metadata": {},
   "outputs": [
    {
     "name": "stdout",
     "output_type": "stream",
     "text": [
      "อาภรณ์  ใจเที่ยง.\n"
     ]
    }
   ],
   "source": [
    "author = t.split('''<meta name=\"description\" content=\"''')[1].split('''\"''')[0].strip()\n",
    "print(author)"
   ]
  },
  {
   "cell_type": "code",
   "execution_count": 17,
   "metadata": {},
   "outputs": [
    {
     "name": "stdout",
     "output_type": "stream",
     "text": [
      "http://opac.yru.ac.th/bookcover/b00030254/b00030254-fc-t.gif\n"
     ]
    }
   ],
   "source": [
    "id = \"b00030254\"\n",
    "img = \"http://opac.yru.ac.th/bookcover/%s/%s-fc-t.gif\"%(id, id)\n",
    "print(img)"
   ]
  },
  {
   "cell_type": "code",
   "execution_count": 27,
   "metadata": {},
   "outputs": [
    {
     "data": {
      "text/plain": [
       "'<title>หลักการสอน(ฉบับปรับปรุง) </title>\\n<author>อาภรณ์  ใจเที่ยง.</author>\\n<img>http://opac.yru.ac.th/bookcover/b00030254/b00030254-fc-t.gif</img>'"
      ]
     },
     "execution_count": 27,
     "metadata": {},
     "output_type": "execute_result"
    }
   ],
   "source": [
    "book = \"<title>%s</title><author>%s</author><img>%s</img>\"%(title, author, img)\n",
    "book"
   ]
  },
  {
   "cell_type": "code",
   "execution_count": 24,
   "metadata": {},
   "outputs": [
    {
     "data": {
      "text/plain": [
       "145"
      ]
     },
     "execution_count": 24,
     "metadata": {},
     "output_type": "execute_result"
    }
   ],
   "source": [
    "open(id + \".xml\", \"w\").write(book)"
   ]
  },
  {
   "cell_type": "code",
   "execution_count": null,
   "metadata": {},
   "outputs": [],
   "source": []
  }
 ],
 "metadata": {
  "kernelspec": {
   "display_name": "Python 3",
   "language": "python",
   "name": "python3"
  },
  "language_info": {
   "codemirror_mode": {
    "name": "ipython",
    "version": 3
   },
   "file_extension": ".py",
   "mimetype": "text/x-python",
   "name": "python",
   "nbconvert_exporter": "python",
   "pygments_lexer": "ipython3",
   "version": "3.7.3"
  }
 },
 "nbformat": 4,
 "nbformat_minor": 2
}
