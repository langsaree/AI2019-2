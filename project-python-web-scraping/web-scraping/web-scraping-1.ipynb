{
 "cells": [
  {
   "cell_type": "code",
   "execution_count": 1,
   "metadata": {},
   "outputs": [
    {
     "name": "stdout",
     "output_type": "stream",
     "text": [
      "author :  เจริญศรี พันปี \n",
      "\n",
      "title :  SATISFACTION OF TEACHERS TOWARDS THE MORAL BEHAVIOR AND ADMINISTRATION OF SCHOOL ADMINISTRATORS UNDER THE OFFICE OF SUPHANBURI PROVINCIAL  PRIMARY EDUCATION \n",
      "\n",
      "Thai Title  : ความพึงพอใจของครูต่อพฤติกรรมคุณธรรมและการบริหารงานของผู้บริหารโรงเรียน สังกัดสำนักงานการประถมศึกษาจังหวัดสุพรรณบุรี \n",
      "\n",
      "abstract :  ในการวิจัยครั้งนี้  มีวัตถุประสงค์เพื่อ  ศึกษาความพึงพอใจของครูต่อพฤติกรรมคุณธรรม\r\n",
      "และการบริหารงานของผู้บริหารโรงเรียน  สังกัดสำนักงานการประถมศึกษาจังหวัดสุพรรณบุรี\r\n",
      "\tกลุ่มตัวอย่างที่ใช้ศึกษาประกอบด้วย  ครูจากโรงเรียนสังกัดสำนักงานการประถมศึกษาจังหวัดสุพรรณบุรี  จำนวน  345  คน  เครื่องมือที่ใช้ในการเก็บรวบรวมข้อมูลเป็นแบบสอบถามมาตราส่วนประมาณค่า  สถิติที่ใช้ในการวิเคราะห์ข้อมูล  ได้แก่   ค่าร้อยละ  ค่าเฉลี่ย   ค่าความเบี่ยงเบนมาตรฐาน  การทดสอบค่า  t (t-test)  และค่าสัมประสิทธิ์สหสัมพันธ์ (r)  วิเคราะห์ข้อมูลโดยโปรแกรม  SPSS for Windows Version 10.0\r\n",
      "\tผลการวิจัยพบว่า\r\n",
      "1.  พฤติกรรมคุณธรรมของผู้บริหารโรงเรียนตามความคิดเห็นของครู  ในภาพรวมทั้ง  4  ด้าน  อยู่ในระดับมาก  แต่เมื่อพิจารณาเป็นรายด้าน  พบว่า  ด้านอนวัชชพละ (สุจริต)  อยู่ในระดับมากที่สุด  และอีก  3  ด้านอยู่ในระดับมาก  คือ  ด้านสังคหพละ (มนุษยสัมพันธ์)  ด้านวิริยพละ (ขยัน)  และด้านปัญญาพละ (ปัญญา)  \r\n",
      "2.  ความพึงพอใจของครูต่อพฤติกรรมคุณธรรมของผู้บริหารโรงเรียน ในภาพรวม  ทั้ง  4  ด้าน   อยู่ในระดับมาก  เมื่อพิจารณาเป็นรายด้าน  พบว่า  ด้านอนวัชชพละ (สุจริต)  อยู่ในระดับมากที่สุด   และอีก  3  ด้านอยู่ในระดับมาก  คือ  ด้านสังคหพละ (มนุษยสัมพันธ์)  ด้านวิริยพละ(ขยัน)  และด้านปัญญาพละ (ปัญญา) \r\n",
      "\t3.  พฤติกรรมการบริหารงานของผู้บริหารโรงเรียน  ตามความคิดเห็นของครูทั้ง   6  งาน  อยู่ในระดับมาก  คือ  งานอาคารสถานที่  งานวิชาการ  งานธุรการและการเงิน  งานกิจการนักเรียน  งานบุคลากรและงานความสัมพันธ์ระหว่างโรงเรียนกับชุมชน \r\n",
      "\t4.  เมื่อเปรียบเทียบระหว่างพฤติกรรมคุณธรรมของผู้บริหารโรงเรียนตามความคิดเห็นของครูกับตามความพึงพอใจของครู  พบว่า  ในภาพรวมมีความแตกต่างกันอย่างมีนัยสำคัญทางสถิติที่ระดับ .01  และเมื่อพิจารณาเป็นรายด้าน  พบว่า  มีความแตกต่างกันอย่างมีนัยสำคัญทางสถิติที่ระดับ .01  ทุกด้าน\r\n",
      "\t5.  เมื่อเปรียบเทียบระหว่างการบริหารงานของผู้บริหารโรงเรียนที่มีพฤติกรรมคุณธรรมกลุ่มสูงกับผู้บริหารโรงเรียนที่มีพฤติกรรมคุณธรรมกลุ่มต่ำ  พบว่า  ในภาพรวมมีความแตกต่างกันอย่างมีนัยสำคัญทางสถิติที่ระดับ .01   และเมื่อพิจารณาเป็นรายด้าน   พบว่า  มีความแตกต่างกันอย่างมีนัยสำคัญทางสถิติที่ระดับ .01 ทุกงาน  คือ งานอาคารสถานที่  งานบุคลากร  งานความสัมพันธ์ระหว่างโรงเรียนกับชุมชน  งานธุรการและการเงิน  งานวิชาการและงานกิจการนักเรียน    \r\n",
      "6.  พฤติกรรมคุณธรรมและการบริหารงานของผู้บริหารโรงเรียนมีความสัมพันธ์กันทางบวกอย่างมีนัยสำคัญทางสถิติที่ระดับ .01  และเมื่อพิจารณาเป็นรายด้าน  พบว่า  พฤติกรรมคุณธรรมทุกด้านและการบริหารงานทุกงานมีความสัมพันธ์กันทางบวกอย่างมีนัยสำคัญทางสถิติที่ระดับ .01   \n",
      "\n"
     ]
    }
   ],
   "source": [
    "# how to access  raw data and split into selected data\n",
    "url = \"https://tdc.thailis.or.th/tdc/browse.php?option=show&browse_type=title&titleid=10\"\n",
    "import urllib.request\n",
    "t = urllib.request.urlopen(url).read().decode('cp874','ignore')\n",
    "\n",
    "title = t.split('''<meta name=\"DC.TitleAlternative\" scheme=\"\" content=\"''')[1].split('\"')[0]\n",
    "\n",
    "author = t.split('''<meta name=\"DC.Creator\" scheme=\"\" content=\"''')[1].split('\"')[0]\n",
    "\n",
    "abstract = t.split('''<meta name=\"DC.DescriptionAbstract\" scheme=\"\" content=\"''')[1].split('\"')[0]\n",
    "\n",
    "thaititle = t.split('''<meta name=\"DC.Title\" scheme=\"\" content=\"''')[1].split('\"')[0]\n",
    "\n",
    "print(\"author : \", author, \"\\n\")\n",
    "print(\"title : \", title, \"\\n\")\n",
    "print(\"Thai Title  :\", thaititle, \"\\n\")\n",
    "print(\"abstract : \", abstract, \"\\n\")"
   ]
  },
  {
   "cell_type": "code",
   "execution_count": 12,
   "metadata": {},
   "outputs": [
    {
     "data": {
      "text/plain": [
       "2690"
      ]
     },
     "execution_count": 12,
     "metadata": {},
     "output_type": "execute_result"
    }
   ],
   "source": [
    "# how to merge data \n",
    "data = \"<th>%s</th>\\n<en>%s</en>\\n<author>%s</author>\\n<abstract>%s</abstract>\"%(thaititle, title, author, abstract)\n",
    "\n",
    "# how save to difference file format\n",
    "open(\"research.txt\",\"w\").write(data)\n",
    "open(\"research.xml\",\"w\").write(data)"
   ]
  },
  {
   "cell_type": "code",
   "execution_count": 16,
   "metadata": {},
   "outputs": [
    {
     "data": {
      "text/plain": [
       "8"
      ]
     },
     "execution_count": 16,
     "metadata": {},
     "output_type": "execute_result"
    }
   ],
   "source": [
    "def adder(a,b):\n",
    "    return a+b\n",
    "\n",
    "# how to use lambda\n",
    "lambda is ตัวแปรที่ประกาศตอนไหนก็ได้\n",
    "adder2 = lambda a,b: a+b\n",
    "adder2(4,4)"
   ]
  },
  {
   "cell_type": "code",
   "execution_count": 21,
   "metadata": {},
   "outputs": [
    {
     "data": {
      "text/plain": [
       "[3, 5, 5, 4, 2]"
      ]
     },
     "execution_count": 21,
     "metadata": {},
     "output_type": "execute_result"
    }
   ],
   "source": [
    "# how to use map for two list\n",
    "x = [2,3,4,2,1]\n",
    "y = [1,2,1,2,1]\n",
    "\n",
    "a = list(map(adder2,x,y))\n",
    "a"
   ]
  },
  {
   "cell_type": "code",
   "execution_count": 22,
   "metadata": {},
   "outputs": [
    {
     "data": {
      "text/plain": [
       "[3, 5, 5, 4, 2]"
      ]
     },
     "execution_count": 22,
     "metadata": {},
     "output_type": "execute_result"
    }
   ],
   "source": [
    "list(map(lambda a,b: a+b, x,y))"
   ]
  },
  {
   "cell_type": "code",
   "execution_count": 24,
   "metadata": {},
   "outputs": [
    {
     "data": {
      "text/plain": [
       "[7, 8, 9, 7, 6]"
      ]
     },
     "execution_count": 24,
     "metadata": {},
     "output_type": "execute_result"
    }
   ],
   "source": [
    "list(map(lambda a:a+5, x))"
   ]
  },
  {
   "cell_type": "code",
   "execution_count": 39,
   "metadata": {},
   "outputs": [
    {
     "data": {
      "text/plain": [
       "['GoogleGoogleGoogle', 'GmailGmailGmail', 'YoutubeYoutubeYoutube']"
      ]
     },
     "execution_count": 39,
     "metadata": {},
     "output_type": "execute_result"
    }
   ],
   "source": [
    "# multiple string using lambda\n",
    "z = [\"Google\", \"Gmail\", \"Youtube\"]\n",
    "list(map(lambda a:a*3, z))"
   ]
  },
  {
   "cell_type": "code",
   "execution_count": 26,
   "metadata": {},
   "outputs": [
    {
     "data": {
      "text/plain": [
       "[2, 9, 4, 4, 1]"
      ]
     },
     "execution_count": 26,
     "metadata": {},
     "output_type": "execute_result"
    }
   ],
   "source": [
    "#power number using lambda\n",
    "list(map(lambda a,b:a**b, x, y))"
   ]
  },
  {
   "cell_type": "code",
   "execution_count": 30,
   "metadata": {},
   "outputs": [
    {
     "data": {
      "text/plain": [
       "[12.56, 28.26, 50.24, 12.56, 3.14, 3.14, 12.56, 3.14, 12.56, 3.14]"
      ]
     },
     "execution_count": 30,
     "metadata": {},
     "output_type": "execute_result"
    }
   ],
   "source": [
    "# pi r power two\n",
    "r = [2,3,4,2,1,1,2,1,2,1]\n",
    "pi = 3.14\n",
    "list(map(lambda a: 3.14 * (a**2),r ))"
   ]
  },
  {
   "cell_type": "code",
   "execution_count": 35,
   "metadata": {},
   "outputs": [
    {
     "data": {
      "text/plain": [
       "[1, 1, 0]"
      ]
     },
     "execution_count": 35,
     "metadata": {},
     "output_type": "execute_result"
    }
   ],
   "source": [
    "# checking G alphabet in list\n",
    "z = [\"Google\", \"Gmail\", \"Youtube\"]\n",
    "list(map(lambda a: \n",
    "         1 if \"G\" in a \n",
    "         else 0, \n",
    "         z))"
   ]
  },
  {
   "cell_type": "code",
   "execution_count": 41,
   "metadata": {},
   "outputs": [
    {
     "data": {
      "text/plain": [
       "[1, 2, 3, 4, 5]"
      ]
     },
     "execution_count": 41,
     "metadata": {},
     "output_type": "execute_result"
    }
   ],
   "source": [
    "# filter out any 0 (Zero)\n",
    "x = [1,2,3,4,5]\n",
    "y = filter(lambda a: a!=0,x)\n",
    "list(y)"
   ]
  },
  {
   "cell_type": "code",
   "execution_count": 43,
   "metadata": {},
   "outputs": [
    {
     "data": {
      "text/plain": [
       "['Google', 'Gmail']"
      ]
     },
     "execution_count": 43,
     "metadata": {},
     "output_type": "execute_result"
    }
   ],
   "source": [
    "# filter accept only string contain G alphabet\n",
    "y = filter(lambda a: \"G\" in a,z)\n",
    "list(y)"
   ]
  },
  {
   "cell_type": "code",
   "execution_count": 45,
   "metadata": {},
   "outputs": [
    {
     "ename": "NameError",
     "evalue": "name 'reduce' is not defined",
     "output_type": "error",
     "traceback": [
      "\u001b[0;31m---------------------------------------------------------------------------\u001b[0m",
      "\u001b[0;31mNameError\u001b[0m                                 Traceback (most recent call last)",
      "\u001b[0;32m<ipython-input-45-587eb9059c70>\u001b[0m in \u001b[0;36m<module>\u001b[0;34m\u001b[0m\n\u001b[0;32m----> 1\u001b[0;31m \u001b[0mreduce\u001b[0m\u001b[0;34m(\u001b[0m\u001b[0;32mlambda\u001b[0m \u001b[0ma\u001b[0m\u001b[0;34m,\u001b[0m\u001b[0mb\u001b[0m\u001b[0;34m:\u001b[0m\u001b[0ma\u001b[0m\u001b[0;34m+\u001b[0m\u001b[0mb\u001b[0m\u001b[0;34m,\u001b[0m\u001b[0mx\u001b[0m\u001b[0;34m)\u001b[0m\u001b[0;34m\u001b[0m\u001b[0;34m\u001b[0m\u001b[0m\n\u001b[0m",
      "\u001b[0;31mNameError\u001b[0m: name 'reduce' is not defined"
     ]
    }
   ],
   "source": [
    "# Not available in python3\n",
    "reduce(lambda a,b:a+b,x)"
   ]
  },
  {
   "cell_type": "code",
   "execution_count": null,
   "metadata": {},
   "outputs": [],
   "source": [
    "###### Regular Expression"
   ]
  },
  {
   "cell_type": "code",
   "execution_count": 52,
   "metadata": {},
   "outputs": [
    {
     "name": "stdout",
     "output_type": "stream",
     "text": [
      "['info@yru.ac', 'complain@yru.ac']\n"
     ]
    }
   ],
   "source": [
    "url = \"https://www.yru.ac.th/th/\"\n",
    "import re\n",
    "import urllib.request\n",
    "t = urllib.request.urlopen(url).read().decode('utf-8','ignore')\n",
    "m = re.findall(\"\\w+@\\w+\\.\\w+\",t)\n",
    "if m:\n",
    "    print(m)"
   ]
  },
  {
   "cell_type": "code",
   "execution_count": 62,
   "metadata": {},
   "outputs": [
    {
     "name": "stdout",
     "output_type": "stream",
     "text": [
      "['<title>มหาวิทยาลัยราชภัฏยะลา - คลังปัญญาแห่งชายแดนใต้</title>']\n"
     ]
    }
   ],
   "source": [
    "url = \"https://www.yru.ac.th/th/\"\n",
    "import re\n",
    "import urllib.request\n",
    "t = urllib.request.urlopen(url).read().decode('utf-8','ignore')\n",
    "m = re.findall(\"<title>.*</title>\",t)\n",
    "\n",
    "if m:\n",
    "    print(m)\n"
   ]
  },
  {
   "cell_type": "code",
   "execution_count": 76,
   "metadata": {},
   "outputs": [
    {
     "name": "stdout",
     "output_type": "stream",
     "text": [
      "['href=\"https://fonts.googleapis.com/css?family=Prompt:200,300,400\" rel=\"stylesheet\"', 'href=\"https://cdnjs.cloudflare.com/ajax/libs/font-awesome/4.7.0/css/font-awesome.css\"', 'href=\"/th/assets/bf485df8/favicon.ico\" type=\"image/x-icon\"', 'href=\"/th/assets/bf485df8/favicon.ico\" type=\"image/x-icon\"', 'href=\"/th/assets/bf485df8/css/bootstrap.min.css\" rel=\"stylesheet\"', 'href=\"/th/assets/bf485df8/css/mdb.css\" rel=\"stylesheet\"', 'href=\"/th/assets/bf485df8/css/mdb.min.css\" rel=\"stylesheet\"', 'href=\"/th/assets/bf485df8/font/th_niramit_as/fontface.css\" rel=\"stylesheet\"', 'href=\"/th/assets/bf485df8/pignose/css/pignose.calendar.css\" rel=\"stylesheet\"', 'href=\"/th/assets/bf485df8/css/style.css\" rel=\"stylesheet\"', 'href=\"#\"', 'href=\"https://www.yru.ac.th/th/\"><i class=\"fa fa-home\"', 'href=\"/th/about-us\">เกี่ยวกับเรา</a></li><li class=\"nav-item dropdown btn-group\"><a class=\"nav-link dropdown-toggle\" id=\"dropdownMenukar-khea-suksa\" data-toggle=\"dropdown\" aria-haspopup=\"true\" aria-expanded=\"false\">การเข้าศึกษา</a><div class=\"dropdown-menu dropdown\" aria-labelledby=\"dropdownMenukar-khea-suksa\"><a class=\"dropdown-item\" href=\"http://eduservice.yru.ac.th/tcas\" target=\"_blank\">การสมัครเข้าศึกษา</a><a class=\"dropdown-item\" href=\"http://eduservice.yru.ac.th/newweb/page/?view=curriculum\" target=\"_blank\">หลักสูตร</a></div></li><li class=\"nav-item\"><a class=\"nav-link\" href=\"/th/faculty-and-organization\">คณะและหน่วยงาน</a></li><li class=\"nav-item dropdown btn-group\"><a class=\"nav-link dropdown-toggle\" id=\"dropdownMenuservices\" data-toggle=\"dropdown\" aria-haspopup=\"true\" aria-expanded=\"false\">บริการ</a><div class=\"dropdown-menu dropdown\" aria-labelledby=\"dropdownMenuservices\"><a class=\"dropdown-item\" href=\"/th/information-services\">ระบบสารสนเทศ</a><a class=\"dropdown-item\" href=\"http://clas.yru.ac.th\" target=\"_blank\">ศูนย์ภาษาและอาเซียนศึกษา</a><a class=\"dropdown-item\" href=\"http://thehalalcenter.yru.ac.th\" target=\"_blank\">ศูนย์ฮาลาล</a><a class=\"dropdown-item\" href=\"http://radio.yru.ac.th\" target=\"_blank\">สถานีวิทยุเพื่อการศึกษา</a></div></li><li class=\"nav-item dropdown btn-group\"><a class=\"nav-link dropdown-toggle\" id=\"dropdownMenu\" data-toggle=\"dropdown\" aria-haspopup=\"true\" aria-expanded=\"false\">คลังปัญญา</a><div class=\"dropdown-menu dropdown\" aria-labelledby=\"dropdownMenu\"><a class=\"dropdown-item\" href=\"http://wb.yru.ac.th\" target=\"_blank\"', 'href=\"http://www.yru.ac.th/en\" class=\"nav-link \" xml:lang=\"en\" lang=\"en\"', 'href=\"#carousel-example-3\" role=\"button\" data-slide=\"prev\"', 'href=\"#carousel-example-3\" role=\"button\" data-slide=\"next\"', 'href=\"https://www.yru.ac.th/academic62/\" target=\"_blank\"><img src=\"https://www.yru.ac.th/th/uploads/carousel/mrywi-chka-r-62-3352d69fe5.jpg\" style=\"background-color: initial; display: block; margin: auto; width: 100%;\" alt=\"มรย.วิชาการ 2562 - นวัฒกรรม กับการพัฒนาท้องถิ่น\"', 'href=\"http://eduservice.yru.ac.th/tcas\" target=\"_blank\"', 'href=\"http://eduservice.yru.ac.th/newweb/page/?view=curriculum\" target=\"_blank\"', 'href=\"https://www.yru.ac.th/th/about-us\"', 'href=\"http://resume.yru.ac.th\" target=\"_blank\"', 'href=\"http://www.yru.ac.th/graduation\" style=\"text-decoration: underline;color:red;\" target=\"_blank\"', 'href=\"/th/archive/view/xthikarbdi-mrphyala-la-prathan-kherux-khay-mhawithyalay-rachphat-klum-phumiphakh-phakh-t-rwm-prachum-thpxkhrang-thi-3\"', 'href=\"/th/archive/view/xthikarbdi-mhawithyalay-rachphat-yala-rwm-kickrrm-dein-wing-yala-marathxn-yala-marathon-2019-khrang-thi-1\"', 'href=\"/th/archive/view/khnbdi-withy-la-wck-mrphyala-khwa-rangwal-nak-brihar-di-den-hng-pi-2562\"', 'href=\"/th/archive/view/xthikarbdi-mrphyala-phbpa-h-kalang-c-smachik-chmrm-first-read-clup-xan-san-sukh\"', 'href=\"https://www.yru.ac.th/th/news\"', 'href=\"/th/events/view/prakas-h-naksuksa-chan-pi-thi-1-rhas-ma-rab-batr-naksuksa-n-hxng-pra-chum-weingchay-chan-3-xakhar-20\"', 'href=\"/th/events/view/mrachphat-yala-rab-smakhr-kar-prakwd-nwatkrrm-sing-pradisth-cak-wasdu-helux-ch-n-thxng-thin-green-yru-innovation-2019\"', 'href=\"/th/events/view/khx-khwam-rwm-mux-txb-bb-pramein-sarsnthes-sanak-withy-brikar-mhawithyalay-rachphat-yala\"', 'href=\"/th/events/view/hlaksutr-kestrsastr-khna-wi-thya-sastr-mrphyala-khx-cheiy-rwm-prakwd-sing-pradisth-nwatkrrm-thangkar-kestr\"', 'href=\"/th/events/view/mhawithyalay-rachphat-yala-khet-plxd-buhri\"', 'href=\"/th/events/view/green-yru-green-university-ma-rwm-phlang-srang-mhawithyalay-si-kheiyw-kan-thexa-ld-leik-phlastik-la-fom\"', 'href=\"/th/events/view/mhawithyalay-rachphat-yala-xngkhkr-hng-khunthrrm-la-khwam-porngs-tx-tan-kar-thucrit-thuk-khxrrapcha-nthu-kru-p-bb\"', 'href=\"#carouselExampleIndicators\" role=\"button\"', 'href=\"#carouselExampleIndicators\" role=\"button\"', 'href=\"https://www.yru.ac.th/th/uploads/calendar/calendar-2561.pdf\"', 'href=\"/th/events/view/prakas-h-naksuksa-chan-pi-thi-1-rhas-ma-rab-batr-naksuksa-n-hxng-pra-chum-weingchay-chan-3-xakhar-20\"', 'href=\"/th/events/view/mrachphat-yala-rab-smakhr-kar-prakwd-nwatkrrm-sing-pradisth-cak-wasdu-helux-ch-n-thxng-thin-green-yru-innovation-2019\"', 'href=\"/th/events/view/khx-khwam-rwm-mux-txb-bb-pramein-sarsnthes-sanak-withy-brikar-mhawithyalay-rachphat-yala\"', 'href=\"https://www.yru.ac.th/th/events\"', 'href=\"/th/procurement/plan/2562\"', 'href=\"/th/procurement/plan/2561\"', 'href=\"/th/procurement/plan/2560\"', 'href=\"/th/procurement/plan/2559\"', 'href=\"/th/procurement/summary/2562\"', 'href=\"/th/procurement/summary/2561\"', 'href=\"/th/procurement/summary/2560\"', 'href=\"/th/procurement/summary/2559\"', 'href=\"\"', 'href=\"\"', 'href=\"/th/procurement/announcement/2562\"', 'href=\"/th/procurement/announcement/2561\"', 'href=\"/th/procurement/announcement/2560\"', 'href=\"/th/procurement/announcement/2559\"', 'href=\"/th/procurement/price\"><i class=\"fa fa-chevron-circle-right\"', 'href=\"/th/procurement/skr01/2562\"', 'href=\"/th/procurement/skr01/2561\"', 'href=\"/th/procurement/skr01/2560\"', 'href=\"/th/procurement/skr01/2559\"', 'href=\"/th/procurement/annual-report\"><i class=\"fa fa-chevron-circle-right\"', 'href=\"http://account.yru.ac.th/authmail/\" target=\"_blank\" title=\"ค้นหาอีเมลบุคลากร\"><i class=\"fa fa-chevron-circle-right\"', 'href=\"//www.yru.ac.th/th/hot-line\" target=\"_blank\" title=\"สายตรงอธิการบดี\"><i class=\"fa fa-chevron-circle-right\"', 'href=\"http://www.yru.ac.th/phonebook\" target=\"_blank\"', 'href=\"/th/finance/finance-report\"><i class=\"fa fa-chevron-circle-right\"', 'href=\"http://mis.yru.ac.th/dev/ldap/\" target=\"_blank\" title=\"ระบบพิสูจน์ตัวตนการใช้งานอินเทอร์เน็ต\"><i class=\"fa fa-chevron-circle-right\"', 'href=\"http://radio.yru.ac.th/\" target=\"_blank\"', 'href=\"#tab1\" role=\"tab\"', 'href=\"#tab2\" roro=\"tab\"', 'href=\"https://www.youtube.com/channel/UC8gifQYEd8rJMuGkRKNybVw\" target=\"_blank\"', 'href=\"/th/newsletter/view/warsar-canthn-kaphx-chbab-thi-186\"><img class=\"img-thumbnail\" src=\"https://www.yru.ac.th/th/uploads/thumbs/untitled-6a9902a7fc-17cdeca163815ab0b66be48c9a46ee53.jpg\" alt=\"\" style=\"margin:auto\"', 'href=\"/th/newsletter/view/warsar-canthn-kaphx-chbab-thi-181\"><img class=\"img-thumbnail\" src=\"https://www.yru.ac.th/th/uploads/thumbs/untitled-e58912a8c4-a70a28e83b476ddfac4823ab8d7fd343.jpg\" alt=\"\" style=\"margin:auto\"', 'href=\"/th/newsletter/view/warsar-canthn-kaphx-chbab-thi-180\"><img class=\"img-thumbnail\" src=\"https://www.yru.ac.th/th/uploads/thumbs/180-3855912924-260647994a5e3c8fba61b295472596e5.jpg\" alt=\"\" style=\"margin:auto\"', 'href=\"https://www.yru.ac.th/th/newsletter\" class=\"btn btn-cyan waves-effect waves-light th_prompt\"', 'href=\"http://docs.google.com/forms/d/e/1FAIpQLSdORvEq9DZRUTj6-ACSGHlruW7BjKvIaHtF4h-OOLeIPlBprQ/viewform\" target=\"_blank\"', 'href=\"http://lpdc.yru.ac.th/\" target=\"_blank\"', 'href=\"http://president.yru.ac.th/qa/web/page/191\" target=\"_blank\"', 'href=\"http://eprofile.yru.ac.th/Staff/List\" target=\"_blank\"', 'href=\"http://eservice.yru.ac.th/tqf\" target=\"_blank\"', 'href=\"http://202.29.32.179/competency\" target=\"_blank\"', 'href=\"http://etraining.yru.ac.th/\" target=\"_blank\"', 'href=\"http://oss.yru.ac.th\" target=\"_blank\"', 'href=\"http://mail.google.com/\" target=\"_blank\"', 'href=\"http://president.yru.ac.th/qa/web/page/79/%E0%B8%9B%E0%B8%A3%E0%B8%B0%E0%B9%80%E0%B8%A1%E0%B8%B4%E0%B8%99_ITA.html\" target=\"_blank\"', 'href=\"http://president.yru.ac.th/stddev/stdloan/index.php\" target=\"_blank\"', 'href=\"http://pts.yru.ac.th\" target=\"_blank\"', 'href=\"http://opac.yru.ac.th\" target=\"_blank\"', 'href=\"http://faq.yru.ac.th\" target=\"_blank\"', 'href=\"http://wiki.yru.ac.th\" target=\"_blank\"', 'href=\"http://science.yru.ac.th/yru-map\" target=\"_blank\"', 'href=\"http://register.yru.ac.th/registrar/home.asp\" target=\"_blank\"', 'href=\"http://hrm.yru.ac.th\" target=\"_blank\"', 'href=\"http://edoc.yru.ac.th/\" target=\"_blank\"', 'href=\"http://elearning.yru.ac.th\" target=\"_blank\"', 'href=\"https://www.yru.ac.th/th/information-services\"', 'href=\"http://mobile.twitter.com/YInfomation\"><img src=\"/th/uploads/pages/icons8-twitter-circled-48-4470190f81.png\" alt=\"\"></a><a href=\"https://www.facebook.com/yrupage/\"><img src=\"/th/uploads/pages/icons8-facebook-circled-48-11706f9d66.png\" style=\"background-color: initial;\" alt=\"\"', 'href=\"/th/contact\" class=\"th_prompt\"><i class=\"fa fa-external-link\"', 'href=\"http://www.stats.in.th/?cmd=stats&amp;sid=56881\" target=\"_blank\"><img src=\"http://tracker.stats.in.th/counter.php?referrer=http%3A//www.yru.ac.th/&amp;domain=yru.ac.th&amp;key=2947467062&amp;uid=56881&amp;cookie=true&amp;flaver=26.0 r0&amp;jsver=1.3&amp;jsactive=false&amp;sc_solution=1600x900&amp;sc_color=24&amp;now_url=http%3a//www.yru.ac.th/web54/frontpage\" width=\"18\" height=\"17\" alt=\"www.Stats.in.th\" border=\"0\"', 'href=\"http://ipv6-test.com/validate.php?url=referer\"><img src=\"http://ipv6-test.com/button-ipv6-80x15.png\" alt=\"ipv6 ready\" title=\"ipv6 ready\" border=\"0\"', 'href=\"/th/\"', 'href=\"/th/admission\"', 'href=\"http://eduservice.yru.ac.th/newweb/page/?view=curriculum\" target=\"_blank\"', 'href=\"/th/news\"', 'href=\"/th/events\"', 'href=\"https://job.yru.ac.th\" target=\"_blank\"', 'href=\"#top\" class=\"visible\"><i class=\"fa fa-chevron-up\"']\n"
     ]
    }
   ],
   "source": [
    "url = \"https://www.yru.ac.th/th/\"\n",
    "import re\n",
    "import urllib.request\n",
    "t = urllib.request.urlopen(url).read().decode('utf-8','ignore')\n",
    "m = re.findall('href=\".*\"',t)\n",
    "\n",
    "if m:\n",
    "    print(m)"
   ]
  },
  {
   "cell_type": "code",
   "execution_count": 86,
   "metadata": {},
   "outputs": [
    {
     "name": "stdout",
     "output_type": "stream",
     "text": [
      "https://fonts.googleapis.com/css?family=Prompt:200,300,400\n",
      "https://cdnjs.cloudflare.com/ajax/libs/font-awesome/4.7.0/css/font-awesome.css\n",
      "/th/assets/bf485df8/favicon.ico\n",
      "/th/assets/bf485df8/css/bootstrap.min.css\n",
      "/th/assets/bf485df8/css/mdb.css\n",
      "/th/assets/bf485df8/css/mdb.min.css\n",
      "/th/assets/bf485df8/font/th_niramit_as/fontface.css\n",
      "/th/assets/bf485df8/pignose/css/pignose.calendar.css\n",
      "/th/assets/bf485df8/css/style.css\n",
      "#\n",
      "https://www.yru.ac.th/th/\n",
      "/th/about-us\n",
      "http://eduservice.yru.ac.th/tcas\n",
      "http://eduservice.yru.ac.th/newweb/page/?view=curriculum\n",
      "/th/faculty-and-organization\n",
      "/th/information-services\n",
      "http://clas.yru.ac.th\n",
      "http://thehalalcenter.yru.ac.th\n",
      "http://radio.yru.ac.th\n",
      "http://wb.yru.ac.th\n",
      "http://www.yru.ac.th/en\n",
      "#carousel-example-3\n",
      "https://www.yru.ac.th/academic62/\n",
      "https://www.yru.ac.th/th/about-us\n",
      "http://resume.yru.ac.th\n",
      "http://www.yru.ac.th/graduation\n",
      "/th/archive/view/xthikarbdi-mrphyala-la-prathan-kherux-khay-mhawithyalay-rachphat-klum-phumiphakh-phakh-t-rwm-prachum-thpxkhrang-thi-3\n",
      "/th/archive/view/xthikarbdi-mhawithyalay-rachphat-yala-rwm-kickrrm-dein-wing-yala-marathxn-yala-marathon-2019-khrang-thi-1\n",
      "/th/archive/view/khnbdi-withy-la-wck-mrphyala-khwa-rangwal-nak-brihar-di-den-hng-pi-2562\n",
      "/th/archive/view/xthikarbdi-mrphyala-phbpa-h-kalang-c-smachik-chmrm-first-read-clup-xan-san-sukh\n",
      "https://www.yru.ac.th/th/news\n",
      "/th/events/view/prakas-h-naksuksa-chan-pi-thi-1-rhas-ma-rab-batr-naksuksa-n-hxng-pra-chum-weingchay-chan-3-xakhar-20\n",
      "/th/events/view/mrachphat-yala-rab-smakhr-kar-prakwd-nwatkrrm-sing-pradisth-cak-wasdu-helux-ch-n-thxng-thin-green-yru-innovation-2019\n",
      "/th/events/view/khx-khwam-rwm-mux-txb-bb-pramein-sarsnthes-sanak-withy-brikar-mhawithyalay-rachphat-yala\n",
      "/th/events/view/hlaksutr-kestrsastr-khna-wi-thya-sastr-mrphyala-khx-cheiy-rwm-prakwd-sing-pradisth-nwatkrrm-thangkar-kestr\n",
      "/th/events/view/mhawithyalay-rachphat-yala-khet-plxd-buhri\n",
      "/th/events/view/green-yru-green-university-ma-rwm-phlang-srang-mhawithyalay-si-kheiyw-kan-thexa-ld-leik-phlastik-la-fom\n",
      "/th/events/view/mhawithyalay-rachphat-yala-xngkhkr-hng-khunthrrm-la-khwam-porngs-tx-tan-kar-thucrit-thuk-khxrrapcha-nthu-kru-p-bb\n",
      "#carouselExampleIndicators\n",
      "https://www.yru.ac.th/th/uploads/calendar/calendar-2561.pdf\n",
      "https://www.yru.ac.th/th/events\n",
      "/th/procurement/plan/2562\n",
      "/th/procurement/plan/2561\n",
      "/th/procurement/plan/2560\n",
      "/th/procurement/plan/2559\n",
      "/th/procurement/summary/2562\n",
      "/th/procurement/summary/2561\n",
      "/th/procurement/summary/2560\n",
      "/th/procurement/summary/2559\n",
      "\n",
      "/th/procurement/announcement/2562\n",
      "/th/procurement/announcement/2561\n",
      "/th/procurement/announcement/2560\n",
      "/th/procurement/announcement/2559\n",
      "/th/procurement/price\n",
      "/th/procurement/skr01/2562\n",
      "/th/procurement/skr01/2561\n",
      "/th/procurement/skr01/2560\n",
      "/th/procurement/skr01/2559\n",
      "/th/procurement/annual-report\n",
      "http://account.yru.ac.th/authmail/\n",
      "//www.yru.ac.th/th/hot-line\n",
      "http://www.yru.ac.th/phonebook\n",
      "/th/finance/finance-report\n",
      "http://mis.yru.ac.th/dev/ldap/\n",
      "http://radio.yru.ac.th/\n",
      "#tab1\n",
      "#tab2\n",
      "https://www.youtube.com/channel/UC8gifQYEd8rJMuGkRKNybVw\n",
      "/th/newsletter/view/warsar-canthn-kaphx-chbab-thi-186\n",
      "/th/newsletter/view/warsar-canthn-kaphx-chbab-thi-181\n",
      "/th/newsletter/view/warsar-canthn-kaphx-chbab-thi-180\n",
      "https://www.yru.ac.th/th/newsletter\n",
      "http://docs.google.com/forms/d/e/1FAIpQLSdORvEq9DZRUTj6-ACSGHlruW7BjKvIaHtF4h-OOLeIPlBprQ/viewform\n",
      "http://lpdc.yru.ac.th/\n",
      "http://president.yru.ac.th/qa/web/page/191\n",
      "http://eprofile.yru.ac.th/Staff/List\n",
      "http://eservice.yru.ac.th/tqf\n",
      "http://202.29.32.179/competency\n",
      "http://etraining.yru.ac.th/\n",
      "http://oss.yru.ac.th\n",
      "http://mail.google.com/\n",
      "http://president.yru.ac.th/qa/web/page/79/%E0%B8%9B%E0%B8%A3%E0%B8%B0%E0%B9%80%E0%B8%A1%E0%B8%B4%E0%B8%99_ITA.html\n",
      "http://president.yru.ac.th/stddev/stdloan/index.php\n",
      "http://pts.yru.ac.th\n",
      "http://opac.yru.ac.th\n",
      "http://faq.yru.ac.th\n",
      "http://wiki.yru.ac.th\n",
      "http://science.yru.ac.th/yru-map\n",
      "http://register.yru.ac.th/registrar/home.asp\n",
      "http://hrm.yru.ac.th\n",
      "http://edoc.yru.ac.th/\n",
      "http://elearning.yru.ac.th\n",
      "https://www.yru.ac.th/th/information-services\n",
      "http://mobile.twitter.com/YInfomation\n",
      "https://www.facebook.com/yrupage/\n",
      "/th/contact\n",
      "http://www.stats.in.th/?cmd=stats&amp;sid=56881\n",
      "http://ipv6-test.com/validate.php?url=referer\n",
      "/th/\n",
      "/th/admission\n",
      "/th/news\n",
      "/th/events\n",
      "https://job.yru.ac.th\n",
      "#top\n"
     ]
    }
   ],
   "source": [
    "url = \"https://www.yru.ac.th/th/\"\n",
    "import urllib.request\n",
    "t = urllib.request.urlopen(url).read().decode('utf-8','ignore')\n",
    "\n",
    "tmp = t.split('href=\"')\n",
    "links = []\n",
    "for i in range(1,len(tmp)):\n",
    "    a = tmp[i].split('\"')[0]\n",
    "    if \"#\" not in a:\n",
    "        if \"http\" not in a:\n",
    "            link = \"https://www.yru.ac.th\" + a\n",
    "        else:\n",
    "            link = a\n",
    "    if a not in links:\n",
    "        links.append(a)\n",
    "        a = a\n",
    "        print(a)"
   ]
  },
  {
   "cell_type": "code",
   "execution_count": 88,
   "metadata": {},
   "outputs": [
    {
     "data": {
      "text/plain": [
       "4"
      ]
     },
     "execution_count": 88,
     "metadata": {},
     "output_type": "execute_result"
    }
   ],
   "source": [
    "open(\"url.txt\",\"w\").write(a)"
   ]
  },
  {
   "cell_type": "code",
   "execution_count": null,
   "metadata": {},
   "outputs": [],
   "source": []
  }
 ],
 "metadata": {
  "kernelspec": {
   "display_name": "Python 3",
   "language": "python",
   "name": "python3"
  },
  "language_info": {
   "codemirror_mode": {
    "name": "ipython",
    "version": 3
   },
   "file_extension": ".py",
   "mimetype": "text/x-python",
   "name": "python",
   "nbconvert_exporter": "python",
   "pygments_lexer": "ipython3",
   "version": "3.7.3"
  }
 },
 "nbformat": 4,
 "nbformat_minor": 2
}
