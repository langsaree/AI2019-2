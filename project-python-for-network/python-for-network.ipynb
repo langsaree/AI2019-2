{
 "cells": [
  {
   "cell_type": "markdown",
   "metadata": {},
   "source": [
    "### morning session 1\n",
    "### ตัวแปรชนิด Dictionary\n",
    "##### ตัวแปรดิกชันนารีเก็บข้อมูลเป็นคีย์และค่าข้อมูล (Key/value) "
   ]
  },
  {
   "cell_type": "code",
   "execution_count": 1,
   "metadata": {},
   "outputs": [],
   "source": [
    "# create var in dictation type\n",
    "data = {}"
   ]
  },
  {
   "cell_type": "code",
   "execution_count": 2,
   "metadata": {},
   "outputs": [],
   "source": [
    "# example as\n",
    "data.update({\"one\":\"หนึ่ง\"})\n",
    "data.update({\"two\":\"สอง\"})\n",
    "data.update({\"three\":\"สาม\"})"
   ]
  },
  {
   "cell_type": "code",
   "execution_count": 3,
   "metadata": {},
   "outputs": [
    {
     "data": {
      "text/plain": [
       "dict_keys(['one', 'two', 'three'])"
      ]
     },
     "execution_count": 3,
     "metadata": {},
     "output_type": "execute_result"
    }
   ],
   "source": [
    "# show keys\n",
    "data.keys()"
   ]
  },
  {
   "cell_type": "code",
   "execution_count": 4,
   "metadata": {},
   "outputs": [
    {
     "data": {
      "text/plain": [
       "dict_values(['หนึ่ง', 'สอง', 'สาม'])"
      ]
     },
     "execution_count": 4,
     "metadata": {},
     "output_type": "execute_result"
    }
   ],
   "source": [
    "# show values\n",
    "data.values()"
   ]
  },
  {
   "cell_type": "code",
   "execution_count": 16,
   "metadata": {},
   "outputs": [
    {
     "name": "stdout",
     "output_type": "stream",
     "text": [
      "<class 'dict_values'>\n",
      "<class 'dict_keys'>\n"
     ]
    }
   ],
   "source": [
    "# check type of dictionary\n",
    "print(type(data.values()))\n",
    "print(type(data.keys()))"
   ]
  },
  {
   "cell_type": "code",
   "execution_count": 14,
   "metadata": {},
   "outputs": [
    {
     "data": {
      "text/plain": [
       "['one', 'two', 'three']"
      ]
     },
     "execution_count": 14,
     "metadata": {},
     "output_type": "execute_result"
    }
   ],
   "source": [
    "# change from dictionary type to list type\n",
    "showlist = list(data.keys())\n",
    "showlist"
   ]
  },
  {
   "cell_type": "code",
   "execution_count": 15,
   "metadata": {
    "scrolled": true
   },
   "outputs": [
    {
     "data": {
      "text/plain": [
       "'สอง'"
      ]
     },
     "execution_count": 15,
     "metadata": {},
     "output_type": "execute_result"
    }
   ],
   "source": [
    "# access to each value data via key\n",
    "data['two']"
   ]
  },
  {
   "cell_type": "markdown",
   "metadata": {},
   "source": [
    "### อาร์กิวเมนต์ของฟังก์ชั่นแบบ * และ ** (Argument)\n",
    "##### - อาร์กิวเมนต์ คือ ตัวแปรที่ป้อนเข้าไปให้กับฟังก์ชั่น"
   ]
  },
  {
   "cell_type": "code",
   "execution_count": 18,
   "metadata": {},
   "outputs": [],
   "source": [
    "def adder (a,b):\n",
    "    return a+b"
   ]
  },
  {
   "cell_type": "code",
   "execution_count": 19,
   "metadata": {},
   "outputs": [
    {
     "data": {
      "text/plain": [
       "15"
      ]
     },
     "execution_count": 19,
     "metadata": {},
     "output_type": "execute_result"
    }
   ],
   "source": [
    "adder(10,5)"
   ]
  },
  {
   "cell_type": "code",
   "execution_count": 20,
   "metadata": {},
   "outputs": [],
   "source": [
    "def adder(*a):\n",
    "    return sum(a)"
   ]
  },
  {
   "cell_type": "code",
   "execution_count": 21,
   "metadata": {},
   "outputs": [
    {
     "data": {
      "text/plain": [
       "15"
      ]
     },
     "execution_count": 21,
     "metadata": {},
     "output_type": "execute_result"
    }
   ],
   "source": [
    "adder (3,2,1,4,5)"
   ]
  },
  {
   "cell_type": "markdown",
   "metadata": {},
   "source": [
    "### morning session 2"
   ]
  },
  {
   "cell_type": "markdown",
   "metadata": {},
   "source": [
    "### การใช้งาน netmiko"
   ]
  },
  {
   "cell_type": "code",
   "execution_count": 22,
   "metadata": {},
   "outputs": [
    {
     "name": "stdout",
     "output_type": "stream",
     "text": [
      "Collecting netmiko\n",
      "\u001b[?25l  Downloading https://files.pythonhosted.org/packages/0d/18/abb1f084cffc5d085e433a56cd7cebca02e2d0ce773f3d5185ae140e4cfd/netmiko-2.4.1-py2.py3-none-any.whl (142kB)\n",
      "\u001b[K     |████████████████████████████████| 143kB 778kB/s eta 0:00:01\n",
      "\u001b[?25hCollecting textfsm (from netmiko)\n",
      "  Downloading https://files.pythonhosted.org/packages/bd/27/0b149b6da3e47cc8daebace6920093114392171a8f5c24f1f2ad9a9e9c4d/textfsm-1.1.0-py2.py3-none-any.whl\n",
      "Collecting scp>=0.13.2 (from netmiko)\n",
      "  Downloading https://files.pythonhosted.org/packages/4d/7a/3d76dc5ad8deea79642f50a572e1c057cb27e8b427f83781a2c05ce4e5b6/scp-0.13.2-py2.py3-none-any.whl\n",
      "Requirement already satisfied: setuptools>=38.4.0 in /Users/kholed/anaconda3/lib/python3.7/site-packages (from netmiko) (41.0.1)\n",
      "Collecting paramiko>=2.4.3 (from netmiko)\n",
      "\u001b[?25l  Downloading https://files.pythonhosted.org/packages/4b/80/74dace9e48b0ef923633dfb5e48798f58a168e4734bca8ecfaf839ba051a/paramiko-2.6.0-py2.py3-none-any.whl (199kB)\n",
      "\u001b[K     |████████████████████████████████| 204kB 2.2MB/s eta 0:00:01\n",
      "\u001b[?25hCollecting pyserial (from netmiko)\n",
      "\u001b[?25l  Downloading https://files.pythonhosted.org/packages/0d/e4/2a744dd9e3be04a0c0907414e2a01a7c88bb3915cbe3c8cc06e209f59c30/pyserial-3.4-py2.py3-none-any.whl (193kB)\n",
      "\u001b[K     |████████████████████████████████| 194kB 23.6MB/s eta 0:00:01\n",
      "\u001b[?25hRequirement already satisfied: future in /Users/kholed/anaconda3/lib/python3.7/site-packages (from textfsm->netmiko) (0.17.1)\n",
      "Requirement already satisfied: six in /Users/kholed/anaconda3/lib/python3.7/site-packages (from textfsm->netmiko) (1.12.0)\n",
      "Collecting bcrypt>=3.1.3 (from paramiko>=2.4.3->netmiko)\n",
      "\u001b[?25l  Downloading https://files.pythonhosted.org/packages/62/20/4c94f3f8dfc6b8720c8bc903ce2951ec6397ad864e3a64b4abdced014514/bcrypt-3.1.7-cp34-abi3-macosx_10_6_intel.whl (53kB)\n",
      "\u001b[K     |████████████████████████████████| 61kB 12.0MB/s eta 0:00:01\n",
      "\u001b[?25hCollecting pynacl>=1.0.1 (from paramiko>=2.4.3->netmiko)\n",
      "\u001b[?25l  Downloading https://files.pythonhosted.org/packages/cd/c9/4d6deea9d900345b1243cc3e6265110697fae5e594689cfa1ba34e0ef4a8/PyNaCl-1.3.0-cp34-abi3-macosx_10_6_intel.whl (284kB)\n",
      "\u001b[K     |████████████████████████████████| 286kB 27.8MB/s eta 0:00:01\n",
      "\u001b[?25hRequirement already satisfied: cryptography>=2.5 in /Users/kholed/anaconda3/lib/python3.7/site-packages (from paramiko>=2.4.3->netmiko) (2.7)\n",
      "Requirement already satisfied: cffi>=1.1 in /Users/kholed/anaconda3/lib/python3.7/site-packages (from bcrypt>=3.1.3->paramiko>=2.4.3->netmiko) (1.12.3)\n",
      "Requirement already satisfied: asn1crypto>=0.21.0 in /Users/kholed/anaconda3/lib/python3.7/site-packages (from cryptography>=2.5->paramiko>=2.4.3->netmiko) (0.24.0)\n",
      "Requirement already satisfied: pycparser in /Users/kholed/anaconda3/lib/python3.7/site-packages (from cffi>=1.1->bcrypt>=3.1.3->paramiko>=2.4.3->netmiko) (2.19)\n",
      "Installing collected packages: textfsm, bcrypt, pynacl, paramiko, scp, pyserial, netmiko\n",
      "Successfully installed bcrypt-3.1.7 netmiko-2.4.1 paramiko-2.6.0 pynacl-1.3.0 pyserial-3.4 scp-0.13.2 textfsm-1.1.0\n",
      "Note: you may need to restart the kernel to use updated packages.\n"
     ]
    }
   ],
   "source": [
    "# install package\n",
    "pip install netmiko"
   ]
  },
  {
   "cell_type": "code",
   "execution_count": 24,
   "metadata": {},
   "outputs": [],
   "source": [
    "# import to use package\n",
    "from netmiko import ConnectHandler"
   ]
  },
  {
   "cell_type": "code",
   "execution_count": 43,
   "metadata": {},
   "outputs": [],
   "source": [
    "# create connection and connect\n",
    "# password = open(\"passwd\",\"r\").read().strip()\n",
    "net_connect = ConnectHandler(device_type=\"terminal_server\",ip=\"10.10.2.248\", username=\"lab\",password=\"123456\")"
   ]
  },
  {
   "cell_type": "code",
   "execution_count": null,
   "metadata": {},
   "outputs": [],
   "source": []
  },
  {
   "cell_type": "code",
   "execution_count": 44,
   "metadata": {},
   "outputs": [
    {
     "name": "stdout",
     "output_type": "stream",
     "text": [
      "total 32\n",
      "drwxr-xr-x 4 lab  lab  4096 Aug 29 06:25 \u001b[0m\u001b[01;34m.\u001b[0m\n",
      "drwxr-xr-x 3 root root 4096 Aug 29 05:58 \u001b[01;34m..\u001b[0m\n",
      "-rw------- 1 lab  lab   419 Aug 29 06:14 .bash_history\n",
      "-rw-r--r-- 1 lab  lab   220 Aug 29 05:58 .bash_logout\n",
      "-rw-r--r-- 1 lab  lab  3771 Aug 29 05:58 .bashrc\n",
      "drwx------ 2 lab  lab  4096 Aug 29 05:59 \u001b[01;34m.cache\u001b[0m\n",
      "drwxrwxr-x 2 lab  lab  4096 Aug 29 06:06 \u001b[01;34m.nano\u001b[0m\n",
      "-rw-r--r-- 1 lab  lab   655 Aug 29 05:58 .profile\n",
      "-rw-r--r-- 1 lab  lab     0 Aug 29 05:59 .sudo_as_admin_successful\n"
     ]
    }
   ],
   "source": [
    "# send command to execute\n",
    "tmp = net_connect.send_command(\"ls -al\")\n",
    "print(tmp)"
   ]
  },
  {
   "cell_type": "code",
   "execution_count": 45,
   "metadata": {},
   "outputs": [
    {
     "name": "stdout",
     "output_type": "stream",
     "text": [
      "/home/lab\n"
     ]
    }
   ],
   "source": [
    "# send command to execute\n",
    "tmp = net_connect.send_command(\"pwd\")\n",
    "print(tmp)"
   ]
  },
  {
   "cell_type": "code",
   "execution_count": 47,
   "metadata": {},
   "outputs": [
    {
     "name": "stdout",
     "output_type": "stream",
     "text": [
      "total 440\n",
      "drwxr-xr-x 106 lab  lab  4096 Aug 29 11:47 \u001b[0m\u001b[01;34m.\u001b[0m\n",
      "drwxr-xr-x   3 root root 4096 Aug 29 05:58 \u001b[01;34m..\u001b[0m\n",
      "-rw-------   1 lab  lab   419 Aug 29 06:14 .bash_history\n",
      "-rw-r--r--   1 lab  lab   220 Aug 29 05:58 .bash_logout\n",
      "-rw-r--r--   1 lab  lab  3771 Aug 29 05:58 .bashrc\n",
      "drwx------   2 lab  lab  4096 Aug 29 05:59 \u001b[01;34m.cache\u001b[0m\n",
      "drwxrwxr-x   2 lab  lab  4096 Aug 29 11:46 \u001b[01;34mitest\u001b[0m\n",
      "drwxrwxr-x   2 lab  lab  4096 Aug 29 06:06 \u001b[01;34m.nano\u001b[0m\n",
      "-rw-r--r--   1 lab  lab   655 Aug 29 05:58 .profile\n",
      "drwxrwxr-x   2 lab  lab  4096 Aug 29 11:45 \u001b[01;34mrain\u001b[0m\n",
      "-rw-r--r--   1 lab  lab     0 Aug 29 05:59 .sudo_as_admin_successful\n",
      "drwxrwxr-x   2 lab  lab  4096 Aug 29 11:45 \u001b[01;34mtest\u001b[0m\n",
      "drwxrwxr-x   2 lab  lab  4096 Aug 29 11:46 \u001b[01;34mtest-0\u001b[0m\n",
      "drwxrwxr-x   2 lab  lab  4096 Aug 29 11:46 \u001b[01;34mtest-1\u001b[0m\n",
      "drwxrwxr-x   2 lab  lab  4096 Aug 29 11:46 \u001b[01;34mtest-10\u001b[0m\n",
      "drwxrwxr-x   2 lab  lab  4096 Aug 29 11:46 \u001b[01;34mtest-11\u001b[0m\n",
      "drwxrwxr-x   2 lab  lab  4096 Aug 29 11:46 \u001b[01;34mtest-12\u001b[0m\n",
      "drwxrwxr-x   2 lab  lab  4096 Aug 29 11:46 \u001b[01;34mtest-13\u001b[0m\n",
      "drwxrwxr-x   2 lab  lab  4096 Aug 29 11:46 \u001b[01;34mtest-14\u001b[0m\n",
      "drwxrwxr-x   2 lab  lab  4096 Aug 29 11:46 \u001b[01;34mtest-15\u001b[0m\n",
      "drwxrwxr-x   2 lab  lab  4096 Aug 29 11:46 \u001b[01;34mtest-16\u001b[0m\n",
      "drwxrwxr-x   2 lab  lab  4096 Aug 29 11:46 \u001b[01;34mtest-17\u001b[0m\n",
      "drwxrwxr-x   2 lab  lab  4096 Aug 29 11:46 \u001b[01;34mtest-18\u001b[0m\n",
      "drwxrwxr-x   2 lab  lab  4096 Aug 29 11:46 \u001b[01;34mtest-19\u001b[0m\n",
      "drwxrwxr-x   2 lab  lab  4096 Aug 29 11:46 \u001b[01;34mtest-2\u001b[0m\n",
      "drwxrwxr-x   2 lab  lab  4096 Aug 29 11:46 \u001b[01;34mtest-20\u001b[0m\n",
      "drwxrwxr-x   2 lab  lab  4096 Aug 29 11:46 \u001b[01;34mtest-21\u001b[0m\n",
      "drwxrwxr-x   2 lab  lab  4096 Aug 29 11:46 \u001b[01;34mtest-22\u001b[0m\n",
      "drwxrwxr-x   2 lab  lab  4096 Aug 29 11:46 \u001b[01;34mtest-23\u001b[0m\n",
      "drwxrwxr-x   2 lab  lab  4096 Aug 29 11:46 \u001b[01;34mtest-24\u001b[0m\n",
      "drwxrwxr-x   2 lab  lab  4096 Aug 29 11:46 \u001b[01;34mtest-25\u001b[0m\n",
      "drwxrwxr-x   2 lab  lab  4096 Aug 29 11:46 \u001b[01;34mtest-26\u001b[0m\n",
      "drwxrwxr-x   2 lab  lab  4096 Aug 29 11:46 \u001b[01;34mtest-27\u001b[0m\n",
      "drwxrwxr-x   2 lab  lab  4096 Aug 29 11:46 \u001b[01;34mtest-28\u001b[0m\n",
      "drwxrwxr-x   2 lab  lab  4096 Aug 29 11:46 \u001b[01;34mtest-29\u001b[0m\n",
      "drwxrwxr-x   2 lab  lab  4096 Aug 29 11:46 \u001b[01;34mtest-3\u001b[0m\n",
      "drwxrwxr-x   2 lab  lab  4096 Aug 29 11:46 \u001b[01;34mtest-30\u001b[0m\n",
      "drwxrwxr-x   2 lab  lab  4096 Aug 29 11:46 \u001b[01;34mtest-31\u001b[0m\n",
      "drwxrwxr-x   2 lab  lab  4096 Aug 29 11:46 \u001b[01;34mtest-32\u001b[0m\n",
      "drwxrwxr-x   2 lab  lab  4096 Aug 29 11:46 \u001b[01;34mtest-33\u001b[0m\n",
      "drwxrwxr-x   2 lab  lab  4096 Aug 29 11:46 \u001b[01;34mtest-34\u001b[0m\n",
      "drwxrwxr-x   2 lab  lab  4096 Aug 29 11:46 \u001b[01;34mtest-35\u001b[0m\n",
      "drwxrwxr-x   2 lab  lab  4096 Aug 29 11:46 \u001b[01;34mtest-36\u001b[0m\n",
      "drwxrwxr-x   2 lab  lab  4096 Aug 29 11:46 \u001b[01;34mtest-37\u001b[0m\n",
      "drwxrwxr-x   2 lab  lab  4096 Aug 29 11:46 \u001b[01;34mtest-38\u001b[0m\n",
      "drwxrwxr-x   2 lab  lab  4096 Aug 29 11:46 \u001b[01;34mtest-39\u001b[0m\n",
      "drwxrwxr-x   2 lab  lab  4096 Aug 29 11:46 \u001b[01;34mtest-4\u001b[0m\n",
      "drwxrwxr-x   2 lab  lab  4096 Aug 29 11:46 \u001b[01;34mtest-40\u001b[0m\n",
      "drwxrwxr-x   2 lab  lab  4096 Aug 29 11:46 \u001b[01;34mtest-41\u001b[0m\n",
      "drwxrwxr-x   2 lab  lab  4096 Aug 29 11:46 \u001b[01;34mtest-42\u001b[0m\n",
      "drwxrwxr-x   2 lab  lab  4096 Aug 29 11:46 \u001b[01;34mtest-43\u001b[0m\n",
      "drwxrwxr-x   2 lab  lab  4096 Aug 29 11:46 \u001b[01;34mtest-44\u001b[0m\n",
      "drwxrwxr-x   2 lab  lab  4096 Aug 29 11:46 \u001b[01;34mtest-45\u001b[0m\n",
      "drwxrwxr-x   2 lab  lab  4096 Aug 29 11:46 \u001b[01;34mtest-46\u001b[0m\n",
      "drwxrwxr-x   2 lab  lab  4096 Aug 29 11:46 \u001b[01;34mtest-47\u001b[0m\n",
      "drwxrwxr-x   2 lab  lab  4096 Aug 29 11:46 \u001b[01;34mtest-48\u001b[0m\n",
      "drwxrwxr-x   2 lab  lab  4096 Aug 29 11:46 \u001b[01;34mtest-49\u001b[0m\n",
      "drwxrwxr-x   2 lab  lab  4096 Aug 29 11:46 \u001b[01;34mtest-5\u001b[0m\n",
      "drwxrwxr-x   2 lab  lab  4096 Aug 29 11:46 \u001b[01;34mtest-50\u001b[0m\n",
      "drwxrwxr-x   2 lab  lab  4096 Aug 29 11:46 \u001b[01;34mtest-51\u001b[0m\n",
      "drwxrwxr-x   2 lab  lab  4096 Aug 29 11:46 \u001b[01;34mtest-52\u001b[0m\n",
      "drwxrwxr-x   2 lab  lab  4096 Aug 29 11:46 \u001b[01;34mtest-53\u001b[0m\n",
      "drwxrwxr-x   2 lab  lab  4096 Aug 29 11:46 \u001b[01;34mtest-54\u001b[0m\n",
      "drwxrwxr-x   2 lab  lab  4096 Aug 29 11:46 \u001b[01;34mtest-55\u001b[0m\n",
      "drwxrwxr-x   2 lab  lab  4096 Aug 29 11:46 \u001b[01;34mtest-56\u001b[0m\n",
      "drwxrwxr-x   2 lab  lab  4096 Aug 29 11:46 \u001b[01;34mtest-57\u001b[0m\n",
      "drwxrwxr-x   2 lab  lab  4096 Aug 29 11:46 \u001b[01;34mtest-58\u001b[0m\n",
      "drwxrwxr-x   2 lab  lab  4096 Aug 29 11:46 \u001b[01;34mtest-59\u001b[0m\n",
      "drwxrwxr-x   2 lab  lab  4096 Aug 29 11:46 \u001b[01;34mtest-6\u001b[0m\n",
      "drwxrwxr-x   2 lab  lab  4096 Aug 29 11:46 \u001b[01;34mtest-60\u001b[0m\n",
      "drwxrwxr-x   2 lab  lab  4096 Aug 29 11:46 \u001b[01;34mtest-61\u001b[0m\n",
      "drwxrwxr-x   2 lab  lab  4096 Aug 29 11:46 \u001b[01;34mtest-62\u001b[0m\n",
      "drwxrwxr-x   2 lab  lab  4096 Aug 29 11:46 \u001b[01;34mtest-63\u001b[0m\n",
      "drwxrwxr-x   2 lab  lab  4096 Aug 29 11:46 \u001b[01;34mtest-64\u001b[0m\n",
      "drwxrwxr-x   2 lab  lab  4096 Aug 29 11:46 \u001b[01;34mtest-65\u001b[0m\n",
      "drwxrwxr-x   2 lab  lab  4096 Aug 29 11:46 \u001b[01;34mtest-66\u001b[0m\n",
      "drwxrwxr-x   2 lab  lab  4096 Aug 29 11:46 \u001b[01;34mtest-67\u001b[0m\n",
      "drwxrwxr-x   2 lab  lab  4096 Aug 29 11:46 \u001b[01;34mtest-68\u001b[0m\n",
      "drwxrwxr-x   2 lab  lab  4096 Aug 29 11:46 \u001b[01;34mtest-69\u001b[0m\n",
      "drwxrwxr-x   2 lab  lab  4096 Aug 29 11:46 \u001b[01;34mtest-7\u001b[0m\n",
      "drwxrwxr-x   2 lab  lab  4096 Aug 29 11:46 \u001b[01;34mtest-70\u001b[0m\n",
      "drwxrwxr-x   2 lab  lab  4096 Aug 29 11:46 \u001b[01;34mtest-71\u001b[0m\n",
      "drwxrwxr-x   2 lab  lab  4096 Aug 29 11:46 \u001b[01;34mtest-72\u001b[0m\n",
      "drwxrwxr-x   2 lab  lab  4096 Aug 29 11:46 \u001b[01;34mtest-73\u001b[0m\n",
      "drwxrwxr-x   2 lab  lab  4096 Aug 29 11:46 \u001b[01;34mtest-74\u001b[0m\n",
      "drwxrwxr-x   2 lab  lab  4096 Aug 29 11:46 \u001b[01;34mtest-75\u001b[0m\n",
      "drwxrwxr-x   2 lab  lab  4096 Aug 29 11:47 \u001b[01;34mtest-76\u001b[0m\n",
      "drwxrwxr-x   2 lab  lab  4096 Aug 29 11:47 \u001b[01;34mtest-77\u001b[0m\n",
      "drwxrwxr-x   2 lab  lab  4096 Aug 29 11:47 \u001b[01;34mtest-78\u001b[0m\n",
      "drwxrwxr-x   2 lab  lab  4096 Aug 29 11:47 \u001b[01;34mtest-79\u001b[0m\n",
      "drwxrwxr-x   2 lab  lab  4096 Aug 29 11:46 \u001b[01;34mtest-8\u001b[0m\n",
      "drwxrwxr-x   2 lab  lab  4096 Aug 29 11:47 \u001b[01;34mtest-80\u001b[0m\n",
      "drwxrwxr-x   2 lab  lab  4096 Aug 29 11:47 \u001b[01;34mtest-81\u001b[0m\n",
      "drwxrwxr-x   2 lab  lab  4096 Aug 29 11:47 \u001b[01;34mtest-82\u001b[0m\n",
      "drwxrwxr-x   2 lab  lab  4096 Aug 29 11:47 \u001b[01;34mtest-83\u001b[0m\n",
      "drwxrwxr-x   2 lab  lab  4096 Aug 29 11:47 \u001b[01;34mtest-84\u001b[0m\n",
      "drwxrwxr-x   2 lab  lab  4096 Aug 29 11:47 \u001b[01;34mtest-85\u001b[0m\n",
      "drwxrwxr-x   2 lab  lab  4096 Aug 29 11:47 \u001b[01;34mtest-86\u001b[0m\n",
      "drwxrwxr-x   2 lab  lab  4096 Aug 29 11:47 \u001b[01;34mtest-87\u001b[0m\n",
      "drwxrwxr-x   2 lab  lab  4096 Aug 29 11:47 \u001b[01;34mtest-88\u001b[0m\n",
      "drwxrwxr-x   2 lab  lab  4096 Aug 29 11:47 \u001b[01;34mtest-89\u001b[0m\n",
      "drwxrwxr-x   2 lab  lab  4096 Aug 29 11:46 \u001b[01;34mtest-9\u001b[0m\n",
      "drwxrwxr-x   2 lab  lab  4096 Aug 29 11:47 \u001b[01;34mtest-90\u001b[0m\n",
      "drwxrwxr-x   2 lab  lab  4096 Aug 29 11:47 \u001b[01;34mtest-91\u001b[0m\n",
      "drwxrwxr-x   2 lab  lab  4096 Aug 29 11:47 \u001b[01;34mtest-92\u001b[0m\n",
      "drwxrwxr-x   2 lab  lab  4096 Aug 29 11:47 \u001b[01;34mtest-93\u001b[0m\n",
      "drwxrwxr-x   2 lab  lab  4096 Aug 29 11:47 \u001b[01;34mtest-94\u001b[0m\n",
      "drwxrwxr-x   2 lab  lab  4096 Aug 29 11:47 \u001b[01;34mtest-95\u001b[0m\n",
      "drwxrwxr-x   2 lab  lab  4096 Aug 29 11:47 \u001b[01;34mtest-96\u001b[0m\n",
      "drwxrwxr-x   2 lab  lab  4096 Aug 29 11:47 \u001b[01;34mtest-97\u001b[0m\n",
      "drwxrwxr-x   2 lab  lab  4096 Aug 29 11:47 \u001b[01;34mtest-98\u001b[0m\n"
     ]
    }
   ],
   "source": [
    "# send command to execute\n",
    "tmp = net_connect.send_command(\"mkdir itest\")\n",
    "tmp = net_connect.send_command(\"ls -al\")\n",
    "print(tmp)"
   ]
  },
  {
   "cell_type": "code",
   "execution_count": 50,
   "metadata": {},
   "outputs": [],
   "source": [
    "# create multile folder using for loob\n",
    "for i in range(10):\n",
    "    tmp = net_connect.send_command(\"mkdir Kholed-%d\"%i)"
   ]
  },
  {
   "cell_type": "code",
   "execution_count": 52,
   "metadata": {},
   "outputs": [
    {
     "name": "stdout",
     "output_type": "stream",
     "text": [
      "total 2868\n",
      "drwxr-xr-x 709 lab  lab  20480 Aug 29 11:53 \u001b[0m\u001b[01;34m.\u001b[0m\n",
      "drwxr-xr-x   3 root root  4096 Aug 29 05:58 \u001b[01;34m..\u001b[0m\n",
      "-rw-------   1 lab  lab    419 Aug 29 06:14 .bash_history\n",
      "-rw-r--r--   1 lab  lab    220 Aug 29 05:58 .bash_logout\n",
      "-rw-r--r--   1 lab  lab   3771 Aug 29 05:58 .bashrc\n",
      "drwx------   2 lab  lab   4096 Aug 29 05:59 \u001b[01;34m.cache\u001b[0m\n",
      "drwxrwxr-x   2 lab  lab   4096 Aug 29 11:46 \u001b[01;34mitest\u001b[0m\n",
      "drwxrwxr-x   2 lab  lab   4096 Aug 29 11:48 \u001b[01;34mitest-0\u001b[0m\n",
      "drwxrwxr-x   2 lab  lab   4096 Aug 29 11:48 \u001b[01;34mitest-1\u001b[0m\n",
      "drwxrwxr-x   2 lab  lab   4096 Aug 29 11:48 \u001b[01;34mitest-2\u001b[0m\n",
      "drwxrwxr-x   2 lab  lab   4096 Aug 29 11:48 \u001b[01;34mitest-3\u001b[0m\n",
      "drwxrwxr-x   2 lab  lab   4096 Aug 29 11:48 \u001b[01;34mitest-4\u001b[0m\n",
      "drwxrwxr-x   2 lab  lab   4096 Aug 29 11:48 \u001b[01;34mitest-5\u001b[0m\n",
      "drwxrwxr-x   2 lab  lab   4096 Aug 29 11:48 \u001b[01;34mitest-6\u001b[0m\n",
      "drwxrwxr-x   2 lab  lab   4096 Aug 29 11:48 \u001b[01;34mitest-7\u001b[0m\n",
      "drwxrwxr-x   2 lab  lab   4096 Aug 29 11:48 \u001b[01;34mitest-8\u001b[0m\n",
      "drwxrwxr-x   2 lab  lab   4096 Aug 29 11:48 \u001b[01;34mitest-9\u001b[0m\n",
      "drwxrwxr-x   2 lab  lab   4096 Aug 29 11:49 \u001b[01;34mKholed-0\u001b[0m\n",
      "drwxrwxr-x   2 lab  lab   4096 Aug 29 11:49 \u001b[01;34mKholed-1\u001b[0m\n",
      "drwxrwxr-x   2 lab  lab   4096 Aug 29 11:49 \u001b[01;34mKholed-2\u001b[0m\n",
      "drwxrwxr-x   2 lab  lab   4096 Aug 29 11:49 \u001b[01;34mKholed-3\u001b[0m\n",
      "drwxrwxr-x   2 lab  lab   4096 Aug 29 11:49 \u001b[01;34mKholed-4\u001b[0m\n",
      "drwxrwxr-x   2 lab  lab   4096 Aug 29 11:49 \u001b[01;34mKholed-5\u001b[0m\n",
      "drwxrwxr-x   2 lab  lab   4096 Aug 29 11:49 \u001b[01;34mKholed-6\u001b[0m\n",
      "drwxrwxr-x   2 lab  lab   4096 Aug 29 11:49 \u001b[01;34mKholed-7\u001b[0m\n",
      "drwxrwxr-x   2 lab  lab   4096 Aug 29 11:49 \u001b[01;34mKholed-8\u001b[0m\n",
      "drwxrwxr-x   2 lab  lab   4096 Aug 29 11:49 \u001b[01;34mKholed-9\u001b[0m\n",
      "drwxrwxr-x   2 lab  lab   4096 Aug 29 06:06 \u001b[01;34m.nano\u001b[0m\n",
      "-rw-r--r--   1 lab  lab    655 Aug 29 05:58 .profile\n",
      "drwxrwxr-x   2 lab  lab   4096 Aug 29 11:45 \u001b[01;34mrain\u001b[0m\n",
      "-rw-r--r--   1 lab  lab      0 Aug 29 05:59 .sudo_as_admin_successful\n",
      "drwxrwxr-x   2 lab  lab   4096 Aug 29 11:45 \u001b[01;34mtest\u001b[0m\n",
      "drwxrwxr-x   2 lab  lab   4096 Aug 29 11:46 \u001b[01;34mtest-0\u001b[0m\n",
      "drwxrwxr-x   2 lab  lab   4096 Aug 29 11:46 \u001b[01;34mtest-1\u001b[0m\n",
      "drwxrwxr-x   2 lab  lab   4096 Aug 29 11:46 \u001b[01;34mtest-10\u001b[0m\n",
      "drwxrwxr-x   2 lab  lab   4096 Aug 29 11:47 \u001b[01;34mtest-100\u001b[0m\n",
      "drwxrwxr-x   2 lab  lab   4096 Aug 29 11:47 \u001b[01;34mtest-101\u001b[0m\n",
      "drwxrwxr-x   2 lab  lab   4096 Aug 29 11:47 \u001b[01;34mtest-102\u001b[0m\n",
      "drwxrwxr-x   2 lab  lab   4096 Aug 29 11:47 \u001b[01;34mtest-103\u001b[0m\n",
      "drwxrwxr-x   2 lab  lab   4096 Aug 29 11:47 \u001b[01;34mtest-104\u001b[0m\n",
      "drwxrwxr-x   2 lab  lab   4096 Aug 29 11:47 \u001b[01;34mtest-105\u001b[0m\n",
      "drwxrwxr-x   2 lab  lab   4096 Aug 29 11:47 \u001b[01;34mtest-106\u001b[0m\n",
      "drwxrwxr-x   2 lab  lab   4096 Aug 29 11:47 \u001b[01;34mtest-107\u001b[0m\n",
      "drwxrwxr-x   2 lab  lab   4096 Aug 29 11:47 \u001b[01;34mtest-108\u001b[0m\n",
      "drwxrwxr-x   2 lab  lab   4096 Aug 29 11:47 \u001b[01;34mtest-109\u001b[0m\n",
      "drwxrwxr-x   2 lab  lab   4096 Aug 29 11:46 \u001b[01;34mtest-11\u001b[0m\n",
      "drwxrwxr-x   2 lab  lab   4096 Aug 29 11:47 \u001b[01;34mtest-110\u001b[0m\n",
      "drwxrwxr-x   2 lab  lab   4096 Aug 29 11:47 \u001b[01;34mtest-111\u001b[0m\n",
      "drwxrwxr-x   2 lab  lab   4096 Aug 29 11:47 \u001b[01;34mtest-112\u001b[0m\n",
      "drwxrwxr-x   2 lab  lab   4096 Aug 29 11:47 \u001b[01;34mtest-113\u001b[0m\n",
      "drwxrwxr-x   2 lab  lab   4096 Aug 29 11:47 \u001b[01;34mtest-114\u001b[0m\n",
      "drwxrwxr-x   2 lab  lab   4096 Aug 29 11:47 \u001b[01;34mtest-115\u001b[0m\n",
      "drwxrwxr-x   2 lab  lab   4096 Aug 29 11:47 \u001b[01;34mtest-116\u001b[0m\n",
      "drwxrwxr-x   2 lab  lab   4096 Aug 29 11:47 \u001b[01;34mtest-117\u001b[0m\n",
      "drwxrwxr-x   2 lab  lab   4096 Aug 29 11:47 \u001b[01;34mtest-118\u001b[0m\n",
      "drwxrwxr-x   2 lab  lab   4096 Aug 29 11:47 \u001b[01;34mtest-119\u001b[0m\n",
      "drwxrwxr-x   2 lab  lab   4096 Aug 29 11:46 \u001b[01;34mtest-12\u001b[0m\n",
      "drwxrwxr-x   2 lab  lab   4096 Aug 29 11:47 \u001b[01;34mtest-120\u001b[0m\n",
      "drwxrwxr-x   2 lab  lab   4096 Aug 29 11:47 \u001b[01;34mtest-121\u001b[0m\n",
      "drwxrwxr-x   2 lab  lab   4096 Aug 29 11:47 \u001b[01;34mtest-122\u001b[0m\n",
      "drwxrwxr-x   2 lab  lab   4096 Aug 29 11:47 \u001b[01;34mtest-123\u001b[0m\n",
      "drwxrwxr-x   2 lab  lab   4096 Aug 29 11:47 \u001b[01;34mtest-124\u001b[0m\n",
      "drwxrwxr-x   2 lab  lab   4096 Aug 29 11:47 \u001b[01;34mtest-125\u001b[0m\n",
      "drwxrwxr-x   2 lab  lab   4096 Aug 29 11:47 \u001b[01;34mtest-126\u001b[0m\n",
      "drwxrwxr-x   2 lab  lab   4096 Aug 29 11:47 \u001b[01;34mtest-127\u001b[0m\n",
      "drwxrwxr-x   2 lab  lab   4096 Aug 29 11:47 \u001b[01;34mtest-128\u001b[0m\n",
      "drwxrwxr-x   2 lab  lab   4096 Aug 29 11:47 \u001b[01;34mtest-129\u001b[0m\n",
      "drwxrwxr-x   2 lab  lab   4096 Aug 29 11:46 \u001b[01;34mtest-13\u001b[0m\n",
      "drwxrwxr-x   2 lab  lab   4096 Aug 29 11:47 \u001b[01;34mtest-130\u001b[0m\n",
      "drwxrwxr-x   2 lab  lab   4096 Aug 29 11:47 \u001b[01;34mtest-131\u001b[0m\n",
      "drwxrwxr-x   2 lab  lab   4096 Aug 29 11:47 \u001b[01;34mtest-132\u001b[0m\n",
      "drwxrwxr-x   2 lab  lab   4096 Aug 29 11:47 \u001b[01;34mtest-133\u001b[0m\n",
      "drwxrwxr-x   2 lab  lab   4096 Aug 29 11:47 \u001b[01;34mtest-134\u001b[0m\n",
      "drwxrwxr-x   2 lab  lab   4096 Aug 29 11:47 \u001b[01;34mtest-135\u001b[0m\n",
      "drwxrwxr-x   2 lab  lab   4096 Aug 29 11:47 \u001b[01;34mtest-136\u001b[0m\n",
      "drwxrwxr-x   2 lab  lab   4096 Aug 29 11:47 \u001b[01;34mtest-137\u001b[0m\n",
      "drwxrwxr-x   2 lab  lab   4096 Aug 29 11:47 \u001b[01;34mtest-138\u001b[0m\n",
      "drwxrwxr-x   2 lab  lab   4096 Aug 29 11:47 \u001b[01;34mtest-139\u001b[0m\n",
      "drwxrwxr-x   2 lab  lab   4096 Aug 29 11:46 \u001b[01;34mtest-14\u001b[0m\n",
      "drwxrwxr-x   2 lab  lab   4096 Aug 29 11:47 \u001b[01;34mtest-140\u001b[0m\n",
      "drwxrwxr-x   2 lab  lab   4096 Aug 29 11:47 \u001b[01;34mtest-141\u001b[0m\n",
      "drwxrwxr-x   2 lab  lab   4096 Aug 29 11:47 \u001b[01;34mtest-142\u001b[0m\n",
      "drwxrwxr-x   2 lab  lab   4096 Aug 29 11:47 \u001b[01;34mtest-143\u001b[0m\n",
      "drwxrwxr-x   2 lab  lab   4096 Aug 29 11:47 \u001b[01;34mtest-144\u001b[0m\n",
      "drwxrwxr-x   2 lab  lab   4096 Aug 29 11:47 \u001b[01;34mtest-145\u001b[0m\n",
      "drwxrwxr-x   2 lab  lab   4096 Aug 29 11:47 \u001b[01;34mtest-146\u001b[0m\n",
      "drwxrwxr-x   2 lab  lab   4096 Aug 29 11:47 \u001b[01;34mtest-147\u001b[0m\n",
      "drwxrwxr-x   2 lab  lab   4096 Aug 29 11:47 \u001b[01;34mtest-148\u001b[0m\n",
      "drwxrwxr-x   2 lab  lab   4096 Aug 29 11:47 \u001b[01;34mtest-149\u001b[0m\n",
      "drwxrwxr-x   2 lab  lab   4096 Aug 29 11:46 \u001b[01;34mtest-15\u001b[0m\n",
      "drwxrwxr-x   2 lab  lab   4096 Aug 29 11:47 \u001b[01;34mtest-150\u001b[0m\n",
      "drwxrwxr-x   2 lab  lab   4096 Aug 29 11:47 \u001b[01;34mtest-151\u001b[0m\n",
      "drwxrwxr-x   2 lab  lab   4096 Aug 29 11:47 \u001b[01;34mtest-152\u001b[0m\n",
      "drwxrwxr-x   2 lab  lab   4096 Aug 29 11:47 \u001b[01;34mtest-153\u001b[0m\n",
      "drwxrwxr-x   2 lab  lab   4096 Aug 29 11:47 \u001b[01;34mtest-154\u001b[0m\n",
      "drwxrwxr-x   2 lab  lab   4096 Aug 29 11:47 \u001b[01;34mtest-155\u001b[0m\n",
      "drwxrwxr-x   2 lab  lab   4096 Aug 29 11:47 \u001b[01;34mtest-156\u001b[0m\n",
      "drwxrwxr-x   2 lab  lab   4096 Aug 29 11:47 \u001b[01;34mtest-157\u001b[0m\n",
      "drwxrwxr-x   2 lab  lab   4096 Aug 29 11:47 \u001b[01;34mtest-158\u001b[0m\n",
      "drwxrwxr-x   2 lab  lab   4096 Aug 29 11:47 \u001b[01;34mtest-159\u001b[0m\n",
      "drwxrwxr-x   2 lab  lab   4096 Aug 29 11:46 \u001b[01;34mtest-16\u001b[0m\n",
      "drwxrwxr-x   2 lab  lab   4096 Aug 29 11:47 \u001b[01;34mtest-160\u001b[0m\n",
      "drwxrwxr-x   2 lab  lab   4096 Aug 29 11:47 \u001b[01;34mtest-161\u001b[0m\n",
      "drwxrwxr-x   2 lab  lab   4096 Aug 29 11:47 \u001b[01;34mtest-162\u001b[0m\n",
      "drwxrwxr-x   2 lab  lab   4096 Aug 29 11:47 \u001b[01;34mtest-163\u001b[0m\n",
      "drwxrwxr-x   2 lab  lab   4096 Aug 29 11:47 \u001b[01;34mtest-164\u001b[0m\n",
      "drwxrwxr-x   2 lab  lab   4096 Aug 29 11:47 \u001b[01;34mtest-165\u001b[0m\n",
      "drwxrwxr-x   2 lab  lab   4096 Aug 29 11:47 \u001b[01;34mtest-166\u001b[0m\n",
      "drwxrwxr-x   2 lab  lab   4096 Aug 29 11:47 \u001b[01;34mtest-167\u001b[0m\n",
      "drwxrwxr-x   2 lab  lab   4096 Aug 29 11:47 \u001b[01;34mtest-168\u001b[0m\n",
      "drwxrwxr-x   2 lab  lab   4096 Aug 29 11:47 \u001b[01;34mtest-169\u001b[0m\n",
      "drwxrwxr-x   2 lab  lab   4096 Aug 29 11:46 \u001b[01;34mtest-17\u001b[0m\n",
      "drwxrwxr-x   2 lab  lab   4096 Aug 29 11:47 \u001b[01;34mtest-170\u001b[0m\n",
      "drwxrwxr-x   2 lab  lab   4096 Aug 29 11:47 \u001b[01;34mtest-171\u001b[0m\n",
      "drwxrwxr-x   2 lab  lab   4096 Aug 29 11:47 \u001b[01;34mtest-172\u001b[0m\n",
      "drwxrwxr-x   2 lab  lab   4096 Aug 29 11:47 \u001b[01;34mtest-173\u001b[0m\n",
      "drwxrwxr-x   2 lab  lab   4096 Aug 29 11:47 \u001b[01;34mtest-174\u001b[0m\n",
      "drwxrwxr-x   2 lab  lab   4096 Aug 29 11:47 \u001b[01;34mtest-175\u001b[0m\n",
      "drwxrwxr-x   2 lab  lab   4096 Aug 29 11:48 \u001b[01;34mtest-176\u001b[0m\n",
      "drwxrwxr-x   2 lab  lab   4096 Aug 29 11:48 \u001b[01;34mtest-177\u001b[0m\n",
      "drwxrwxr-x   2 lab  lab   4096 Aug 29 11:48 \u001b[01;34mtest-178\u001b[0m\n",
      "drwxrwxr-x   2 lab  lab   4096 Aug 29 11:48 \u001b[01;34mtest-179\u001b[0m\n",
      "drwxrwxr-x   2 lab  lab   4096 Aug 29 11:46 \u001b[01;34mtest-18\u001b[0m\n",
      "drwxrwxr-x   2 lab  lab   4096 Aug 29 11:48 \u001b[01;34mtest-180\u001b[0m\n",
      "drwxrwxr-x   2 lab  lab   4096 Aug 29 11:48 \u001b[01;34mtest-181\u001b[0m\n",
      "drwxrwxr-x   2 lab  lab   4096 Aug 29 11:48 \u001b[01;34mtest-182\u001b[0m\n",
      "drwxrwxr-x   2 lab  lab   4096 Aug 29 11:48 \u001b[01;34mtest-183\u001b[0m\n",
      "drwxrwxr-x   2 lab  lab   4096 Aug 29 11:48 \u001b[01;34mtest-184\u001b[0m\n",
      "drwxrwxr-x   2 lab  lab   4096 Aug 29 11:48 \u001b[01;34mtest-185\u001b[0m\n",
      "drwxrwxr-x   2 lab  lab   4096 Aug 29 11:48 \u001b[01;34mtest-186\u001b[0m\n",
      "drwxrwxr-x   2 lab  lab   4096 Aug 29 11:48 \u001b[01;34mtest-187\u001b[0m\n",
      "drwxrwxr-x   2 lab  lab   4096 Aug 29 11:48 \u001b[01;34mtest-188\u001b[0m\n",
      "drwxrwxr-x   2 lab  lab   4096 Aug 29 11:48 \u001b[01;34mtest-189\u001b[0m\n",
      "drwxrwxr-x   2 lab  lab   4096 Aug 29 11:46 \u001b[01;34mtest-19\u001b[0m\n",
      "drwxrwxr-x   2 lab  lab   4096 Aug 29 11:48 \u001b[01;34mtest-190\u001b[0m\n",
      "drwxrwxr-x   2 lab  lab   4096 Aug 29 11:48 \u001b[01;34mtest-191\u001b[0m\n",
      "drwxrwxr-x   2 lab  lab   4096 Aug 29 11:48 \u001b[01;34mtest-192\u001b[0m\n",
      "drwxrwxr-x   2 lab  lab   4096 Aug 29 11:48 \u001b[01;34mtest-193\u001b[0m\n",
      "drwxrwxr-x   2 lab  lab   4096 Aug 29 11:48 \u001b[01;34mtest-194\u001b[0m\n",
      "drwxrwxr-x   2 lab  lab   4096 Aug 29 11:48 \u001b[01;34mtest-195\u001b[0m\n",
      "drwxrwxr-x   2 lab  lab   4096 Aug 29 11:48 \u001b[01;34mtest-196\u001b[0m\n",
      "drwxrwxr-x   2 lab  lab   4096 Aug 29 11:48 \u001b[01;34mtest-197\u001b[0m\n",
      "drwxrwxr-x   2 lab  lab   4096 Aug 29 11:48 \u001b[01;34mtest-198\u001b[0m\n",
      "drwxrwxr-x   2 lab  lab   4096 Aug 29 11:48 \u001b[01;34mtest-199\u001b[0m\n",
      "drwxrwxr-x   2 lab  lab   4096 Aug 29 11:46 \u001b[01;34mtest-2\u001b[0m\n",
      "drwxrwxr-x   2 lab  lab   4096 Aug 29 11:46 \u001b[01;34mtest-20\u001b[0m\n",
      "drwxrwxr-x   2 lab  lab   4096 Aug 29 11:48 \u001b[01;34mtest-200\u001b[0m\n",
      "drwxrwxr-x   2 lab  lab   4096 Aug 29 11:48 \u001b[01;34mtest-201\u001b[0m\n",
      "drwxrwxr-x   2 lab  lab   4096 Aug 29 11:48 \u001b[01;34mtest-202\u001b[0m\n",
      "drwxrwxr-x   2 lab  lab   4096 Aug 29 11:48 \u001b[01;34mtest-203\u001b[0m\n",
      "drwxrwxr-x   2 lab  lab   4096 Aug 29 11:48 \u001b[01;34mtest-204\u001b[0m\n",
      "drwxrwxr-x   2 lab  lab   4096 Aug 29 11:48 \u001b[01;34mtest-205\u001b[0m\n",
      "drwxrwxr-x   2 lab  lab   4096 Aug 29 11:48 \u001b[01;34mtest-206\u001b[0m\n",
      "drwxrwxr-x   2 lab  lab   4096 Aug 29 11:48 \u001b[01;34mtest-207\u001b[0m\n",
      "drwxrwxr-x   2 lab  lab   4096 Aug 29 11:48 \u001b[01;34mtest-208\u001b[0m\n",
      "drwxrwxr-x   2 lab  lab   4096 Aug 29 11:48 \u001b[01;34mtest-209\u001b[0m\n",
      "drwxrwxr-x   2 lab  lab   4096 Aug 29 11:46 \u001b[01;34mtest-21\u001b[0m\n",
      "drwxrwxr-x   2 lab  lab   4096 Aug 29 11:48 \u001b[01;34mtest-210\u001b[0m\n",
      "drwxrwxr-x   2 lab  lab   4096 Aug 29 11:48 \u001b[01;34mtest-211\u001b[0m\n",
      "drwxrwxr-x   2 lab  lab   4096 Aug 29 11:48 \u001b[01;34mtest-212\u001b[0m\n",
      "drwxrwxr-x   2 lab  lab   4096 Aug 29 11:48 \u001b[01;34mtest-213\u001b[0m\n",
      "drwxrwxr-x   2 lab  lab   4096 Aug 29 11:48 \u001b[01;34mtest-214\u001b[0m\n",
      "drwxrwxr-x   2 lab  lab   4096 Aug 29 11:48 \u001b[01;34mtest-215\u001b[0m\n",
      "drwxrwxr-x   2 lab  lab   4096 Aug 29 11:48 \u001b[01;34mtest-216\u001b[0m\n",
      "drwxrwxr-x   2 lab  lab   4096 Aug 29 11:48 \u001b[01;34mtest-217\u001b[0m\n",
      "drwxrwxr-x   2 lab  lab   4096 Aug 29 11:48 \u001b[01;34mtest-218\u001b[0m\n",
      "drwxrwxr-x   2 lab  lab   4096 Aug 29 11:48 \u001b[01;34mtest-219\u001b[0m\n",
      "drwxrwxr-x   2 lab  lab   4096 Aug 29 11:46 \u001b[01;34mtest-22\u001b[0m\n",
      "drwxrwxr-x   2 lab  lab   4096 Aug 29 11:48 \u001b[01;34mtest-220\u001b[0m\n",
      "drwxrwxr-x   2 lab  lab   4096 Aug 29 11:48 \u001b[01;34mtest-221\u001b[0m\n",
      "drwxrwxr-x   2 lab  lab   4096 Aug 29 11:48 \u001b[01;34mtest-222\u001b[0m\n",
      "drwxrwxr-x   2 lab  lab   4096 Aug 29 11:48 \u001b[01;34mtest-223\u001b[0m\n",
      "drwxrwxr-x   2 lab  lab   4096 Aug 29 11:48 \u001b[01;34mtest-224\u001b[0m\n",
      "drwxrwxr-x   2 lab  lab   4096 Aug 29 11:48 \u001b[01;34mtest-225\u001b[0m\n",
      "drwxrwxr-x   2 lab  lab   4096 Aug 29 11:48 \u001b[01;34mtest-226\u001b[0m\n",
      "drwxrwxr-x   2 lab  lab   4096 Aug 29 11:48 \u001b[01;34mtest-227\u001b[0m\n",
      "drwxrwxr-x   2 lab  lab   4096 Aug 29 11:48 \u001b[01;34mtest-228\u001b[0m\n",
      "drwxrwxr-x   2 lab  lab   4096 Aug 29 11:48 \u001b[01;34mtest-229\u001b[0m\n",
      "drwxrwxr-x   2 lab  lab   4096 Aug 29 11:46 \u001b[01;34mtest-23\u001b[0m\n",
      "drwxrwxr-x   2 lab  lab   4096 Aug 29 11:48 \u001b[01;34mtest-230\u001b[0m\n",
      "drwxrwxr-x   2 lab  lab   4096 Aug 29 11:48 \u001b[01;34mtest-231\u001b[0m\n",
      "drwxrwxr-x   2 lab  lab   4096 Aug 29 11:48 \u001b[01;34mtest-232\u001b[0m\n",
      "drwxrwxr-x   2 lab  lab   4096 Aug 29 11:48 \u001b[01;34mtest-233\u001b[0m\n",
      "drwxrwxr-x   2 lab  lab   4096 Aug 29 11:48 \u001b[01;34mtest-234\u001b[0m\n",
      "drwxrwxr-x   2 lab  lab   4096 Aug 29 11:48 \u001b[01;34mtest-235\u001b[0m\n",
      "drwxrwxr-x   2 lab  lab   4096 Aug 29 11:48 \u001b[01;34mtest-236\u001b[0m\n",
      "drwxrwxr-x   2 lab  lab   4096 Aug 29 11:48 \u001b[01;34mtest-237\u001b[0m\n",
      "drwxrwxr-x   2 lab  lab   4096 Aug 29 11:48 \u001b[01;34mtest-238\u001b[0m\n",
      "drwxrwxr-x   2 lab  lab   4096 Aug 29 11:48 \u001b[01;34mtest-239\u001b[0m\n",
      "drwxrwxr-x   2 lab  lab   4096 Aug 29 11:46 \u001b[01;34mtest-24\u001b[0m\n",
      "drwxrwxr-x   2 lab  lab   4096 Aug 29 11:48 \u001b[01;34mtest-240\u001b[0m\n",
      "drwxrwxr-x   2 lab  lab   4096 Aug 29 11:48 \u001b[01;34mtest-241\u001b[0m\n",
      "drwxrwxr-x   2 lab  lab   4096 Aug 29 11:48 \u001b[01;34mtest-242\u001b[0m\n",
      "drwxrwxr-x   2 lab  lab   4096 Aug 29 11:48 \u001b[01;34mtest-243\u001b[0m\n",
      "drwxrwxr-x   2 lab  lab   4096 Aug 29 11:48 \u001b[01;34mtest-244\u001b[0m\n",
      "drwxrwxr-x   2 lab  lab   4096 Aug 29 11:48 \u001b[01;34mtest-245\u001b[0m\n",
      "drwxrwxr-x   2 lab  lab   4096 Aug 29 11:48 \u001b[01;34mtest-246\u001b[0m\n",
      "drwxrwxr-x   2 lab  lab   4096 Aug 29 11:48 \u001b[01;34mtest-247\u001b[0m\n",
      "drwxrwxr-x   2 lab  lab   4096 Aug 29 11:48 \u001b[01;34mtest-248\u001b[0m\n",
      "drwxrwxr-x   2 lab  lab   4096 Aug 29 11:48 \u001b[01;34mtest-249\u001b[0m\n",
      "drwxrwxr-x   2 lab  lab   4096 Aug 29 11:46 \u001b[01;34mtest-25\u001b[0m\n",
      "drwxrwxr-x   2 lab  lab   4096 Aug 29 11:48 \u001b[01;34mtest-250\u001b[0m\n",
      "drwxrwxr-x   2 lab  lab   4096 Aug 29 11:48 \u001b[01;34mtest-251\u001b[0m\n",
      "drwxrwxr-x   2 lab  lab   4096 Aug 29 11:48 \u001b[01;34mtest-252\u001b[0m\n",
      "drwxrwxr-x   2 lab  lab   4096 Aug 29 11:48 \u001b[01;34mtest-253\u001b[0m\n",
      "drwxrwxr-x   2 lab  lab   4096 Aug 29 11:48 \u001b[01;34mtest-254\u001b[0m\n",
      "drwxrwxr-x   2 lab  lab   4096 Aug 29 11:48 \u001b[01;34mtest-255\u001b[0m\n",
      "drwxrwxr-x   2 lab  lab   4096 Aug 29 11:48 \u001b[01;34mtest-256\u001b[0m\n",
      "drwxrwxr-x   2 lab  lab   4096 Aug 29 11:48 \u001b[01;34mtest-257\u001b[0m\n",
      "drwxrwxr-x   2 lab  lab   4096 Aug 29 11:48 \u001b[01;34mtest-258\u001b[0m\n",
      "drwxrwxr-x   2 lab  lab   4096 Aug 29 11:48 \u001b[01;34mtest-259\u001b[0m\n",
      "drwxrwxr-x   2 lab  lab   4096 Aug 29 11:46 \u001b[01;34mtest-26\u001b[0m\n",
      "drwxrwxr-x   2 lab  lab   4096 Aug 29 11:48 \u001b[01;34mtest-260\u001b[0m\n",
      "drwxrwxr-x   2 lab  lab   4096 Aug 29 11:48 \u001b[01;34mtest-261\u001b[0m\n",
      "drwxrwxr-x   2 lab  lab   4096 Aug 29 11:48 \u001b[01;34mtest-262\u001b[0m\n",
      "drwxrwxr-x   2 lab  lab   4096 Aug 29 11:48 \u001b[01;34mtest-263\u001b[0m\n",
      "drwxrwxr-x   2 lab  lab   4096 Aug 29 11:48 \u001b[01;34mtest-264\u001b[0m\n",
      "drwxrwxr-x   2 lab  lab   4096 Aug 29 11:48 \u001b[01;34mtest-265\u001b[0m\n",
      "drwxrwxr-x   2 lab  lab   4096 Aug 29 11:48 \u001b[01;34mtest-266\u001b[0m\n",
      "drwxrwxr-x   2 lab  lab   4096 Aug 29 11:48 \u001b[01;34mtest-267\u001b[0m\n",
      "drwxrwxr-x   2 lab  lab   4096 Aug 29 11:48 \u001b[01;34mtest-268\u001b[0m\n",
      "drwxrwxr-x   2 lab  lab   4096 Aug 29 11:48 \u001b[01;34mtest-269\u001b[0m\n",
      "drwxrwxr-x   2 lab  lab   4096 Aug 29 11:46 \u001b[01;34mtest-27\u001b[0m\n",
      "drwxrwxr-x   2 lab  lab   4096 Aug 29 11:48 \u001b[01;34mtest-270\u001b[0m\n",
      "drwxrwxr-x   2 lab  lab   4096 Aug 29 11:48 \u001b[01;34mtest-271\u001b[0m\n",
      "drwxrwxr-x   2 lab  lab   4096 Aug 29 11:48 \u001b[01;34mtest-272\u001b[0m\n",
      "drwxrwxr-x   2 lab  lab   4096 Aug 29 11:48 \u001b[01;34mtest-273\u001b[0m\n",
      "drwxrwxr-x   2 lab  lab   4096 Aug 29 11:48 \u001b[01;34mtest-274\u001b[0m\n",
      "drwxrwxr-x   2 lab  lab   4096 Aug 29 11:49 \u001b[01;34mtest-275\u001b[0m\n",
      "drwxrwxr-x   2 lab  lab   4096 Aug 29 11:49 \u001b[01;34mtest-276\u001b[0m\n",
      "drwxrwxr-x   2 lab  lab   4096 Aug 29 11:49 \u001b[01;34mtest-277\u001b[0m\n",
      "drwxrwxr-x   2 lab  lab   4096 Aug 29 11:49 \u001b[01;34mtest-278\u001b[0m\n",
      "drwxrwxr-x   2 lab  lab   4096 Aug 29 11:49 \u001b[01;34mtest-279\u001b[0m\n",
      "drwxrwxr-x   2 lab  lab   4096 Aug 29 11:46 \u001b[01;34mtest-28\u001b[0m\n",
      "drwxrwxr-x   2 lab  lab   4096 Aug 29 11:49 \u001b[01;34mtest-280\u001b[0m\n",
      "drwxrwxr-x   2 lab  lab   4096 Aug 29 11:49 \u001b[01;34mtest-281\u001b[0m\n",
      "drwxrwxr-x   2 lab  lab   4096 Aug 29 11:49 \u001b[01;34mtest-282\u001b[0m\n",
      "drwxrwxr-x   2 lab  lab   4096 Aug 29 11:49 \u001b[01;34mtest-283\u001b[0m\n",
      "drwxrwxr-x   2 lab  lab   4096 Aug 29 11:49 \u001b[01;34mtest-284\u001b[0m\n",
      "drwxrwxr-x   2 lab  lab   4096 Aug 29 11:49 \u001b[01;34mtest-285\u001b[0m\n",
      "drwxrwxr-x   2 lab  lab   4096 Aug 29 11:49 \u001b[01;34mtest-286\u001b[0m\n",
      "drwxrwxr-x   2 lab  lab   4096 Aug 29 11:49 \u001b[01;34mtest-287\u001b[0m\n",
      "drwxrwxr-x   2 lab  lab   4096 Aug 29 11:49 \u001b[01;34mtest-288\u001b[0m\n",
      "drwxrwxr-x   2 lab  lab   4096 Aug 29 11:49 \u001b[01;34mtest-289\u001b[0m\n",
      "drwxrwxr-x   2 lab  lab   4096 Aug 29 11:46 \u001b[01;34mtest-29\u001b[0m\n",
      "drwxrwxr-x   2 lab  lab   4096 Aug 29 11:49 \u001b[01;34mtest-290\u001b[0m\n",
      "drwxrwxr-x   2 lab  lab   4096 Aug 29 11:49 \u001b[01;34mtest-291\u001b[0m\n",
      "drwxrwxr-x   2 lab  lab   4096 Aug 29 11:49 \u001b[01;34mtest-292\u001b[0m\n",
      "drwxrwxr-x   2 lab  lab   4096 Aug 29 11:49 \u001b[01;34mtest-293\u001b[0m\n",
      "drwxrwxr-x   2 lab  lab   4096 Aug 29 11:49 \u001b[01;34mtest-294\u001b[0m\n",
      "drwxrwxr-x   2 lab  lab   4096 Aug 29 11:49 \u001b[01;34mtest-295\u001b[0m\n",
      "drwxrwxr-x   2 lab  lab   4096 Aug 29 11:49 \u001b[01;34mtest-296\u001b[0m\n",
      "drwxrwxr-x   2 lab  lab   4096 Aug 29 11:49 \u001b[01;34mtest-297\u001b[0m\n",
      "drwxrwxr-x   2 lab  lab   4096 Aug 29 11:49 \u001b[01;34mtest-298\u001b[0m\n",
      "drwxrwxr-x   2 lab  lab   4096 Aug 29 11:49 \u001b[01;34mtest-299\u001b[0m\n",
      "drwxrwxr-x   2 lab  lab   4096 Aug 29 11:46 \u001b[01;34mtest-3\u001b[0m\n",
      "drwxrwxr-x   2 lab  lab   4096 Aug 29 11:46 \u001b[01;34mtest-30\u001b[0m\n",
      "drwxrwxr-x   2 lab  lab   4096 Aug 29 11:49 \u001b[01;34mtest-300\u001b[0m\n",
      "drwxrwxr-x   2 lab  lab   4096 Aug 29 11:49 \u001b[01;34mtest-301\u001b[0m\n",
      "drwxrwxr-x   2 lab  lab   4096 Aug 29 11:49 \u001b[01;34mtest-302\u001b[0m\n",
      "drwxrwxr-x   2 lab  lab   4096 Aug 29 11:49 \u001b[01;34mtest-303\u001b[0m\n",
      "drwxrwxr-x   2 lab  lab   4096 Aug 29 11:49 \u001b[01;34mtest-304\u001b[0m\n",
      "drwxrwxr-x   2 lab  lab   4096 Aug 29 11:49 \u001b[01;34mtest-305\u001b[0m\n",
      "drwxrwxr-x   2 lab  lab   4096 Aug 29 11:49 \u001b[01;34mtest-306\u001b[0m\n",
      "drwxrwxr-x   2 lab  lab   4096 Aug 29 11:49 \u001b[01;34mtest-307\u001b[0m\n",
      "drwxrwxr-x   2 lab  lab   4096 Aug 29 11:49 \u001b[01;34mtest-308\u001b[0m\n",
      "drwxrwxr-x   2 lab  lab   4096 Aug 29 11:49 \u001b[01;34mtest-309\u001b[0m\n",
      "drwxrwxr-x   2 lab  lab   4096 Aug 29 11:46 \u001b[01;34mtest-31\u001b[0m\n",
      "drwxrwxr-x   2 lab  lab   4096 Aug 29 11:49 \u001b[01;34mtest-310\u001b[0m\n",
      "drwxrwxr-x   2 lab  lab   4096 Aug 29 11:49 \u001b[01;34mtest-311\u001b[0m\n",
      "drwxrwxr-x   2 lab  lab   4096 Aug 29 11:49 \u001b[01;34mtest-312\u001b[0m\n",
      "drwxrwxr-x   2 lab  lab   4096 Aug 29 11:49 \u001b[01;34mtest-313\u001b[0m\n",
      "drwxrwxr-x   2 lab  lab   4096 Aug 29 11:49 \u001b[01;34mtest-314\u001b[0m\n",
      "drwxrwxr-x   2 lab  lab   4096 Aug 29 11:49 \u001b[01;34mtest-315\u001b[0m\n",
      "drwxrwxr-x   2 lab  lab   4096 Aug 29 11:49 \u001b[01;34mtest-316\u001b[0m\n",
      "drwxrwxr-x   2 lab  lab   4096 Aug 29 11:49 \u001b[01;34mtest-317\u001b[0m\n",
      "drwxrwxr-x   2 lab  lab   4096 Aug 29 11:49 \u001b[01;34mtest-318\u001b[0m\n",
      "drwxrwxr-x   2 lab  lab   4096 Aug 29 11:49 \u001b[01;34mtest-319\u001b[0m\n",
      "drwxrwxr-x   2 lab  lab   4096 Aug 29 11:46 \u001b[01;34mtest-32\u001b[0m\n",
      "drwxrwxr-x   2 lab  lab   4096 Aug 29 11:49 \u001b[01;34mtest-320\u001b[0m\n",
      "drwxrwxr-x   2 lab  lab   4096 Aug 29 11:49 \u001b[01;34mtest-321\u001b[0m\n",
      "drwxrwxr-x   2 lab  lab   4096 Aug 29 11:49 \u001b[01;34mtest-322\u001b[0m\n",
      "drwxrwxr-x   2 lab  lab   4096 Aug 29 11:49 \u001b[01;34mtest-323\u001b[0m\n",
      "drwxrwxr-x   2 lab  lab   4096 Aug 29 11:49 \u001b[01;34mtest-324\u001b[0m\n",
      "drwxrwxr-x   2 lab  lab   4096 Aug 29 11:49 \u001b[01;34mtest-325\u001b[0m\n",
      "drwxrwxr-x   2 lab  lab   4096 Aug 29 11:49 \u001b[01;34mtest-326\u001b[0m\n",
      "drwxrwxr-x   2 lab  lab   4096 Aug 29 11:49 \u001b[01;34mtest-327\u001b[0m\n",
      "drwxrwxr-x   2 lab  lab   4096 Aug 29 11:49 \u001b[01;34mtest-328\u001b[0m\n",
      "drwxrwxr-x   2 lab  lab   4096 Aug 29 11:49 \u001b[01;34mtest-329\u001b[0m\n",
      "drwxrwxr-x   2 lab  lab   4096 Aug 29 11:46 \u001b[01;34mtest-33\u001b[0m\n",
      "drwxrwxr-x   2 lab  lab   4096 Aug 29 11:49 \u001b[01;34mtest-330\u001b[0m\n",
      "drwxrwxr-x   2 lab  lab   4096 Aug 29 11:49 \u001b[01;34mtest-331\u001b[0m\n",
      "drwxrwxr-x   2 lab  lab   4096 Aug 29 11:49 \u001b[01;34mtest-332\u001b[0m\n",
      "drwxrwxr-x   2 lab  lab   4096 Aug 29 11:49 \u001b[01;34mtest-333\u001b[0m\n",
      "drwxrwxr-x   2 lab  lab   4096 Aug 29 11:49 \u001b[01;34mtest-334\u001b[0m\n",
      "drwxrwxr-x   2 lab  lab   4096 Aug 29 11:49 \u001b[01;34mtest-335\u001b[0m\n",
      "drwxrwxr-x   2 lab  lab   4096 Aug 29 11:49 \u001b[01;34mtest-336\u001b[0m\n",
      "drwxrwxr-x   2 lab  lab   4096 Aug 29 11:49 \u001b[01;34mtest-337\u001b[0m\n",
      "drwxrwxr-x   2 lab  lab   4096 Aug 29 11:49 \u001b[01;34mtest-338\u001b[0m\n",
      "drwxrwxr-x   2 lab  lab   4096 Aug 29 11:49 \u001b[01;34mtest-339\u001b[0m\n",
      "drwxrwxr-x   2 lab  lab   4096 Aug 29 11:46 \u001b[01;34mtest-34\u001b[0m\n",
      "drwxrwxr-x   2 lab  lab   4096 Aug 29 11:49 \u001b[01;34mtest-340\u001b[0m\n",
      "drwxrwxr-x   2 lab  lab   4096 Aug 29 11:49 \u001b[01;34mtest-341\u001b[0m\n",
      "drwxrwxr-x   2 lab  lab   4096 Aug 29 11:49 \u001b[01;34mtest-342\u001b[0m\n",
      "drwxrwxr-x   2 lab  lab   4096 Aug 29 11:49 \u001b[01;34mtest-343\u001b[0m\n",
      "drwxrwxr-x   2 lab  lab   4096 Aug 29 11:49 \u001b[01;34mtest-344\u001b[0m\n",
      "drwxrwxr-x   2 lab  lab   4096 Aug 29 11:49 \u001b[01;34mtest-345\u001b[0m\n",
      "drwxrwxr-x   2 lab  lab   4096 Aug 29 11:49 \u001b[01;34mtest-346\u001b[0m\n",
      "drwxrwxr-x   2 lab  lab   4096 Aug 29 11:49 \u001b[01;34mtest-347\u001b[0m\n",
      "drwxrwxr-x   2 lab  lab   4096 Aug 29 11:49 \u001b[01;34mtest-348\u001b[0m\n",
      "drwxrwxr-x   2 lab  lab   4096 Aug 29 11:49 \u001b[01;34mtest-349\u001b[0m\n",
      "drwxrwxr-x   2 lab  lab   4096 Aug 29 11:46 \u001b[01;34mtest-35\u001b[0m\n",
      "drwxrwxr-x   2 lab  lab   4096 Aug 29 11:49 \u001b[01;34mtest-350\u001b[0m\n",
      "drwxrwxr-x   2 lab  lab   4096 Aug 29 11:49 \u001b[01;34mtest-351\u001b[0m\n",
      "drwxrwxr-x   2 lab  lab   4096 Aug 29 11:49 \u001b[01;34mtest-352\u001b[0m\n",
      "drwxrwxr-x   2 lab  lab   4096 Aug 29 11:49 \u001b[01;34mtest-353\u001b[0m\n",
      "drwxrwxr-x   2 lab  lab   4096 Aug 29 11:49 \u001b[01;34mtest-354\u001b[0m\n",
      "drwxrwxr-x   2 lab  lab   4096 Aug 29 11:49 \u001b[01;34mtest-355\u001b[0m\n",
      "drwxrwxr-x   2 lab  lab   4096 Aug 29 11:49 \u001b[01;34mtest-356\u001b[0m\n",
      "drwxrwxr-x   2 lab  lab   4096 Aug 29 11:49 \u001b[01;34mtest-357\u001b[0m\n",
      "drwxrwxr-x   2 lab  lab   4096 Aug 29 11:49 \u001b[01;34mtest-358\u001b[0m\n",
      "drwxrwxr-x   2 lab  lab   4096 Aug 29 11:49 \u001b[01;34mtest-359\u001b[0m\n",
      "drwxrwxr-x   2 lab  lab   4096 Aug 29 11:46 \u001b[01;34mtest-36\u001b[0m\n",
      "drwxrwxr-x   2 lab  lab   4096 Aug 29 11:49 \u001b[01;34mtest-360\u001b[0m\n",
      "drwxrwxr-x   2 lab  lab   4096 Aug 29 11:49 \u001b[01;34mtest-361\u001b[0m\n",
      "drwxrwxr-x   2 lab  lab   4096 Aug 29 11:49 \u001b[01;34mtest-362\u001b[0m\n",
      "drwxrwxr-x   2 lab  lab   4096 Aug 29 11:49 \u001b[01;34mtest-363\u001b[0m\n",
      "drwxrwxr-x   2 lab  lab   4096 Aug 29 11:49 \u001b[01;34mtest-364\u001b[0m\n",
      "drwxrwxr-x   2 lab  lab   4096 Aug 29 11:49 \u001b[01;34mtest-365\u001b[0m\n",
      "drwxrwxr-x   2 lab  lab   4096 Aug 29 11:49 \u001b[01;34mtest-366\u001b[0m\n",
      "drwxrwxr-x   2 lab  lab   4096 Aug 29 11:49 \u001b[01;34mtest-367\u001b[0m\n",
      "drwxrwxr-x   2 lab  lab   4096 Aug 29 11:49 \u001b[01;34mtest-368\u001b[0m\n",
      "drwxrwxr-x   2 lab  lab   4096 Aug 29 11:49 \u001b[01;34mtest-369\u001b[0m\n",
      "drwxrwxr-x   2 lab  lab   4096 Aug 29 11:46 \u001b[01;34mtest-37\u001b[0m\n",
      "drwxrwxr-x   2 lab  lab   4096 Aug 29 11:49 \u001b[01;34mtest-370\u001b[0m\n",
      "drwxrwxr-x   2 lab  lab   4096 Aug 29 11:49 \u001b[01;34mtest-371\u001b[0m\n",
      "drwxrwxr-x   2 lab  lab   4096 Aug 29 11:49 \u001b[01;34mtest-372\u001b[0m\n",
      "drwxrwxr-x   2 lab  lab   4096 Aug 29 11:49 \u001b[01;34mtest-373\u001b[0m\n",
      "drwxrwxr-x   2 lab  lab   4096 Aug 29 11:49 \u001b[01;34mtest-374\u001b[0m\n",
      "drwxrwxr-x   2 lab  lab   4096 Aug 29 11:50 \u001b[01;34mtest-375\u001b[0m\n",
      "drwxrwxr-x   2 lab  lab   4096 Aug 29 11:50 \u001b[01;34mtest-376\u001b[0m\n",
      "drwxrwxr-x   2 lab  lab   4096 Aug 29 11:50 \u001b[01;34mtest-377\u001b[0m\n",
      "drwxrwxr-x   2 lab  lab   4096 Aug 29 11:50 \u001b[01;34mtest-378\u001b[0m\n",
      "drwxrwxr-x   2 lab  lab   4096 Aug 29 11:50 \u001b[01;34mtest-379\u001b[0m\n",
      "drwxrwxr-x   2 lab  lab   4096 Aug 29 11:46 \u001b[01;34mtest-38\u001b[0m\n",
      "drwxrwxr-x   2 lab  lab   4096 Aug 29 11:50 \u001b[01;34mtest-380\u001b[0m\n",
      "drwxrwxr-x   2 lab  lab   4096 Aug 29 11:50 \u001b[01;34mtest-381\u001b[0m\n",
      "drwxrwxr-x   2 lab  lab   4096 Aug 29 11:50 \u001b[01;34mtest-382\u001b[0m\n",
      "drwxrwxr-x   2 lab  lab   4096 Aug 29 11:50 \u001b[01;34mtest-383\u001b[0m\n",
      "drwxrwxr-x   2 lab  lab   4096 Aug 29 11:50 \u001b[01;34mtest-384\u001b[0m\n",
      "drwxrwxr-x   2 lab  lab   4096 Aug 29 11:50 \u001b[01;34mtest-385\u001b[0m\n",
      "drwxrwxr-x   2 lab  lab   4096 Aug 29 11:50 \u001b[01;34mtest-386\u001b[0m\n",
      "drwxrwxr-x   2 lab  lab   4096 Aug 29 11:50 \u001b[01;34mtest-387\u001b[0m\n",
      "drwxrwxr-x   2 lab  lab   4096 Aug 29 11:50 \u001b[01;34mtest-388\u001b[0m\n",
      "drwxrwxr-x   2 lab  lab   4096 Aug 29 11:50 \u001b[01;34mtest-389\u001b[0m\n",
      "drwxrwxr-x   2 lab  lab   4096 Aug 29 11:46 \u001b[01;34mtest-39\u001b[0m\n",
      "drwxrwxr-x   2 lab  lab   4096 Aug 29 11:50 \u001b[01;34mtest-390\u001b[0m\n",
      "drwxrwxr-x   2 lab  lab   4096 Aug 29 11:50 \u001b[01;34mtest-391\u001b[0m\n",
      "drwxrwxr-x   2 lab  lab   4096 Aug 29 11:50 \u001b[01;34mtest-392\u001b[0m\n",
      "drwxrwxr-x   2 lab  lab   4096 Aug 29 11:50 \u001b[01;34mtest-393\u001b[0m\n",
      "drwxrwxr-x   2 lab  lab   4096 Aug 29 11:50 \u001b[01;34mtest-394\u001b[0m\n",
      "drwxrwxr-x   2 lab  lab   4096 Aug 29 11:50 \u001b[01;34mtest-395\u001b[0m\n",
      "drwxrwxr-x   2 lab  lab   4096 Aug 29 11:50 \u001b[01;34mtest-396\u001b[0m\n",
      "drwxrwxr-x   2 lab  lab   4096 Aug 29 11:50 \u001b[01;34mtest-397\u001b[0m\n",
      "drwxrwxr-x   2 lab  lab   4096 Aug 29 11:50 \u001b[01;34mtest-398\u001b[0m\n",
      "drwxrwxr-x   2 lab  lab   4096 Aug 29 11:50 \u001b[01;34mtest-399\u001b[0m\n",
      "drwxrwxr-x   2 lab  lab   4096 Aug 29 11:46 \u001b[01;34mtest-4\u001b[0m\n",
      "drwxrwxr-x   2 lab  lab   4096 Aug 29 11:46 \u001b[01;34mtest-40\u001b[0m\n",
      "drwxrwxr-x   2 lab  lab   4096 Aug 29 11:50 \u001b[01;34mtest-400\u001b[0m\n",
      "drwxrwxr-x   2 lab  lab   4096 Aug 29 11:50 \u001b[01;34mtest-401\u001b[0m\n",
      "drwxrwxr-x   2 lab  lab   4096 Aug 29 11:50 \u001b[01;34mtest-402\u001b[0m\n",
      "drwxrwxr-x   2 lab  lab   4096 Aug 29 11:50 \u001b[01;34mtest-403\u001b[0m\n",
      "drwxrwxr-x   2 lab  lab   4096 Aug 29 11:50 \u001b[01;34mtest-404\u001b[0m\n",
      "drwxrwxr-x   2 lab  lab   4096 Aug 29 11:50 \u001b[01;34mtest-405\u001b[0m\n",
      "drwxrwxr-x   2 lab  lab   4096 Aug 29 11:50 \u001b[01;34mtest-406\u001b[0m\n",
      "drwxrwxr-x   2 lab  lab   4096 Aug 29 11:50 \u001b[01;34mtest-407\u001b[0m\n",
      "drwxrwxr-x   2 lab  lab   4096 Aug 29 11:50 \u001b[01;34mtest-408\u001b[0m\n",
      "drwxrwxr-x   2 lab  lab   4096 Aug 29 11:50 \u001b[01;34mtest-409\u001b[0m\n",
      "drwxrwxr-x   2 lab  lab   4096 Aug 29 11:46 \u001b[01;34mtest-41\u001b[0m\n",
      "drwxrwxr-x   2 lab  lab   4096 Aug 29 11:50 \u001b[01;34mtest-410\u001b[0m\n",
      "drwxrwxr-x   2 lab  lab   4096 Aug 29 11:50 \u001b[01;34mtest-411\u001b[0m\n",
      "drwxrwxr-x   2 lab  lab   4096 Aug 29 11:50 \u001b[01;34mtest-412\u001b[0m\n",
      "drwxrwxr-x   2 lab  lab   4096 Aug 29 11:50 \u001b[01;34mtest-413\u001b[0m\n",
      "drwxrwxr-x   2 lab  lab   4096 Aug 29 11:50 \u001b[01;34mtest-414\u001b[0m\n",
      "drwxrwxr-x   2 lab  lab   4096 Aug 29 11:50 \u001b[01;34mtest-415\u001b[0m\n",
      "drwxrwxr-x   2 lab  lab   4096 Aug 29 11:50 \u001b[01;34mtest-416\u001b[0m\n",
      "drwxrwxr-x   2 lab  lab   4096 Aug 29 11:50 \u001b[01;34mtest-417\u001b[0m\n",
      "drwxrwxr-x   2 lab  lab   4096 Aug 29 11:50 \u001b[01;34mtest-418\u001b[0m\n",
      "drwxrwxr-x   2 lab  lab   4096 Aug 29 11:50 \u001b[01;34mtest-419\u001b[0m\n",
      "drwxrwxr-x   2 lab  lab   4096 Aug 29 11:46 \u001b[01;34mtest-42\u001b[0m\n",
      "drwxrwxr-x   2 lab  lab   4096 Aug 29 11:50 \u001b[01;34mtest-420\u001b[0m\n",
      "drwxrwxr-x   2 lab  lab   4096 Aug 29 11:50 \u001b[01;34mtest-421\u001b[0m\n",
      "drwxrwxr-x   2 lab  lab   4096 Aug 29 11:50 \u001b[01;34mtest-422\u001b[0m\n",
      "drwxrwxr-x   2 lab  lab   4096 Aug 29 11:50 \u001b[01;34mtest-423\u001b[0m\n",
      "drwxrwxr-x   2 lab  lab   4096 Aug 29 11:50 \u001b[01;34mtest-424\u001b[0m\n",
      "drwxrwxr-x   2 lab  lab   4096 Aug 29 11:50 \u001b[01;34mtest-425\u001b[0m\n",
      "drwxrwxr-x   2 lab  lab   4096 Aug 29 11:50 \u001b[01;34mtest-426\u001b[0m\n",
      "drwxrwxr-x   2 lab  lab   4096 Aug 29 11:50 \u001b[01;34mtest-427\u001b[0m\n",
      "drwxrwxr-x   2 lab  lab   4096 Aug 29 11:50 \u001b[01;34mtest-428\u001b[0m\n",
      "drwxrwxr-x   2 lab  lab   4096 Aug 29 11:50 \u001b[01;34mtest-429\u001b[0m\n",
      "drwxrwxr-x   2 lab  lab   4096 Aug 29 11:46 \u001b[01;34mtest-43\u001b[0m\n",
      "drwxrwxr-x   2 lab  lab   4096 Aug 29 11:50 \u001b[01;34mtest-430\u001b[0m\n",
      "drwxrwxr-x   2 lab  lab   4096 Aug 29 11:50 \u001b[01;34mtest-431\u001b[0m\n",
      "drwxrwxr-x   2 lab  lab   4096 Aug 29 11:50 \u001b[01;34mtest-432\u001b[0m\n",
      "drwxrwxr-x   2 lab  lab   4096 Aug 29 11:50 \u001b[01;34mtest-433\u001b[0m\n",
      "drwxrwxr-x   2 lab  lab   4096 Aug 29 11:50 \u001b[01;34mtest-434\u001b[0m\n",
      "drwxrwxr-x   2 lab  lab   4096 Aug 29 11:50 \u001b[01;34mtest-435\u001b[0m\n",
      "drwxrwxr-x   2 lab  lab   4096 Aug 29 11:50 \u001b[01;34mtest-436\u001b[0m\n",
      "drwxrwxr-x   2 lab  lab   4096 Aug 29 11:50 \u001b[01;34mtest-437\u001b[0m\n",
      "drwxrwxr-x   2 lab  lab   4096 Aug 29 11:50 \u001b[01;34mtest-438\u001b[0m\n",
      "drwxrwxr-x   2 lab  lab   4096 Aug 29 11:50 \u001b[01;34mtest-439\u001b[0m\n",
      "drwxrwxr-x   2 lab  lab   4096 Aug 29 11:46 \u001b[01;34mtest-44\u001b[0m\n",
      "drwxrwxr-x   2 lab  lab   4096 Aug 29 11:50 \u001b[01;34mtest-440\u001b[0m\n",
      "drwxrwxr-x   2 lab  lab   4096 Aug 29 11:50 \u001b[01;34mtest-441\u001b[0m\n",
      "drwxrwxr-x   2 lab  lab   4096 Aug 29 11:50 \u001b[01;34mtest-442\u001b[0m\n",
      "drwxrwxr-x   2 lab  lab   4096 Aug 29 11:50 \u001b[01;34mtest-443\u001b[0m\n",
      "drwxrwxr-x   2 lab  lab   4096 Aug 29 11:50 \u001b[01;34mtest-444\u001b[0m\n",
      "drwxrwxr-x   2 lab  lab   4096 Aug 29 11:50 \u001b[01;34mtest-445\u001b[0m\n",
      "drwxrwxr-x   2 lab  lab   4096 Aug 29 11:50 \u001b[01;34mtest-446\u001b[0m\n",
      "drwxrwxr-x   2 lab  lab   4096 Aug 29 11:50 \u001b[01;34mtest-447\u001b[0m\n",
      "drwxrwxr-x   2 lab  lab   4096 Aug 29 11:50 \u001b[01;34mtest-448\u001b[0m\n",
      "drwxrwxr-x   2 lab  lab   4096 Aug 29 11:50 \u001b[01;34mtest-449\u001b[0m\n",
      "drwxrwxr-x   2 lab  lab   4096 Aug 29 11:46 \u001b[01;34mtest-45\u001b[0m\n",
      "drwxrwxr-x   2 lab  lab   4096 Aug 29 11:50 \u001b[01;34mtest-450\u001b[0m\n",
      "drwxrwxr-x   2 lab  lab   4096 Aug 29 11:50 \u001b[01;34mtest-451\u001b[0m\n",
      "drwxrwxr-x   2 lab  lab   4096 Aug 29 11:50 \u001b[01;34mtest-452\u001b[0m\n",
      "drwxrwxr-x   2 lab  lab   4096 Aug 29 11:50 \u001b[01;34mtest-453\u001b[0m\n",
      "drwxrwxr-x   2 lab  lab   4096 Aug 29 11:50 \u001b[01;34mtest-454\u001b[0m\n",
      "drwxrwxr-x   2 lab  lab   4096 Aug 29 11:50 \u001b[01;34mtest-455\u001b[0m\n",
      "drwxrwxr-x   2 lab  lab   4096 Aug 29 11:50 \u001b[01;34mtest-456\u001b[0m\n",
      "drwxrwxr-x   2 lab  lab   4096 Aug 29 11:50 \u001b[01;34mtest-457\u001b[0m\n",
      "drwxrwxr-x   2 lab  lab   4096 Aug 29 11:50 \u001b[01;34mtest-458\u001b[0m\n",
      "drwxrwxr-x   2 lab  lab   4096 Aug 29 11:50 \u001b[01;34mtest-459\u001b[0m\n",
      "drwxrwxr-x   2 lab  lab   4096 Aug 29 11:46 \u001b[01;34mtest-46\u001b[0m\n",
      "drwxrwxr-x   2 lab  lab   4096 Aug 29 11:50 \u001b[01;34mtest-460\u001b[0m\n",
      "drwxrwxr-x   2 lab  lab   4096 Aug 29 11:50 \u001b[01;34mtest-461\u001b[0m\n",
      "drwxrwxr-x   2 lab  lab   4096 Aug 29 11:50 \u001b[01;34mtest-462\u001b[0m\n",
      "drwxrwxr-x   2 lab  lab   4096 Aug 29 11:50 \u001b[01;34mtest-463\u001b[0m\n",
      "drwxrwxr-x   2 lab  lab   4096 Aug 29 11:50 \u001b[01;34mtest-464\u001b[0m\n",
      "drwxrwxr-x   2 lab  lab   4096 Aug 29 11:50 \u001b[01;34mtest-465\u001b[0m\n",
      "drwxrwxr-x   2 lab  lab   4096 Aug 29 11:50 \u001b[01;34mtest-466\u001b[0m\n",
      "drwxrwxr-x   2 lab  lab   4096 Aug 29 11:50 \u001b[01;34mtest-467\u001b[0m\n",
      "drwxrwxr-x   2 lab  lab   4096 Aug 29 11:50 \u001b[01;34mtest-468\u001b[0m\n",
      "drwxrwxr-x   2 lab  lab   4096 Aug 29 11:50 \u001b[01;34mtest-469\u001b[0m\n",
      "drwxrwxr-x   2 lab  lab   4096 Aug 29 11:46 \u001b[01;34mtest-47\u001b[0m\n",
      "drwxrwxr-x   2 lab  lab   4096 Aug 29 11:50 \u001b[01;34mtest-470\u001b[0m\n",
      "drwxrwxr-x   2 lab  lab   4096 Aug 29 11:50 \u001b[01;34mtest-471\u001b[0m\n",
      "drwxrwxr-x   2 lab  lab   4096 Aug 29 11:50 \u001b[01;34mtest-472\u001b[0m\n",
      "drwxrwxr-x   2 lab  lab   4096 Aug 29 11:50 \u001b[01;34mtest-473\u001b[0m\n",
      "drwxrwxr-x   2 lab  lab   4096 Aug 29 11:51 \u001b[01;34mtest-474\u001b[0m\n",
      "drwxrwxr-x   2 lab  lab   4096 Aug 29 11:51 \u001b[01;34mtest-475\u001b[0m\n",
      "drwxrwxr-x   2 lab  lab   4096 Aug 29 11:51 \u001b[01;34mtest-476\u001b[0m\n",
      "drwxrwxr-x   2 lab  lab   4096 Aug 29 11:51 \u001b[01;34mtest-477\u001b[0m\n",
      "drwxrwxr-x   2 lab  lab   4096 Aug 29 11:51 \u001b[01;34mtest-478\u001b[0m\n",
      "drwxrwxr-x   2 lab  lab   4096 Aug 29 11:51 \u001b[01;34mtest-479\u001b[0m\n",
      "drwxrwxr-x   2 lab  lab   4096 Aug 29 11:46 \u001b[01;34mtest-48\u001b[0m\n",
      "drwxrwxr-x   2 lab  lab   4096 Aug 29 11:51 \u001b[01;34mtest-480\u001b[0m\n",
      "drwxrwxr-x   2 lab  lab   4096 Aug 29 11:51 \u001b[01;34mtest-481\u001b[0m\n",
      "drwxrwxr-x   2 lab  lab   4096 Aug 29 11:51 \u001b[01;34mtest-482\u001b[0m\n",
      "drwxrwxr-x   2 lab  lab   4096 Aug 29 11:51 \u001b[01;34mtest-483\u001b[0m\n",
      "drwxrwxr-x   2 lab  lab   4096 Aug 29 11:51 \u001b[01;34mtest-484\u001b[0m\n",
      "drwxrwxr-x   2 lab  lab   4096 Aug 29 11:51 \u001b[01;34mtest-485\u001b[0m\n",
      "drwxrwxr-x   2 lab  lab   4096 Aug 29 11:51 \u001b[01;34mtest-486\u001b[0m\n",
      "drwxrwxr-x   2 lab  lab   4096 Aug 29 11:51 \u001b[01;34mtest-487\u001b[0m\n",
      "drwxrwxr-x   2 lab  lab   4096 Aug 29 11:51 \u001b[01;34mtest-488\u001b[0m\n",
      "drwxrwxr-x   2 lab  lab   4096 Aug 29 11:51 \u001b[01;34mtest-489\u001b[0m\n",
      "drwxrwxr-x   2 lab  lab   4096 Aug 29 11:46 \u001b[01;34mtest-49\u001b[0m\n",
      "drwxrwxr-x   2 lab  lab   4096 Aug 29 11:51 \u001b[01;34mtest-490\u001b[0m\n",
      "drwxrwxr-x   2 lab  lab   4096 Aug 29 11:51 \u001b[01;34mtest-491\u001b[0m\n",
      "drwxrwxr-x   2 lab  lab   4096 Aug 29 11:51 \u001b[01;34mtest-492\u001b[0m\n",
      "drwxrwxr-x   2 lab  lab   4096 Aug 29 11:51 \u001b[01;34mtest-493\u001b[0m\n",
      "drwxrwxr-x   2 lab  lab   4096 Aug 29 11:51 \u001b[01;34mtest-494\u001b[0m\n",
      "drwxrwxr-x   2 lab  lab   4096 Aug 29 11:51 \u001b[01;34mtest-495\u001b[0m\n",
      "drwxrwxr-x   2 lab  lab   4096 Aug 29 11:51 \u001b[01;34mtest-496\u001b[0m\n",
      "drwxrwxr-x   2 lab  lab   4096 Aug 29 11:51 \u001b[01;34mtest-497\u001b[0m\n",
      "drwxrwxr-x   2 lab  lab   4096 Aug 29 11:51 \u001b[01;34mtest-498\u001b[0m\n",
      "drwxrwxr-x   2 lab  lab   4096 Aug 29 11:51 \u001b[01;34mtest-499\u001b[0m\n",
      "drwxrwxr-x   2 lab  lab   4096 Aug 29 11:46 \u001b[01;34mtest-5\u001b[0m\n",
      "drwxrwxr-x   2 lab  lab   4096 Aug 29 11:46 \u001b[01;34mtest-50\u001b[0m\n",
      "drwxrwxr-x   2 lab  lab   4096 Aug 29 11:51 \u001b[01;34mtest-500\u001b[0m\n",
      "drwxrwxr-x   2 lab  lab   4096 Aug 29 11:51 \u001b[01;34mtest-501\u001b[0m\n",
      "drwxrwxr-x   2 lab  lab   4096 Aug 29 11:51 \u001b[01;34mtest-502\u001b[0m\n",
      "drwxrwxr-x   2 lab  lab   4096 Aug 29 11:51 \u001b[01;34mtest-503\u001b[0m\n",
      "drwxrwxr-x   2 lab  lab   4096 Aug 29 11:51 \u001b[01;34mtest-504\u001b[0m\n",
      "drwxrwxr-x   2 lab  lab   4096 Aug 29 11:51 \u001b[01;34mtest-505\u001b[0m\n",
      "drwxrwxr-x   2 lab  lab   4096 Aug 29 11:51 \u001b[01;34mtest-506\u001b[0m\n",
      "drwxrwxr-x   2 lab  lab   4096 Aug 29 11:51 \u001b[01;34mtest-507\u001b[0m\n",
      "drwxrwxr-x   2 lab  lab   4096 Aug 29 11:51 \u001b[01;34mtest-508\u001b[0m\n",
      "drwxrwxr-x   2 lab  lab   4096 Aug 29 11:51 \u001b[01;34mtest-509\u001b[0m\n",
      "drwxrwxr-x   2 lab  lab   4096 Aug 29 11:46 \u001b[01;34mtest-51\u001b[0m\n",
      "drwxrwxr-x   2 lab  lab   4096 Aug 29 11:51 \u001b[01;34mtest-510\u001b[0m\n",
      "drwxrwxr-x   2 lab  lab   4096 Aug 29 11:51 \u001b[01;34mtest-511\u001b[0m\n",
      "drwxrwxr-x   2 lab  lab   4096 Aug 29 11:51 \u001b[01;34mtest-512\u001b[0m\n",
      "drwxrwxr-x   2 lab  lab   4096 Aug 29 11:51 \u001b[01;34mtest-513\u001b[0m\n",
      "drwxrwxr-x   2 lab  lab   4096 Aug 29 11:51 \u001b[01;34mtest-514\u001b[0m\n",
      "drwxrwxr-x   2 lab  lab   4096 Aug 29 11:51 \u001b[01;34mtest-515\u001b[0m\n",
      "drwxrwxr-x   2 lab  lab   4096 Aug 29 11:51 \u001b[01;34mtest-516\u001b[0m\n",
      "drwxrwxr-x   2 lab  lab   4096 Aug 29 11:51 \u001b[01;34mtest-517\u001b[0m\n",
      "drwxrwxr-x   2 lab  lab   4096 Aug 29 11:51 \u001b[01;34mtest-518\u001b[0m\n",
      "drwxrwxr-x   2 lab  lab   4096 Aug 29 11:51 \u001b[01;34mtest-519\u001b[0m\n",
      "drwxrwxr-x   2 lab  lab   4096 Aug 29 11:46 \u001b[01;34mtest-52\u001b[0m\n",
      "drwxrwxr-x   2 lab  lab   4096 Aug 29 11:51 \u001b[01;34mtest-520\u001b[0m\n",
      "drwxrwxr-x   2 lab  lab   4096 Aug 29 11:51 \u001b[01;34mtest-521\u001b[0m\n",
      "drwxrwxr-x   2 lab  lab   4096 Aug 29 11:51 \u001b[01;34mtest-522\u001b[0m\n",
      "drwxrwxr-x   2 lab  lab   4096 Aug 29 11:51 \u001b[01;34mtest-523\u001b[0m\n",
      "drwxrwxr-x   2 lab  lab   4096 Aug 29 11:51 \u001b[01;34mtest-524\u001b[0m\n",
      "drwxrwxr-x   2 lab  lab   4096 Aug 29 11:51 \u001b[01;34mtest-525\u001b[0m\n",
      "drwxrwxr-x   2 lab  lab   4096 Aug 29 11:51 \u001b[01;34mtest-526\u001b[0m\n",
      "drwxrwxr-x   2 lab  lab   4096 Aug 29 11:51 \u001b[01;34mtest-527\u001b[0m\n",
      "drwxrwxr-x   2 lab  lab   4096 Aug 29 11:51 \u001b[01;34mtest-528\u001b[0m\n",
      "drwxrwxr-x   2 lab  lab   4096 Aug 29 11:51 \u001b[01;34mtest-529\u001b[0m\n",
      "drwxrwxr-x   2 lab  lab   4096 Aug 29 11:46 \u001b[01;34mtest-53\u001b[0m\n",
      "drwxrwxr-x   2 lab  lab   4096 Aug 29 11:51 \u001b[01;34mtest-530\u001b[0m\n",
      "drwxrwxr-x   2 lab  lab   4096 Aug 29 11:51 \u001b[01;34mtest-531\u001b[0m\n",
      "drwxrwxr-x   2 lab  lab   4096 Aug 29 11:51 \u001b[01;34mtest-532\u001b[0m\n",
      "drwxrwxr-x   2 lab  lab   4096 Aug 29 11:51 \u001b[01;34mtest-533\u001b[0m\n",
      "drwxrwxr-x   2 lab  lab   4096 Aug 29 11:51 \u001b[01;34mtest-534\u001b[0m\n",
      "drwxrwxr-x   2 lab  lab   4096 Aug 29 11:51 \u001b[01;34mtest-535\u001b[0m\n",
      "drwxrwxr-x   2 lab  lab   4096 Aug 29 11:51 \u001b[01;34mtest-536\u001b[0m\n",
      "drwxrwxr-x   2 lab  lab   4096 Aug 29 11:51 \u001b[01;34mtest-537\u001b[0m\n",
      "drwxrwxr-x   2 lab  lab   4096 Aug 29 11:51 \u001b[01;34mtest-538\u001b[0m\n",
      "drwxrwxr-x   2 lab  lab   4096 Aug 29 11:51 \u001b[01;34mtest-539\u001b[0m\n",
      "drwxrwxr-x   2 lab  lab   4096 Aug 29 11:46 \u001b[01;34mtest-54\u001b[0m\n",
      "drwxrwxr-x   2 lab  lab   4096 Aug 29 11:51 \u001b[01;34mtest-540\u001b[0m\n",
      "drwxrwxr-x   2 lab  lab   4096 Aug 29 11:51 \u001b[01;34mtest-541\u001b[0m\n",
      "drwxrwxr-x   2 lab  lab   4096 Aug 29 11:51 \u001b[01;34mtest-542\u001b[0m\n",
      "drwxrwxr-x   2 lab  lab   4096 Aug 29 11:51 \u001b[01;34mtest-543\u001b[0m\n",
      "drwxrwxr-x   2 lab  lab   4096 Aug 29 11:51 \u001b[01;34mtest-544\u001b[0m\n",
      "drwxrwxr-x   2 lab  lab   4096 Aug 29 11:51 \u001b[01;34mtest-545\u001b[0m\n",
      "drwxrwxr-x   2 lab  lab   4096 Aug 29 11:51 \u001b[01;34mtest-546\u001b[0m\n",
      "drwxrwxr-x   2 lab  lab   4096 Aug 29 11:51 \u001b[01;34mtest-547\u001b[0m\n",
      "drwxrwxr-x   2 lab  lab   4096 Aug 29 11:51 \u001b[01;34mtest-548\u001b[0m\n",
      "drwxrwxr-x   2 lab  lab   4096 Aug 29 11:51 \u001b[01;34mtest-549\u001b[0m\n",
      "drwxrwxr-x   2 lab  lab   4096 Aug 29 11:46 \u001b[01;34mtest-55\u001b[0m\n",
      "drwxrwxr-x   2 lab  lab   4096 Aug 29 11:51 \u001b[01;34mtest-550\u001b[0m\n",
      "drwxrwxr-x   2 lab  lab   4096 Aug 29 11:51 \u001b[01;34mtest-551\u001b[0m\n",
      "drwxrwxr-x   2 lab  lab   4096 Aug 29 11:51 \u001b[01;34mtest-552\u001b[0m\n",
      "drwxrwxr-x   2 lab  lab   4096 Aug 29 11:51 \u001b[01;34mtest-553\u001b[0m\n",
      "drwxrwxr-x   2 lab  lab   4096 Aug 29 11:51 \u001b[01;34mtest-554\u001b[0m\n",
      "drwxrwxr-x   2 lab  lab   4096 Aug 29 11:51 \u001b[01;34mtest-555\u001b[0m\n",
      "drwxrwxr-x   2 lab  lab   4096 Aug 29 11:51 \u001b[01;34mtest-556\u001b[0m\n",
      "drwxrwxr-x   2 lab  lab   4096 Aug 29 11:51 \u001b[01;34mtest-557\u001b[0m\n",
      "drwxrwxr-x   2 lab  lab   4096 Aug 29 11:51 \u001b[01;34mtest-558\u001b[0m\n",
      "drwxrwxr-x   2 lab  lab   4096 Aug 29 11:51 \u001b[01;34mtest-559\u001b[0m\n",
      "drwxrwxr-x   2 lab  lab   4096 Aug 29 11:46 \u001b[01;34mtest-56\u001b[0m\n",
      "drwxrwxr-x   2 lab  lab   4096 Aug 29 11:51 \u001b[01;34mtest-560\u001b[0m\n",
      "drwxrwxr-x   2 lab  lab   4096 Aug 29 11:51 \u001b[01;34mtest-561\u001b[0m\n",
      "drwxrwxr-x   2 lab  lab   4096 Aug 29 11:51 \u001b[01;34mtest-562\u001b[0m\n",
      "drwxrwxr-x   2 lab  lab   4096 Aug 29 11:51 \u001b[01;34mtest-563\u001b[0m\n",
      "drwxrwxr-x   2 lab  lab   4096 Aug 29 11:51 \u001b[01;34mtest-564\u001b[0m\n",
      "drwxrwxr-x   2 lab  lab   4096 Aug 29 11:51 \u001b[01;34mtest-565\u001b[0m\n",
      "drwxrwxr-x   2 lab  lab   4096 Aug 29 11:51 \u001b[01;34mtest-566\u001b[0m\n",
      "drwxrwxr-x   2 lab  lab   4096 Aug 29 11:51 \u001b[01;34mtest-567\u001b[0m\n",
      "drwxrwxr-x   2 lab  lab   4096 Aug 29 11:51 \u001b[01;34mtest-568\u001b[0m\n",
      "drwxrwxr-x   2 lab  lab   4096 Aug 29 11:51 \u001b[01;34mtest-569\u001b[0m\n",
      "drwxrwxr-x   2 lab  lab   4096 Aug 29 11:46 \u001b[01;34mtest-57\u001b[0m\n",
      "drwxrwxr-x   2 lab  lab   4096 Aug 29 11:51 \u001b[01;34mtest-570\u001b[0m\n",
      "drwxrwxr-x   2 lab  lab   4096 Aug 29 11:51 \u001b[01;34mtest-571\u001b[0m\n",
      "drwxrwxr-x   2 lab  lab   4096 Aug 29 11:51 \u001b[01;34mtest-572\u001b[0m\n",
      "drwxrwxr-x   2 lab  lab   4096 Aug 29 11:51 \u001b[01;34mtest-573\u001b[0m\n",
      "drwxrwxr-x   2 lab  lab   4096 Aug 29 11:52 \u001b[01;34mtest-574\u001b[0m\n",
      "drwxrwxr-x   2 lab  lab   4096 Aug 29 11:52 \u001b[01;34mtest-575\u001b[0m\n",
      "drwxrwxr-x   2 lab  lab   4096 Aug 29 11:52 \u001b[01;34mtest-576\u001b[0m\n",
      "drwxrwxr-x   2 lab  lab   4096 Aug 29 11:52 \u001b[01;34mtest-577\u001b[0m\n",
      "drwxrwxr-x   2 lab  lab   4096 Aug 29 11:52 \u001b[01;34mtest-578\u001b[0m\n",
      "drwxrwxr-x   2 lab  lab   4096 Aug 29 11:52 \u001b[01;34mtest-579\u001b[0m\n",
      "drwxrwxr-x   2 lab  lab   4096 Aug 29 11:46 \u001b[01;34mtest-58\u001b[0m\n",
      "drwxrwxr-x   2 lab  lab   4096 Aug 29 11:52 \u001b[01;34mtest-580\u001b[0m\n",
      "drwxrwxr-x   2 lab  lab   4096 Aug 29 11:52 \u001b[01;34mtest-581\u001b[0m\n",
      "drwxrwxr-x   2 lab  lab   4096 Aug 29 11:52 \u001b[01;34mtest-582\u001b[0m\n",
      "drwxrwxr-x   2 lab  lab   4096 Aug 29 11:52 \u001b[01;34mtest-583\u001b[0m\n",
      "drwxrwxr-x   2 lab  lab   4096 Aug 29 11:52 \u001b[01;34mtest-584\u001b[0m\n",
      "drwxrwxr-x   2 lab  lab   4096 Aug 29 11:52 \u001b[01;34mtest-585\u001b[0m\n",
      "drwxrwxr-x   2 lab  lab   4096 Aug 29 11:52 \u001b[01;34mtest-586\u001b[0m\n",
      "drwxrwxr-x   2 lab  lab   4096 Aug 29 11:52 \u001b[01;34mtest-587\u001b[0m\n",
      "drwxrwxr-x   2 lab  lab   4096 Aug 29 11:52 \u001b[01;34mtest-588\u001b[0m\n",
      "drwxrwxr-x   2 lab  lab   4096 Aug 29 11:52 \u001b[01;34mtest-589\u001b[0m\n",
      "drwxrwxr-x   2 lab  lab   4096 Aug 29 11:46 \u001b[01;34mtest-59\u001b[0m\n",
      "drwxrwxr-x   2 lab  lab   4096 Aug 29 11:52 \u001b[01;34mtest-590\u001b[0m\n",
      "drwxrwxr-x   2 lab  lab   4096 Aug 29 11:52 \u001b[01;34mtest-591\u001b[0m\n",
      "drwxrwxr-x   2 lab  lab   4096 Aug 29 11:52 \u001b[01;34mtest-592\u001b[0m\n",
      "drwxrwxr-x   2 lab  lab   4096 Aug 29 11:52 \u001b[01;34mtest-593\u001b[0m\n",
      "drwxrwxr-x   2 lab  lab   4096 Aug 29 11:52 \u001b[01;34mtest-594\u001b[0m\n",
      "drwxrwxr-x   2 lab  lab   4096 Aug 29 11:52 \u001b[01;34mtest-595\u001b[0m\n",
      "drwxrwxr-x   2 lab  lab   4096 Aug 29 11:52 \u001b[01;34mtest-596\u001b[0m\n",
      "drwxrwxr-x   2 lab  lab   4096 Aug 29 11:52 \u001b[01;34mtest-597\u001b[0m\n",
      "drwxrwxr-x   2 lab  lab   4096 Aug 29 11:52 \u001b[01;34mtest-598\u001b[0m\n",
      "drwxrwxr-x   2 lab  lab   4096 Aug 29 11:52 \u001b[01;34mtest-599\u001b[0m\n",
      "drwxrwxr-x   2 lab  lab   4096 Aug 29 11:46 \u001b[01;34mtest-6\u001b[0m\n",
      "drwxrwxr-x   2 lab  lab   4096 Aug 29 11:46 \u001b[01;34mtest-60\u001b[0m\n",
      "drwxrwxr-x   2 lab  lab   4096 Aug 29 11:52 \u001b[01;34mtest-600\u001b[0m\n",
      "drwxrwxr-x   2 lab  lab   4096 Aug 29 11:52 \u001b[01;34mtest-601\u001b[0m\n",
      "drwxrwxr-x   2 lab  lab   4096 Aug 29 11:52 \u001b[01;34mtest-602\u001b[0m\n",
      "drwxrwxr-x   2 lab  lab   4096 Aug 29 11:52 \u001b[01;34mtest-603\u001b[0m\n",
      "drwxrwxr-x   2 lab  lab   4096 Aug 29 11:52 \u001b[01;34mtest-604\u001b[0m\n",
      "drwxrwxr-x   2 lab  lab   4096 Aug 29 11:52 \u001b[01;34mtest-605\u001b[0m\n",
      "drwxrwxr-x   2 lab  lab   4096 Aug 29 11:52 \u001b[01;34mtest-606\u001b[0m\n",
      "drwxrwxr-x   2 lab  lab   4096 Aug 29 11:52 \u001b[01;34mtest-607\u001b[0m\n",
      "drwxrwxr-x   2 lab  lab   4096 Aug 29 11:52 \u001b[01;34mtest-608\u001b[0m\n",
      "drwxrwxr-x   2 lab  lab   4096 Aug 29 11:52 \u001b[01;34mtest-609\u001b[0m\n",
      "drwxrwxr-x   2 lab  lab   4096 Aug 29 11:46 \u001b[01;34mtest-61\u001b[0m\n",
      "drwxrwxr-x   2 lab  lab   4096 Aug 29 11:52 \u001b[01;34mtest-610\u001b[0m\n",
      "drwxrwxr-x   2 lab  lab   4096 Aug 29 11:52 \u001b[01;34mtest-611\u001b[0m\n",
      "drwxrwxr-x   2 lab  lab   4096 Aug 29 11:52 \u001b[01;34mtest-612\u001b[0m\n",
      "drwxrwxr-x   2 lab  lab   4096 Aug 29 11:52 \u001b[01;34mtest-613\u001b[0m\n",
      "drwxrwxr-x   2 lab  lab   4096 Aug 29 11:52 \u001b[01;34mtest-614\u001b[0m\n",
      "drwxrwxr-x   2 lab  lab   4096 Aug 29 11:52 \u001b[01;34mtest-615\u001b[0m\n",
      "drwxrwxr-x   2 lab  lab   4096 Aug 29 11:52 \u001b[01;34mtest-616\u001b[0m\n",
      "drwxrwxr-x   2 lab  lab   4096 Aug 29 11:52 \u001b[01;34mtest-617\u001b[0m\n",
      "drwxrwxr-x   2 lab  lab   4096 Aug 29 11:52 \u001b[01;34mtest-618\u001b[0m\n",
      "drwxrwxr-x   2 lab  lab   4096 Aug 29 11:52 \u001b[01;34mtest-619\u001b[0m\n",
      "drwxrwxr-x   2 lab  lab   4096 Aug 29 11:46 \u001b[01;34mtest-62\u001b[0m\n",
      "drwxrwxr-x   2 lab  lab   4096 Aug 29 11:52 \u001b[01;34mtest-620\u001b[0m\n",
      "drwxrwxr-x   2 lab  lab   4096 Aug 29 11:52 \u001b[01;34mtest-621\u001b[0m\n",
      "drwxrwxr-x   2 lab  lab   4096 Aug 29 11:52 \u001b[01;34mtest-622\u001b[0m\n",
      "drwxrwxr-x   2 lab  lab   4096 Aug 29 11:52 \u001b[01;34mtest-623\u001b[0m\n",
      "drwxrwxr-x   2 lab  lab   4096 Aug 29 11:52 \u001b[01;34mtest-624\u001b[0m\n",
      "drwxrwxr-x   2 lab  lab   4096 Aug 29 11:52 \u001b[01;34mtest-625\u001b[0m\n",
      "drwxrwxr-x   2 lab  lab   4096 Aug 29 11:52 \u001b[01;34mtest-626\u001b[0m\n",
      "drwxrwxr-x   2 lab  lab   4096 Aug 29 11:52 \u001b[01;34mtest-627\u001b[0m\n",
      "drwxrwxr-x   2 lab  lab   4096 Aug 29 11:52 \u001b[01;34mtest-628\u001b[0m\n",
      "drwxrwxr-x   2 lab  lab   4096 Aug 29 11:52 \u001b[01;34mtest-629\u001b[0m\n",
      "drwxrwxr-x   2 lab  lab   4096 Aug 29 11:46 \u001b[01;34mtest-63\u001b[0m\n",
      "drwxrwxr-x   2 lab  lab   4096 Aug 29 11:52 \u001b[01;34mtest-630\u001b[0m\n",
      "drwxrwxr-x   2 lab  lab   4096 Aug 29 11:52 \u001b[01;34mtest-631\u001b[0m\n",
      "drwxrwxr-x   2 lab  lab   4096 Aug 29 11:52 \u001b[01;34mtest-632\u001b[0m\n",
      "drwxrwxr-x   2 lab  lab   4096 Aug 29 11:52 \u001b[01;34mtest-633\u001b[0m\n",
      "drwxrwxr-x   2 lab  lab   4096 Aug 29 11:52 \u001b[01;34mtest-634\u001b[0m\n",
      "drwxrwxr-x   2 lab  lab   4096 Aug 29 11:52 \u001b[01;34mtest-635\u001b[0m\n",
      "drwxrwxr-x   2 lab  lab   4096 Aug 29 11:52 \u001b[01;34mtest-636\u001b[0m\n",
      "drwxrwxr-x   2 lab  lab   4096 Aug 29 11:52 \u001b[01;34mtest-637\u001b[0m\n",
      "drwxrwxr-x   2 lab  lab   4096 Aug 29 11:52 \u001b[01;34mtest-638\u001b[0m\n",
      "drwxrwxr-x   2 lab  lab   4096 Aug 29 11:52 \u001b[01;34mtest-639\u001b[0m\n",
      "drwxrwxr-x   2 lab  lab   4096 Aug 29 11:46 \u001b[01;34mtest-64\u001b[0m\n",
      "drwxrwxr-x   2 lab  lab   4096 Aug 29 11:52 \u001b[01;34mtest-640\u001b[0m\n",
      "drwxrwxr-x   2 lab  lab   4096 Aug 29 11:52 \u001b[01;34mtest-641\u001b[0m\n",
      "drwxrwxr-x   2 lab  lab   4096 Aug 29 11:52 \u001b[01;34mtest-642\u001b[0m\n",
      "drwxrwxr-x   2 lab  lab   4096 Aug 29 11:52 \u001b[01;34mtest-643\u001b[0m\n",
      "drwxrwxr-x   2 lab  lab   4096 Aug 29 11:52 \u001b[01;34mtest-644\u001b[0m\n",
      "drwxrwxr-x   2 lab  lab   4096 Aug 29 11:52 \u001b[01;34mtest-645\u001b[0m\n",
      "drwxrwxr-x   2 lab  lab   4096 Aug 29 11:52 \u001b[01;34mtest-646\u001b[0m\n",
      "drwxrwxr-x   2 lab  lab   4096 Aug 29 11:52 \u001b[01;34mtest-647\u001b[0m\n",
      "drwxrwxr-x   2 lab  lab   4096 Aug 29 11:52 \u001b[01;34mtest-648\u001b[0m\n",
      "drwxrwxr-x   2 lab  lab   4096 Aug 29 11:52 \u001b[01;34mtest-649\u001b[0m\n",
      "drwxrwxr-x   2 lab  lab   4096 Aug 29 11:46 \u001b[01;34mtest-65\u001b[0m\n",
      "drwxrwxr-x   2 lab  lab   4096 Aug 29 11:52 \u001b[01;34mtest-650\u001b[0m\n",
      "drwxrwxr-x   2 lab  lab   4096 Aug 29 11:52 \u001b[01;34mtest-651\u001b[0m\n",
      "drwxrwxr-x   2 lab  lab   4096 Aug 29 11:52 \u001b[01;34mtest-652\u001b[0m\n",
      "drwxrwxr-x   2 lab  lab   4096 Aug 29 11:52 \u001b[01;34mtest-653\u001b[0m\n",
      "drwxrwxr-x   2 lab  lab   4096 Aug 29 11:52 \u001b[01;34mtest-654\u001b[0m\n",
      "drwxrwxr-x   2 lab  lab   4096 Aug 29 11:52 \u001b[01;34mtest-655\u001b[0m\n",
      "drwxrwxr-x   2 lab  lab   4096 Aug 29 11:52 \u001b[01;34mtest-656\u001b[0m\n",
      "drwxrwxr-x   2 lab  lab   4096 Aug 29 11:52 \u001b[01;34mtest-657\u001b[0m\n",
      "drwxrwxr-x   2 lab  lab   4096 Aug 29 11:52 \u001b[01;34mtest-658\u001b[0m\n",
      "drwxrwxr-x   2 lab  lab   4096 Aug 29 11:52 \u001b[01;34mtest-659\u001b[0m\n",
      "drwxrwxr-x   2 lab  lab   4096 Aug 29 11:46 \u001b[01;34mtest-66\u001b[0m\n",
      "drwxrwxr-x   2 lab  lab   4096 Aug 29 11:52 \u001b[01;34mtest-660\u001b[0m\n",
      "drwxrwxr-x   2 lab  lab   4096 Aug 29 11:52 \u001b[01;34mtest-661\u001b[0m\n",
      "drwxrwxr-x   2 lab  lab   4096 Aug 29 11:52 \u001b[01;34mtest-662\u001b[0m\n",
      "drwxrwxr-x   2 lab  lab   4096 Aug 29 11:52 \u001b[01;34mtest-663\u001b[0m\n",
      "drwxrwxr-x   2 lab  lab   4096 Aug 29 11:52 \u001b[01;34mtest-664\u001b[0m\n",
      "drwxrwxr-x   2 lab  lab   4096 Aug 29 11:52 \u001b[01;34mtest-665\u001b[0m\n",
      "drwxrwxr-x   2 lab  lab   4096 Aug 29 11:52 \u001b[01;34mtest-666\u001b[0m\n",
      "drwxrwxr-x   2 lab  lab   4096 Aug 29 11:52 \u001b[01;34mtest-667\u001b[0m\n",
      "drwxrwxr-x   2 lab  lab   4096 Aug 29 11:52 \u001b[01;34mtest-668\u001b[0m\n",
      "drwxrwxr-x   2 lab  lab   4096 Aug 29 11:52 \u001b[01;34mtest-669\u001b[0m\n",
      "drwxrwxr-x   2 lab  lab   4096 Aug 29 11:46 \u001b[01;34mtest-67\u001b[0m\n",
      "drwxrwxr-x   2 lab  lab   4096 Aug 29 11:52 \u001b[01;34mtest-670\u001b[0m\n",
      "drwxrwxr-x   2 lab  lab   4096 Aug 29 11:52 \u001b[01;34mtest-671\u001b[0m\n",
      "drwxrwxr-x   2 lab  lab   4096 Aug 29 11:52 \u001b[01;34mtest-672\u001b[0m\n",
      "drwxrwxr-x   2 lab  lab   4096 Aug 29 11:52 \u001b[01;34mtest-673\u001b[0m\n",
      "drwxrwxr-x   2 lab  lab   4096 Aug 29 11:53 \u001b[01;34mtest-674\u001b[0m\n",
      "drwxrwxr-x   2 lab  lab   4096 Aug 29 11:53 \u001b[01;34mtest-675\u001b[0m\n",
      "drwxrwxr-x   2 lab  lab   4096 Aug 29 11:53 \u001b[01;34mtest-676\u001b[0m\n",
      "drwxrwxr-x   2 lab  lab   4096 Aug 29 11:53 \u001b[01;34mtest-677\u001b[0m\n",
      "drwxrwxr-x   2 lab  lab   4096 Aug 29 11:53 \u001b[01;34mtest-678\u001b[0m\n",
      "drwxrwxr-x   2 lab  lab   4096 Aug 29 11:53 \u001b[01;34mtest-679\u001b[0m\n",
      "drwxrwxr-x   2 lab  lab   4096 Aug 29 11:46 \u001b[01;34mtest-68\u001b[0m\n",
      "drwxrwxr-x   2 lab  lab   4096 Aug 29 11:53 \u001b[01;34mtest-680\u001b[0m\n",
      "drwxrwxr-x   2 lab  lab   4096 Aug 29 11:53 \u001b[01;34mtest-681\u001b[0m\n",
      "drwxrwxr-x   2 lab  lab   4096 Aug 29 11:46 \u001b[01;34mtest-69\u001b[0m\n",
      "drwxrwxr-x   2 lab  lab   4096 Aug 29 11:46 \u001b[01;34mtest-7\u001b[0m\n",
      "drwxrwxr-x   2 lab  lab   4096 Aug 29 11:46 \u001b[01;34mtest-70\u001b[0m\n",
      "drwxrwxr-x   2 lab  lab   4096 Aug 29 11:46 \u001b[01;34mtest-71\u001b[0m\n",
      "drwxrwxr-x   2 lab  lab   4096 Aug 29 11:46 \u001b[01;34mtest-72\u001b[0m\n",
      "drwxrwxr-x   2 lab  lab   4096 Aug 29 11:46 \u001b[01;34mtest-73\u001b[0m\n",
      "drwxrwxr-x   2 lab  lab   4096 Aug 29 11:46 \u001b[01;34mtest-74\u001b[0m\n",
      "drwxrwxr-x   2 lab  lab   4096 Aug 29 11:46 \u001b[01;34mtest-75\u001b[0m\n",
      "drwxrwxr-x   2 lab  lab   4096 Aug 29 11:47 \u001b[01;34mtest-76\u001b[0m\n",
      "drwxrwxr-x   2 lab  lab   4096 Aug 29 11:47 \u001b[01;34mtest-77\u001b[0m\n",
      "drwxrwxr-x   2 lab  lab   4096 Aug 29 11:47 \u001b[01;34mtest-78\u001b[0m\n",
      "drwxrwxr-x   2 lab  lab   4096 Aug 29 11:47 \u001b[01;34mtest-79\u001b[0m\n",
      "drwxrwxr-x   2 lab  lab   4096 Aug 29 11:46 \u001b[01;34mtest-8\u001b[0m\n",
      "drwxrwxr-x   2 lab  lab   4096 Aug 29 11:47 \u001b[01;34mtest-80\u001b[0m\n",
      "drwxrwxr-x   2 lab  lab   4096 Aug 29 11:47 \u001b[01;34mtest-81\u001b[0m\n",
      "drwxrwxr-x   2 lab  lab   4096 Aug 29 11:47 \u001b[01;34mtest-82\u001b[0m\n",
      "drwxrwxr-x   2 lab  lab   4096 Aug 29 11:47 \u001b[01;34mtest-83\u001b[0m\n",
      "drwxrwxr-x   2 lab  lab   4096 Aug 29 11:47 \u001b[01;34mtest-84\u001b[0m\n",
      "drwxrwxr-x   2 lab  lab   4096 Aug 29 11:47 \u001b[01;34mtest-85\u001b[0m\n",
      "drwxrwxr-x   2 lab  lab   4096 Aug 29 11:47 \u001b[01;34mtest-86\u001b[0m\n",
      "drwxrwxr-x   2 lab  lab   4096 Aug 29 11:47 \u001b[01;34mtest-87\u001b[0m\n",
      "drwxrwxr-x   2 lab  lab   4096 Aug 29 11:47 \u001b[01;34mtest-88\u001b[0m\n",
      "drwxrwxr-x   2 lab  lab   4096 Aug 29 11:47 \u001b[01;34mtest-89\u001b[0m\n",
      "drwxrwxr-x   2 lab  lab   4096 Aug 29 11:46 \u001b[01;34mtest-9\u001b[0m\n",
      "drwxrwxr-x   2 lab  lab   4096 Aug 29 11:47 \u001b[01;34mtest-90\u001b[0m\n",
      "drwxrwxr-x   2 lab  lab   4096 Aug 29 11:47 \u001b[01;34mtest-91\u001b[0m\n",
      "drwxrwxr-x   2 lab  lab   4096 Aug 29 11:47 \u001b[01;34mtest-92\u001b[0m\n",
      "drwxrwxr-x   2 lab  lab   4096 Aug 29 11:47 \u001b[01;34mtest-93\u001b[0m\n",
      "drwxrwxr-x   2 lab  lab   4096 Aug 29 11:47 \u001b[01;34mtest-94\u001b[0m\n",
      "drwxrwxr-x   2 lab  lab   4096 Aug 29 11:47 \u001b[01;34mtest-95\u001b[0m\n",
      "drwxrwxr-x   2 lab  lab   4096 Aug 29 11:47 \u001b[01;34mtest-96\u001b[0m\n",
      "drwxrwxr-x   2 lab  lab   4096 Aug 29 11:47 \u001b[01;34mtest-97\u001b[0m\n",
      "drwxrwxr-x   2 lab  lab   4096 Aug 29 11:47 \u001b[01;34mtest-98\u001b[0m\n",
      "drwxrwxr-x   2 lab  lab   4096 Aug 29 11:47 \u001b[01;34mtest-99\u001b[0m\n"
     ]
    }
   ],
   "source": [
    "tmp = net_connect.send_command(\"ls -al\")\n",
    "print(tmp)"
   ]
  },
  {
   "cell_type": "code",
   "execution_count": 67,
   "metadata": {},
   "outputs": [],
   "source": [
    "# import to use package\n",
    "from netmiko import ConnectHandler\n",
    "\n",
    "# defind connection parameters\n",
    "CSS0 = {\n",
    " 'device_type':'cisco_ios',\n",
    " 'ip':'10.10.19.55',\n",
    " 'username':'admin',\n",
    " 'password':'password@1',\n",
    "}\n",
    "DV = dict(CSS0)"
   ]
  },
  {
   "cell_type": "code",
   "execution_count": null,
   "metadata": {},
   "outputs": [],
   "source": []
  },
  {
   "cell_type": "code",
   "execution_count": 68,
   "metadata": {},
   "outputs": [],
   "source": [
    "# connect\n",
    "net_connect = ConnectHandler(**CSS0)"
   ]
  },
  {
   "cell_type": "code",
   "execution_count": 69,
   "metadata": {},
   "outputs": [],
   "source": [
    "# send command to execute\n",
    "output = net_connect.send_command('show ip int brief')"
   ]
  },
  {
   "cell_type": "code",
   "execution_count": 70,
   "metadata": {},
   "outputs": [
    {
     "name": "stdout",
     "output_type": "stream",
     "text": [
      "Interface              IP-Address      OK? Method Status                Protocol\n",
      "Vlan1                  10.10.19.55     YES NVRAM  up                    up      \n",
      "GigabitEthernet0/0     unassigned      YES NVRAM  administratively down down    \n",
      "GigabitEthernet1/0/1   unassigned      YES unset  down                  down    \n",
      "GigabitEthernet1/0/2   unassigned      YES unset  down                  down    \n",
      "GigabitEthernet1/0/3   unassigned      YES unset  down                  down    \n",
      "GigabitEthernet1/0/4   unassigned      YES unset  down                  down    \n",
      "GigabitEthernet1/0/5   unassigned      YES unset  down                  down    \n",
      "GigabitEthernet1/0/6   unassigned      YES unset  down                  down    \n",
      "GigabitEthernet1/0/7   unassigned      YES unset  down                  down    \n",
      "GigabitEthernet1/0/8   unassigned      YES unset  down                  down    \n",
      "GigabitEthernet1/0/9   unassigned      YES unset  down                  down    \n",
      "GigabitEthernet1/0/10  unassigned      YES unset  down                  down    \n",
      "GigabitEthernet1/0/11  unassigned      YES unset  down                  down    \n",
      "GigabitEthernet1/0/12  unassigned      YES unset  down                  down    \n",
      "GigabitEthernet1/0/13  unassigned      YES unset  down                  down    \n",
      "GigabitEthernet1/0/14  unassigned      YES unset  down                  down    \n",
      "GigabitEthernet1/0/15  unassigned      YES unset  down                  down    \n",
      "GigabitEthernet1/0/16  unassigned      YES unset  down                  down    \n",
      "GigabitEthernet1/0/17  unassigned      YES unset  down                  down    \n",
      "GigabitEthernet1/0/18  unassigned      YES unset  down                  down    \n",
      "GigabitEthernet1/0/19  unassigned      YES unset  down                  down    \n",
      "GigabitEthernet1/0/20  unassigned      YES unset  down                  down    \n",
      "GigabitEthernet1/0/21  unassigned      YES unset  down                  down    \n",
      "GigabitEthernet1/0/22  unassigned      YES unset  down                  down    \n",
      "GigabitEthernet1/0/23  unassigned      YES unset  down                  down    \n",
      "GigabitEthernet1/0/24  unassigned      YES unset  up                    up      \n",
      "GigabitEthernet1/1/1   unassigned      YES unset  down                  down    \n",
      "GigabitEthernet1/1/2   unassigned      YES unset  down                  down    \n",
      "GigabitEthernet1/1/3   unassigned      YES unset  down                  down    \n",
      "GigabitEthernet1/1/4   unassigned      YES unset  down                  down    \n"
     ]
    }
   ],
   "source": [
    "print(output)"
   ]
  },
  {
   "cell_type": "code",
   "execution_count": null,
   "metadata": {},
   "outputs": [],
   "source": [
    "tmp = output.split(\"\\n\")"
   ]
  },
  {
   "cell_type": "code",
   "execution_count": 35,
   "metadata": {},
   "outputs": [
    {
     "data": {
      "text/plain": [
       "'test#'"
      ]
     },
     "execution_count": 35,
     "metadata": {},
     "output_type": "execute_result"
    }
   ],
   "source": [
    "a = net_connect.find_prompt()\n",
    "a"
   ]
  },
  {
   "cell_type": "code",
   "execution_count": 71,
   "metadata": {},
   "outputs": [
    {
     "name": "stdout",
     "output_type": "stream",
     "text": [
      "Protocol  Address          Age (min)  Hardware Addr   Type   Interface\n",
      "Internet  10.10.19.1              3   5c83.8f08.d33f  ARPA   Vlan1\n",
      "Internet  10.10.19.55             -   6c8b.d3c9.b7c7  ARPA   Vlan1\n",
      "Internet  10.20.42.90           168   5c83.8f08.d33f  ARPA   Vlan1\n",
      "Internet  10.108.33.205          73   5c83.8f08.d33f  ARPA   Vlan1\n",
      "Internet  10.108.36.49           89   5c83.8f08.d33f  ARPA   Vlan1\n"
     ]
    }
   ],
   "source": [
    "output = net_connect.send_command(\"show arp\")\n",
    "print(output)"
   ]
  },
  {
   "cell_type": "code",
   "execution_count": 62,
   "metadata": {},
   "outputs": [
    {
     "name": "stdout",
     "output_type": "stream",
     "text": [
      "['Protocol  Address          Age (min)  Hardware Addr   Type   Interface', 'Internet  10.10.19.1              2   5c83.8f08.d33f  ARPA   Vlan1', 'Internet  10.10.19.55             -   6c8b.d3c9.b7c7  ARPA   Vlan1', 'Internet  10.20.42.90           104   5c83.8f08.d33f  ARPA   Vlan1', 'Internet  10.108.33.205           8   5c83.8f08.d33f  ARPA   Vlan1', 'Internet  10.108.36.49           24   5c83.8f08.d33f  ARPA   Vlan1']\n"
     ]
    }
   ],
   "source": [
    "print(output.split(\"\\n\"))"
   ]
  },
  {
   "cell_type": "code",
   "execution_count": 41,
   "metadata": {},
   "outputs": [
    {
     "name": "stdout",
     "output_type": "stream",
     "text": [
      "Protocol  Address          Age (min)  Hardware Addr   Type   Interface\n"
     ]
    }
   ],
   "source": [
    "# splite sone things\n",
    "for i in output.split(\"\\n\")[:1]:\n",
    "    print (i)"
   ]
  },
  {
   "cell_type": "code",
   "execution_count": 59,
   "metadata": {},
   "outputs": [
    {
     "name": "stdout",
     "output_type": "stream",
     "text": [
      "flash:\n"
     ]
    }
   ],
   "source": [
    "output = net_connect.send_command(\"pwd\")\n",
    "print(output)"
   ]
  },
  {
   "cell_type": "markdown",
   "metadata": {},
   "source": [
    "## Afternoon session\n",
    "### การส่งไฟล์จาก Cisco Switch ไปยัง TFTP Server"
   ]
  },
  {
   "cell_type": "code",
   "execution_count": 73,
   "metadata": {},
   "outputs": [
    {
     "name": "stdout",
     "output_type": "stream",
     "text": [
      "Directory of flash:/\n",
      "\n",
      "89058  -rwx        343934509   Jan 1 1970 07:35:34 +07:00  cat9k_lite_iosxe.16.09.02.SPA.bin\n",
      "89059  drwx             4096  Aug 28 2019 13:57:14 +07:00  .installer\n",
      "89061  -rw-              296  Aug 28 2019 13:57:15 +07:00  bootloader_evt_handle.log\n",
      "89062  drwx             4096  Feb 27 2019 17:47:34 +07:00  core\n",
      "113345  drwx             4096  Aug 28 2019 13:57:33 +07:00  .prst_sync\n",
      " 8098  drwx             4096  Feb 27 2019 17:45:21 +07:00  .rollback_timer\n",
      "24289  drwx             4096  Feb 27 2019 17:45:23 +07:00  tech_support\n",
      "32385  drwx             4096  Aug 28 2019 13:57:33 +07:00  dc_profile_dir\n",
      "89071  -rw-             2131  Aug 28 2019 13:57:35 +07:00  boothelper.log\n",
      "89064  -rw-           132095  Aug 28 2019 13:57:52 +07:00  memleak.tcl\n",
      "89066  drwx             4096  Feb 27 2019 17:47:52 +07:00  .dbpersist\n",
      "32387  drwx             4096  Feb 27 2019 17:47:13 +07:00  onep\n",
      "89068  -rw-          2097152  Aug 28 2019 19:14:26 +07:00  nvram_config\n",
      "89069  -rw-          2097152  Aug 28 2019 19:14:26 +07:00  nvram_config_bkup\n",
      "89063  -rw-              139   Aug 1 2019 10:43:05 +07:00  boothelper.log.old\n",
      "89075  -rw-              556  Aug 29 2019 14:28:42 +07:00  vlan.dat\n",
      "89076  -rw-        344552977   Aug 1 2019 10:37:06 +07:00  cat9k_lite_iosxe.16.09.03.SPA.bin\n",
      "89077  -rw-        348682353  Aug 28 2019 13:53:00 +07:00  cat9k_lite_iosxe.16.11.01.SPA.bin\n",
      "89078  -rw-              864  Aug 28 2019 13:59:24 +07:00  rdope_out.txt\n",
      "89079  -rw-               89  Aug 28 2019 13:59:20 +07:00  rdope.log\n",
      "32389  drwx             4096  Aug 28 2019 13:59:25 +07:00  license_evlog\n",
      "89080  -rw-                0  Aug 28 2019 13:59:24 +07:00  dope_hist\n",
      "\n",
      "1956839424 bytes total (811413504 bytes free)\n"
     ]
    }
   ],
   "source": [
    "output = net_connect.send_command(\"dir\")\n",
    "print(output)"
   ]
  },
  {
   "cell_type": "code",
   "execution_count": 74,
   "metadata": {},
   "outputs": [
    {
     "data": {
      "text/plain": [
       "'ote host []? 10.108.36.60\\nDestination filename [vlan.dat]? vlan.dat\\n.....\\n%Error opening tftp://10.108.36.60/vlan.dat (Timed out)'"
      ]
     },
     "execution_count": 74,
     "metadata": {},
     "output_type": "execute_result"
    }
   ],
   "source": [
    "net_connect.send_command(\"copy vlan.dat tftp:\\n10.108.36.60\\nvlan.dat\\n\")"
   ]
  },
  {
   "cell_type": "code",
   "execution_count": null,
   "metadata": {},
   "outputs": [],
   "source": []
  },
  {
   "cell_type": "code",
   "execution_count": null,
   "metadata": {},
   "outputs": [],
   "source": [
    "# "
   ]
  },
  {
   "cell_type": "code",
   "execution_count": 64,
   "metadata": {},
   "outputs": [
    {
     "data": {
      "text/plain": [
       "'/Users/kholed/data-science-project/python-big-data'"
      ]
     },
     "execution_count": 64,
     "metadata": {},
     "output_type": "execute_result"
    }
   ],
   "source": [
    "pwd"
   ]
  },
  {
   "cell_type": "code",
   "execution_count": null,
   "metadata": {},
   "outputs": [],
   "source": []
  },
  {
   "cell_type": "code",
   "execution_count": null,
   "metadata": {},
   "outputs": [],
   "source": [
    "# Text processing and regular expression for text filtering"
   ]
  },
  {
   "cell_type": "code",
   "execution_count": 94,
   "metadata": {},
   "outputs": [],
   "source": [
    "#code for read terminal command detail\n",
    "import os"
   ]
  },
  {
   "cell_type": "code",
   "execution_count": 95,
   "metadata": {},
   "outputs": [
    {
     "name": "stdout",
     "output_type": "stream",
     "text": [
      "lo0: flags=8049<UP,LOOPBACK,RUNNING,MULTICAST> mtu 16384\n",
      "\toptions=1203<RXCSUM,TXCSUM,TXSTATUS,SW_TIMESTAMP>\n",
      "\tinet 127.0.0.1 netmask 0xff000000 \n",
      "\tinet6 ::1 prefixlen 128 \n",
      "\tinet6 fe80::1%lo0 prefixlen 64 scopeid 0x1 \n",
      "\tnd6 options=201<PERFORMNUD,DAD>\n",
      "gif0: flags=8010<POINTOPOINT,MULTICAST> mtu 1280\n",
      "stf0: flags=0<> mtu 1280\n",
      "EHC253: flags=0<> mtu 0\n",
      "EHC250: flags=0<> mtu 0\n",
      "en0: flags=8863<UP,BROADCAST,SMART,RUNNING,SIMPLEX,MULTICAST> mtu 1500\n",
      "\toptions=10b<RXCSUM,TXCSUM,VLAN_HWTAGGING,AV>\n",
      "\tether 3c:07:54:40:69:1a \n",
      "\tinet6 fe80::c3d:c45:a4e4:7041%en0 prefixlen 64 secured scopeid 0x6 \n",
      "\tinet 10.20.103.60 netmask 0xffffff00 broadcast 10.20.103.255\n",
      "\tnd6 options=201<PERFORMNUD,DAD>\n",
      "\tmedia: autoselect (1000baseT <full-duplex,energy-efficient-ethernet>)\n",
      "\tstatus: active\n",
      "en1: flags=8823<UP,BROADCAST,SMART,SIMPLEX,MULTICAST> mtu 1500\n",
      "\tether b8:8d:12:24:30:aa \n",
      "\tnd6 options=201<PERFORMNUD,DAD>\n",
      "\tmedia: autoselect (<unknown type>)\n",
      "\tstatus: inactive\n",
      "p2p0: flags=8802<BROADCAST,SIMPLEX,MULTICAST> mtu 2304\n",
      "\tether 0a:8d:12:24:30:aa \n",
      "\tmedia: autoselect\n",
      "\tstatus: inactive\n",
      "en2: flags=8963<UP,BROADCAST,SMART,RUNNING,PROMISC,SIMPLEX,MULTICAST> mtu 1500\n",
      "\toptions=60<TSO4,TSO6>\n",
      "\tether d2:00:16:6b:28:40 \n",
      "\tmedia: autoselect <full-duplex>\n",
      "\tstatus: inactive\n",
      "fw0: flags=8863<UP,BROADCAST,SMART,RUNNING,SIMPLEX,MULTICAST> mtu 4078\n",
      "\tlladdr a4:b1:97:ff:fe:66:b2:84 \n",
      "\tnd6 options=201<PERFORMNUD,DAD>\n",
      "\tmedia: autoselect <full-duplex>\n",
      "\tstatus: inactive\n",
      "bridge0: flags=8863<UP,BROADCAST,SMART,RUNNING,SIMPLEX,MULTICAST> mtu 1500\n",
      "\toptions=63<RXCSUM,TXCSUM,TSO4,TSO6>\n",
      "\tether d2:00:16:6b:28:40 \n",
      "\tConfiguration:\n",
      "\t\tid 0:0:0:0:0:0 priority 0 hellotime 0 fwddelay 0\n",
      "\t\tmaxage 0 holdcnt 0 proto stp maxaddr 100 timeout 1200\n",
      "\t\troot id 0:0:0:0:0:0 priority 0 ifcost 0 port 0\n",
      "\t\tipfilter disabled flags 0x2\n",
      "\tmember: en2 flags=3<LEARNING,DISCOVER>\n",
      "\t        ifmaxaddr 0 port 9 priority 0 path cost 0\n",
      "\tnd6 options=201<PERFORMNUD,DAD>\n",
      "\tmedia: <unknown type>\n",
      "\tstatus: inactive\n",
      "utun0: flags=8051<UP,POINTOPOINT,RUNNING,MULTICAST> mtu 2000\n",
      "\tinet6 fe80::3473:3b47:d9e8:49b5%utun0 prefixlen 64 scopeid 0xc \n",
      "\tnd6 options=201<PERFORMNUD,DAD>\n",
      "\n"
     ]
    }
   ],
   "source": [
    "t = os.popen(\"ifconfig\").read()\n",
    "print(t)"
   ]
  },
  {
   "cell_type": "code",
   "execution_count": 105,
   "metadata": {},
   "outputs": [
    {
     "name": "stdout",
     "output_type": "stream",
     "text": [
      "::1\n",
      "fe80::1%lo0\n",
      "fe80::c3d:c45:a4e4:7041%en0\n",
      "fe80::3473:3b47:d9e8:49b5%utun0\n"
     ]
    }
   ],
   "source": [
    "tmp = t.split(\"\\n\")\n",
    "for i in tmp:\n",
    "    if \"inet6\" in i:\n",
    "        x = i.split(\" \")[1]\n",
    "        print(x)"
   ]
  },
  {
   "cell_type": "code",
   "execution_count": 108,
   "metadata": {},
   "outputs": [
    {
     "name": "stdout",
     "output_type": "stream",
     "text": [
      "Anaconda3-2019.07-MacOSX-x86_64.pkg\n",
      "MicroPython\n",
      "Terminal Saved Output.txt\n",
      "day4\n",
      "face-recognition\n",
      "python-day3 - ความรู้เบื้องต้นภาษา Python และไมโครไพธอนบนไมโครคอนโทรลเลอร์.webarchive\n",
      "python-day4-for-network.ipynb\n",
      "yru-python-day2\n",
      "ความรู้เบื้องต้นภาษา Python (ต่อ) day2.webarchive\n",
      "ความรู้เบื้องต้นภาษา Python (ต่อ)-2.webarchive\n",
      "ความรู้เบื้องต้นภาษา Python (ต่อ).webarchive\n",
      "ความรู้เบื้องต้นภาษา Python (ต่อ)2-2.webarchive\n",
      "ความรู้เบื้องต้นภาษา Python (ต่อ)day2.webarchive\n",
      "ความรู้เบื้องต้นภาษา Python day1.webarchive\n",
      "ความรู้เบื้องต้นภาษา Python.webarchive\n",
      "\n"
     ]
    }
   ],
   "source": [
    "t = os.popen(\"ls\").read()\n",
    "print(t)"
   ]
  },
  {
   "cell_type": "code",
   "execution_count": 106,
   "metadata": {},
   "outputs": [
    {
     "name": "stdout",
     "output_type": "stream",
     "text": [
      "python-day4-for-network.ipynb\n"
     ]
    }
   ],
   "source": [
    "t = os.popen(\"ls\").read()\n",
    "tmp = t.split(\"\\n\")\n",
    "for i in tmp:\n",
    "    if \"ipynb\" in i:\n",
    "        print(i)"
   ]
  },
  {
   "cell_type": "code",
   "execution_count": 112,
   "metadata": {},
   "outputs": [
    {
     "name": "stdout",
     "output_type": "stream",
     "text": [
      "python-day4-for-network\n"
     ]
    }
   ],
   "source": [
    "t = os.popen(\"ls\").read()\n",
    "tmp = t.split(\"\\n\")\n",
    "for i in tmp:\n",
    "    if \"ipynb\" in i:\n",
    "        t = i.split(\".\")[0]\n",
    "        print(t)"
   ]
  },
  {
   "cell_type": "code",
   "execution_count": 122,
   "metadata": {},
   "outputs": [
    {
     "name": "stdout",
     "output_type": "stream",
     "text": [
      "total 1366000\n",
      "drwxr-xr-x  19 kholed  staff        608 Aug 29 16:00 .\n",
      "drwxr-xr-x  13 kholed  staff        416 Aug 28 20:17 ..\n",
      "-rw-r--r--@  1 kholed  staff      12292 Aug 29 14:33 .DS_Store\n",
      "drwxr-xr-x   3 kholed  staff         96 Aug 29 13:26 .ipynb_checkpoints\n",
      "-rwxrwxrwx@  1 kholed  staff  684809889 Aug 27 08:30 Anaconda3-2019.07-MacOSX-x86_64.pkg\n",
      "drwxr-xr-x   4 kholed  staff        128 Aug 28 13:10 MicroPython\n",
      "-rw-r--r--@  1 kholed  staff       8762 Aug 28 13:25 Terminal Saved Output.txt\n",
      "drwxr-xr-x   5 kholed  staff        160 Aug 29 13:34 day4\n",
      "drwxr-xr-x   8 kholed  staff        256 Aug 28 18:24 face-recognition\n",
      "-rw-r--r--@  1 kholed  staff    3223739 Aug 28 18:25 python-day3 - ความรู้เบื้องต้นภาษา Python และไมโครไพธอนบนไมโครคอนโทรลเลอร์.webarchive\n",
      "-rw-r--r--   1 kholed  staff     107293 Aug 29 16:00 python-day4-for-network.ipynb\n",
      "drwxr-xr-x  10 kholed  staff        320 Aug 28 18:23 yru-python-day2\n",
      "-rw-r--r--@  1 kholed  staff     889043 Aug 27 13:28 ความรู้เบื้องต้นภาษา Python (ต่อ) day2.webarchive\n",
      "-rw-r--r--@  1 kholed  staff     879041 Aug 27 11:10 ความรู้เบื้องต้นภาษา Python (ต่อ)-2.webarchive\n",
      "-rw-r--r--@  1 kholed  staff     870601 Aug 27 11:10 ความรู้เบื้องต้นภาษา Python (ต่อ).webarchive\n",
      "-rw-r--r--@  1 kholed  staff     894494 Aug 27 16:04 ความรู้เบื้องต้นภาษา Python (ต่อ)2-2.webarchive\n",
      "-rw-r--r--@  1 kholed  staff     973116 Aug 27 20:25 ความรู้เบื้องต้นภาษา Python (ต่อ)day2.webarchive\n",
      "-rw-r--r--@  1 kholed  staff    3302658 Aug 27 13:27 ความรู้เบื้องต้นภาษา Python day1.webarchive\n",
      "-rw-r--r--@  1 kholed  staff    3302703 Aug 27 09:19 ความรู้เบื้องต้นภาษา Python.webarchive\n",
      "\n"
     ]
    },
    {
     "ename": "ValueError",
     "evalue": "empty separator",
     "output_type": "error",
     "traceback": [
      "\u001b[0;31m---------------------------------------------------------------------------\u001b[0m",
      "\u001b[0;31mValueError\u001b[0m                                Traceback (most recent call last)",
      "\u001b[0;32m<ipython-input-122-f17df21f9c0c>\u001b[0m in \u001b[0;36m<module>\u001b[0;34m\u001b[0m\n\u001b[1;32m      4\u001b[0m \u001b[0mtmp\u001b[0m \u001b[0;34m=\u001b[0m \u001b[0mt\u001b[0m\u001b[0;34m.\u001b[0m\u001b[0msplit\u001b[0m\u001b[0;34m(\u001b[0m\u001b[0;34m\"\\n\"\u001b[0m\u001b[0;34m)\u001b[0m\u001b[0;34m\u001b[0m\u001b[0;34m\u001b[0m\u001b[0m\n\u001b[1;32m      5\u001b[0m \u001b[0;32mfor\u001b[0m \u001b[0mi\u001b[0m \u001b[0;32min\u001b[0m \u001b[0mtmp\u001b[0m\u001b[0;34m:\u001b[0m\u001b[0;34m\u001b[0m\u001b[0;34m\u001b[0m\u001b[0m\n\u001b[0;32m----> 6\u001b[0;31m     \u001b[0mprint\u001b[0m \u001b[0;34m(\u001b[0m\u001b[0mi\u001b[0m\u001b[0;34m.\u001b[0m\u001b[0msplit\u001b[0m\u001b[0;34m(\u001b[0m\u001b[0;34m\"\"\u001b[0m\u001b[0;34m)\u001b[0m\u001b[0;34m[\u001b[0m\u001b[0;36m1\u001b[0m\u001b[0;34m]\u001b[0m\u001b[0;34m)\u001b[0m\u001b[0;34m\u001b[0m\u001b[0;34m\u001b[0m\u001b[0m\n\u001b[0m",
      "\u001b[0;31mValueError\u001b[0m: empty separator"
     ]
    }
   ],
   "source": [
    "t = os.popen(\"ls -al\").read()\n",
    "print (t)\n",
    "\n",
    "tmp = t.split(\"\\n\")\n",
    "for i in tmp:\n",
    "    print (i.split(\"\")[1])"
   ]
  },
  {
   "cell_type": "code",
   "execution_count": 117,
   "metadata": {},
   "outputs": [
    {
     "ename": "KeyboardInterrupt",
     "evalue": "",
     "output_type": "error",
     "traceback": [
      "\u001b[0;31m---------------------------------------------------------------------------\u001b[0m",
      "\u001b[0;31mKeyboardInterrupt\u001b[0m                         Traceback (most recent call last)",
      "\u001b[0;32m<ipython-input-117-ade2afcdc74e>\u001b[0m in \u001b[0;36m<module>\u001b[0;34m\u001b[0m\n\u001b[0;32m----> 1\u001b[0;31m \u001b[0mt\u001b[0m \u001b[0;34m=\u001b[0m \u001b[0mos\u001b[0m\u001b[0;34m.\u001b[0m\u001b[0mpopen\u001b[0m\u001b[0;34m(\u001b[0m\u001b[0;34m\"ping 10.20.103.60\"\u001b[0m\u001b[0;34m)\u001b[0m\u001b[0;34m.\u001b[0m\u001b[0mread\u001b[0m\u001b[0;34m(\u001b[0m\u001b[0;34m)\u001b[0m\u001b[0;34m\u001b[0m\u001b[0;34m\u001b[0m\u001b[0m\n\u001b[0m\u001b[1;32m      2\u001b[0m \u001b[0mprint\u001b[0m\u001b[0;34m(\u001b[0m\u001b[0mt\u001b[0m\u001b[0;34m)\u001b[0m\u001b[0;34m\u001b[0m\u001b[0;34m\u001b[0m\u001b[0m\n",
      "\u001b[0;31mKeyboardInterrupt\u001b[0m: "
     ]
    }
   ],
   "source": [
    "t = os.popen(\"ping 10.20.103.60\").read()\n",
    "print(t)"
   ]
  },
  {
   "cell_type": "code",
   "execution_count": null,
   "metadata": {},
   "outputs": [],
   "source": [
    "pip install multiping"
   ]
  },
  {
   "cell_type": "code",
   "execution_count": null,
   "metadata": {},
   "outputs": [],
   "source": [
    "ips = [\"8.8.8.8\", \"youtube.com\", \"127.0.0.1\"]"
   ]
  },
  {
   "cell_type": "code",
   "execution_count": 89,
   "metadata": {},
   "outputs": [],
   "source": [
    "from multiping import multi_ping"
   ]
  },
  {
   "cell_type": "code",
   "execution_count": 90,
   "metadata": {},
   "outputs": [
    {
     "ename": "MultiPingError",
     "evalue": "Root privileges required for sending ICMP",
     "output_type": "error",
     "traceback": [
      "\u001b[0;31m---------------------------------------------------------------------------\u001b[0m",
      "\u001b[0;31mPermissionError\u001b[0m                           Traceback (most recent call last)",
      "\u001b[0;32m~/anaconda3/lib/python3.7/site-packages/multiping/__init__.py\u001b[0m in \u001b[0;36m_open_icmp_socket\u001b[0;34m(self, family)\u001b[0m\n\u001b[1;32m    170\u001b[0m \u001b[0;34m\u001b[0m\u001b[0m\n\u001b[0;32m--> 171\u001b[0;31m             \u001b[0;32mreturn\u001b[0m \u001b[0msocket\u001b[0m\u001b[0;34m.\u001b[0m\u001b[0msocket\u001b[0m\u001b[0;34m(\u001b[0m\u001b[0mfamily\u001b[0m\u001b[0;34m,\u001b[0m \u001b[0msocket\u001b[0m\u001b[0;34m.\u001b[0m\u001b[0mSOCK_RAW\u001b[0m\u001b[0;34m,\u001b[0m \u001b[0mproto\u001b[0m\u001b[0;34m)\u001b[0m\u001b[0;34m\u001b[0m\u001b[0;34m\u001b[0m\u001b[0m\n\u001b[0m\u001b[1;32m    172\u001b[0m \u001b[0;34m\u001b[0m\u001b[0m\n",
      "\u001b[0;32m~/anaconda3/lib/python3.7/socket.py\u001b[0m in \u001b[0;36m__init__\u001b[0;34m(self, family, type, proto, fileno)\u001b[0m\n\u001b[1;32m    150\u001b[0m                 \u001b[0mproto\u001b[0m \u001b[0;34m=\u001b[0m \u001b[0;36m0\u001b[0m\u001b[0;34m\u001b[0m\u001b[0;34m\u001b[0m\u001b[0m\n\u001b[0;32m--> 151\u001b[0;31m         \u001b[0m_socket\u001b[0m\u001b[0;34m.\u001b[0m\u001b[0msocket\u001b[0m\u001b[0;34m.\u001b[0m\u001b[0m__init__\u001b[0m\u001b[0;34m(\u001b[0m\u001b[0mself\u001b[0m\u001b[0;34m,\u001b[0m \u001b[0mfamily\u001b[0m\u001b[0;34m,\u001b[0m \u001b[0mtype\u001b[0m\u001b[0;34m,\u001b[0m \u001b[0mproto\u001b[0m\u001b[0;34m,\u001b[0m \u001b[0mfileno\u001b[0m\u001b[0;34m)\u001b[0m\u001b[0;34m\u001b[0m\u001b[0;34m\u001b[0m\u001b[0m\n\u001b[0m\u001b[1;32m    152\u001b[0m         \u001b[0mself\u001b[0m\u001b[0;34m.\u001b[0m\u001b[0m_io_refs\u001b[0m \u001b[0;34m=\u001b[0m \u001b[0;36m0\u001b[0m\u001b[0;34m\u001b[0m\u001b[0;34m\u001b[0m\u001b[0m\n",
      "\u001b[0;31mPermissionError\u001b[0m: [Errno 1] Operation not permitted",
      "\nDuring handling of the above exception, another exception occurred:\n",
      "\u001b[0;31mMultiPingError\u001b[0m                            Traceback (most recent call last)",
      "\u001b[0;32m<ipython-input-90-f3d8af4c1cf9>\u001b[0m in \u001b[0;36m<module>\u001b[0;34m\u001b[0m\n\u001b[0;32m----> 1\u001b[0;31m \u001b[0mresponses\u001b[0m\u001b[0;34m,\u001b[0m \u001b[0mno_responses\u001b[0m \u001b[0;34m=\u001b[0m \u001b[0mmulti_ping\u001b[0m\u001b[0;34m(\u001b[0m\u001b[0mips\u001b[0m\u001b[0;34m,\u001b[0m \u001b[0mtimeout\u001b[0m\u001b[0;34m=\u001b[0m\u001b[0;36m2\u001b[0m\u001b[0;34m,\u001b[0m \u001b[0mretry\u001b[0m\u001b[0;34m=\u001b[0m\u001b[0;36m3\u001b[0m\u001b[0;34m)\u001b[0m\u001b[0;34m\u001b[0m\u001b[0;34m\u001b[0m\u001b[0m\n\u001b[0m",
      "\u001b[0;32m~/anaconda3/lib/python3.7/site-packages/multiping/__init__.py\u001b[0m in \u001b[0;36mmulti_ping\u001b[0;34m(dest_addrs, timeout, retry, ignore_lookup_errors)\u001b[0m\n\u001b[1;32m    476\u001b[0m         \u001b[0;32mraise\u001b[0m \u001b[0mMultiPingError\u001b[0m\u001b[0;34m(\u001b[0m\u001b[0;34m\"Time between ping retries < 0.1 seconds\"\u001b[0m\u001b[0;34m)\u001b[0m\u001b[0;34m\u001b[0m\u001b[0;34m\u001b[0m\u001b[0m\n\u001b[1;32m    477\u001b[0m \u001b[0;34m\u001b[0m\u001b[0m\n\u001b[0;32m--> 478\u001b[0;31m     \u001b[0mmp\u001b[0m \u001b[0;34m=\u001b[0m \u001b[0mMultiPing\u001b[0m\u001b[0;34m(\u001b[0m\u001b[0mdest_addrs\u001b[0m\u001b[0;34m,\u001b[0m \u001b[0mignore_lookup_errors\u001b[0m\u001b[0;34m=\u001b[0m\u001b[0mignore_lookup_errors\u001b[0m\u001b[0;34m)\u001b[0m\u001b[0;34m\u001b[0m\u001b[0;34m\u001b[0m\u001b[0m\n\u001b[0m\u001b[1;32m    479\u001b[0m \u001b[0;34m\u001b[0m\u001b[0m\n\u001b[1;32m    480\u001b[0m     \u001b[0mresults\u001b[0m \u001b[0;34m=\u001b[0m \u001b[0;34m{\u001b[0m\u001b[0;34m}\u001b[0m\u001b[0;34m\u001b[0m\u001b[0;34m\u001b[0m\u001b[0m\n",
      "\u001b[0;32m~/anaconda3/lib/python3.7/site-packages/multiping/__init__.py\u001b[0m in \u001b[0;36m__init__\u001b[0;34m(self, dest_addrs, sock, ignore_lookup_errors)\u001b[0m\n\u001b[1;32m    154\u001b[0m             \u001b[0mself\u001b[0m\u001b[0;34m.\u001b[0m\u001b[0m_sock\u001b[0m \u001b[0;34m=\u001b[0m \u001b[0msock\u001b[0m\u001b[0;34m\u001b[0m\u001b[0;34m\u001b[0m\u001b[0m\n\u001b[1;32m    155\u001b[0m         \u001b[0;32melse\u001b[0m\u001b[0;34m:\u001b[0m\u001b[0;34m\u001b[0m\u001b[0;34m\u001b[0m\u001b[0m\n\u001b[0;32m--> 156\u001b[0;31m             \u001b[0mself\u001b[0m\u001b[0;34m.\u001b[0m\u001b[0m_sock\u001b[0m \u001b[0;34m=\u001b[0m \u001b[0mself\u001b[0m\u001b[0;34m.\u001b[0m\u001b[0m_open_icmp_socket\u001b[0m\u001b[0;34m(\u001b[0m\u001b[0msocket\u001b[0m\u001b[0;34m.\u001b[0m\u001b[0mAF_INET\u001b[0m\u001b[0;34m)\u001b[0m\u001b[0;34m\u001b[0m\u001b[0;34m\u001b[0m\u001b[0m\n\u001b[0m\u001b[1;32m    157\u001b[0m             \u001b[0mself\u001b[0m\u001b[0;34m.\u001b[0m\u001b[0m_sock\u001b[0m\u001b[0;34m.\u001b[0m\u001b[0msetsockopt\u001b[0m\u001b[0;34m(\u001b[0m\u001b[0msocket\u001b[0m\u001b[0;34m.\u001b[0m\u001b[0mSOL_SOCKET\u001b[0m\u001b[0;34m,\u001b[0m \u001b[0msocket\u001b[0m\u001b[0;34m.\u001b[0m\u001b[0mSO_RCVBUF\u001b[0m\u001b[0;34m,\u001b[0m \u001b[0;36m131072\u001b[0m\u001b[0;34m)\u001b[0m\u001b[0;34m\u001b[0m\u001b[0;34m\u001b[0m\u001b[0m\n\u001b[1;32m    158\u001b[0m             \u001b[0mself\u001b[0m\u001b[0;34m.\u001b[0m\u001b[0m_sock6\u001b[0m \u001b[0;34m=\u001b[0m \u001b[0mself\u001b[0m\u001b[0;34m.\u001b[0m\u001b[0m_open_icmp_socket\u001b[0m\u001b[0;34m(\u001b[0m\u001b[0msocket\u001b[0m\u001b[0;34m.\u001b[0m\u001b[0mAF_INET6\u001b[0m\u001b[0;34m)\u001b[0m\u001b[0;34m\u001b[0m\u001b[0;34m\u001b[0m\u001b[0m\n",
      "\u001b[0;32m~/anaconda3/lib/python3.7/site-packages/multiping/__init__.py\u001b[0m in \u001b[0;36m_open_icmp_socket\u001b[0;34m(self, family)\u001b[0m\n\u001b[1;32m    173\u001b[0m         \u001b[0;32mexcept\u001b[0m \u001b[0msocket\u001b[0m\u001b[0;34m.\u001b[0m\u001b[0merror\u001b[0m \u001b[0;32mas\u001b[0m \u001b[0me\u001b[0m\u001b[0;34m:\u001b[0m\u001b[0;34m\u001b[0m\u001b[0;34m\u001b[0m\u001b[0m\n\u001b[1;32m    174\u001b[0m             \u001b[0;32mif\u001b[0m \u001b[0me\u001b[0m\u001b[0;34m.\u001b[0m\u001b[0merrno\u001b[0m \u001b[0;34m==\u001b[0m \u001b[0;36m1\u001b[0m\u001b[0;34m:\u001b[0m\u001b[0;34m\u001b[0m\u001b[0;34m\u001b[0m\u001b[0m\n\u001b[0;32m--> 175\u001b[0;31m                 raise MultiPingError(\"Root privileges required for sending \"\n\u001b[0m\u001b[1;32m    176\u001b[0m                                      \"ICMP\")\n\u001b[1;32m    177\u001b[0m             \u001b[0;31m# Re-raise any other error\u001b[0m\u001b[0;34m\u001b[0m\u001b[0;34m\u001b[0m\u001b[0;34m\u001b[0m\u001b[0m\n",
      "\u001b[0;31mMultiPingError\u001b[0m: Root privileges required for sending ICMP"
     ]
    }
   ],
   "source": [
    "responses, no_responses = multi_ping(ips, timeout=2, retry=3)"
   ]
  },
  {
   "cell_type": "code",
   "execution_count": 91,
   "metadata": {},
   "outputs": [
    {
     "ename": "NameError",
     "evalue": "name 'responses' is not defined",
     "output_type": "error",
     "traceback": [
      "\u001b[0;31m---------------------------------------------------------------------------\u001b[0m",
      "\u001b[0;31mNameError\u001b[0m                                 Traceback (most recent call last)",
      "\u001b[0;32m<ipython-input-91-0cc425ba09a4>\u001b[0m in \u001b[0;36m<module>\u001b[0;34m\u001b[0m\n\u001b[0;32m----> 1\u001b[0;31m \u001b[0mresponses\u001b[0m\u001b[0;34m\u001b[0m\u001b[0;34m\u001b[0m\u001b[0m\n\u001b[0m",
      "\u001b[0;31mNameError\u001b[0m: name 'responses' is not defined"
     ]
    }
   ],
   "source": [
    "responses"
   ]
  },
  {
   "cell_type": "code",
   "execution_count": null,
   "metadata": {},
   "outputs": [],
   "source": []
  }
 ],
 "metadata": {
  "kernelspec": {
   "display_name": "Python 3",
   "language": "python",
   "name": "python3"
  },
  "language_info": {
   "codemirror_mode": {
    "name": "ipython",
    "version": 3
   },
   "file_extension": ".py",
   "mimetype": "text/x-python",
   "name": "python",
   "nbconvert_exporter": "python",
   "pygments_lexer": "ipython3",
   "version": "3.7.3"
  }
 },
 "nbformat": 4,
 "nbformat_minor": 2
}
